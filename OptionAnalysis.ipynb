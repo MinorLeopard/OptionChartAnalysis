{
 "cells": [
  {
   "cell_type": "markdown",
   "metadata": {},
   "source": [
    "So the data is gathered from trading view and added to use as a analysis point"
   ]
  },
  {
   "cell_type": "markdown",
   "metadata": {},
   "source": [
    "Data of 15min charts is used for alert signs and the data of 1min charts is used to check accurate Target profit points and stop loss points."
   ]
  },
  {
   "cell_type": "markdown",
   "metadata": {},
   "source": [
    "Will ignore all datasets for privacy.\n"
   ]
  },
  {
   "cell_type": "code",
   "execution_count": null,
   "metadata": {},
   "outputs": [],
   "source": []
  }
 ],
 "metadata": {
  "language_info": {
   "name": "python"
  }
 },
 "nbformat": 4,
 "nbformat_minor": 2
}
