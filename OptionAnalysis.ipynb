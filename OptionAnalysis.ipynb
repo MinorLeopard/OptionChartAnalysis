{
 "cells": [
  {
   "cell_type": "markdown",
   "metadata": {},
   "source": [
    "So the data is gathered from trading view and added to use as a analysis point"
   ]
  },
  {
   "cell_type": "markdown",
   "metadata": {},
   "source": [
    "Data of 15min charts is used for alert signs and the data of 1min charts is used to check accurate Target profit points and stop loss points."
   ]
  },
  {
   "cell_type": "markdown",
   "metadata": {},
   "source": [
    "Will ignore all datasets for privacy.\n"
   ]
  },
  {
   "cell_type": "code",
   "execution_count": null,
   "metadata": {},
   "outputs": [],
   "source": [
    "import pandas as pd\n",
    "\n",
    "# Load the CSV files\n",
    "minute_data_c23400 = pd.read_csv('/mnt/data/NSE_NIFTY240620C23400, 1.csv')\n",
    "minute_data_15_c23400 = pd.read_csv('/mnt/data/NSE_NIFTY240620C23400, 15.csv')\n",
    "\n",
    "# Filter buy signals\n",
    "def filter_signals(data):\n",
    "    buy_signals = data[(data['Original Buy Signal'] == True) & (data['Short Signal'] == False)]\n",
    "    return buy_signals\n",
    "\n",
    "buy_signals = filter_signals(minute_data_15_c23400)\n",
    "\n",
    "# Simulate trades\n",
    "def simulate_trades(buy_signals, minute_data, profit_target=0.02, stop_loss=0.01, min_stop_loss=0.005):\n",
    "    results = []\n",
    "    for index, buy_signal in buy_signals.iterrows():\n",
    "        entry_price = buy_signal['close']\n",
    "        entry_time = buy_signal['time']\n",
    "        profit_price = entry_price * (1 + profit_target)\n",
    "        stop_price = entry_price * (1 - max(stop_loss, min_stop_loss))  # Ensure stop loss is at least min_stop_loss\n",
    "        \n",
    "        trade_result = {\n",
    "            'entry_time': entry_time,\n",
    "            'entry_price': entry_price,\n",
    "            'exit_time': None,\n",
    "            'exit_price': None,\n",
    "            'profit': None\n",
    "        }\n",
    "        \n",
    "        subsequent_data = minute_data[minute_data['time'] > entry_time]\n",
    "        for _, row in subsequent_data.iterrows():\n",
    "            if row['high'] >= profit_price:\n",
    "                trade_result['exit_time'] = row['time']\n",
    "                trade_result['exit_price'] = profit_price\n",
    "                trade_result['profit'] = profit_price - entry_price\n",
    "                break\n",
    "            if row['low'] <= stop_price:\n",
    "                trade_result['exit_time'] = row['time']\n",
    "                trade_result['exit_price'] = stop_price\n",
    "                trade_result['profit'] = stop_price - entry_price\n",
    "                break\n",
    "        \n",
    "        results.append(trade_result)\n",
    "    \n",
    "    return pd.DataFrame(results)\n",
    "\n"
   ]
  },
  {
   "cell_type": "markdown",
   "metadata": {},
   "source": [
    "Analye the results now"
   ]
  },
  {
   "cell_type": "code",
   "execution_count": null,
   "metadata": {},
   "outputs": [],
   "source": [
    "\n",
    "# Analyze different profit and stop loss percentages\n",
    "def analyze_profit_and_stop_loss(buy_signals, minute_data, profit_percentages, stop_loss_percentages, min_stop_loss=0.005):\n",
    "    analysis_results = []\n",
    "    for profit_target in profit_percentages:\n",
    "        for stop_loss in stop_loss_percentages:\n",
    "            trade_results = simulate_trades(buy_signals, minute_data, profit_target, stop_loss, min_stop_loss)\n",
    "            total_profit = trade_results['profit'].sum()\n",
    "            analysis_results.append((profit_target, stop_loss, total_profit))\n",
    "    return pd.DataFrame(analysis_results, columns=['Profit Target', 'Stop Loss', 'Total Profit'])\n",
    "\n",
    "# Define profit percentages and stop loss percentages to analyze\n",
    "profit_percentages = [i/100 for i in range(1, 6)]\n",
    "stop_loss_percentages = [i/100 for i in range(1, 6)]\n",
    "\n",
    "# Perform the analysis\n",
    "analysis_results = analyze_profit_and_stop_loss(buy_signals, minute_data_c23400, profit_percentages, stop_loss_percentages)\n"
   ]
  },
  {
   "cell_type": "markdown",
   "metadata": {},
   "source": [
    "Store them as CSV and printout for visulaisation"
   ]
  },
  {
   "cell_type": "code",
   "execution_count": null,
   "metadata": {},
   "outputs": [],
   "source": [
    "# Save the results to a CSV file\n",
    "analysis_results.to_csv('/mnt/data/profit_stop_loss_analysis.csv', index=False)\n",
    "\n",
    "import ace_tools as tools; tools.display_dataframe_to_user(name=\"Profit and Stop Loss Analysis\", dataframe=analysis_results)\n"
   ]
  }
 ],
 "metadata": {
  "kernelspec": {
   "display_name": "Python 3",
   "language": "python",
   "name": "python3"
  },
  "language_info": {
   "name": "python",
   "version": "3.11.4"
  }
 },
 "nbformat": 4,
 "nbformat_minor": 2
}
