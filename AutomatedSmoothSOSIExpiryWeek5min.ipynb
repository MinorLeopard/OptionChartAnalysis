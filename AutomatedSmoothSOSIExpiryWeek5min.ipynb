{
 "cells": [
  {
   "cell_type": "markdown",
   "metadata": {},
   "source": [
    "This includes all possible conditions and scenarios of best pnl combo for buy signs of smooth sosi, in the 5 min chart timeframe."
   ]
  },
  {
   "cell_type": "code",
   "execution_count": 2,
   "metadata": {},
   "outputs": [
    {
     "name": "stdout",
     "output_type": "stream",
     "text": [
      "Processing NSE_NIFTY240627C23500, 5.csv in NIFTY with condition buy_signal_1...\n",
      "Warning: 'Buy Signal (VOLD above 0 and SOSI above 0)' column not found in the data. Skipping this file.\n",
      "No buy signals found before 9:30 AM IST for NSE_NIFTY240627C23500, 5.csv. Skipping...\n",
      "Processing NSE_NIFTY240627C23600, 5.csv in NIFTY with condition buy_signal_1...\n",
      "Warning: 'Buy Signal (VOLD above 0 and SOSI above 0)' column not found in the data. Skipping this file.\n",
      "No buy signals found before 9:30 AM IST for NSE_NIFTY240627C23600, 5.csv. Skipping...\n",
      "Processing NSE_NIFTY240627C23700, 5.csv in NIFTY with condition buy_signal_1...\n",
      "Warning: 'Buy Signal (VOLD above 0 and SOSI above 0)' column not found in the data. Skipping this file.\n",
      "No buy signals found before 9:30 AM IST for NSE_NIFTY240627C23700, 5.csv. Skipping...\n",
      "Processing NSE_NIFTY240627C23750, 5.csv in NIFTY with condition buy_signal_1...\n",
      "Warning: 'Buy Signal (VOLD above 0 and SOSI above 0)' column not found in the data. Skipping this file.\n",
      "No buy signals found before 9:30 AM IST for NSE_NIFTY240627C23750, 5.csv. Skipping...\n",
      "Processing NSE_NIFTY240627C23800, 5.csv in NIFTY with condition buy_signal_1...\n",
      "Warning: 'Buy Signal (VOLD above 0 and SOSI above 0)' column not found in the data. Skipping this file.\n",
      "No buy signals found before 9:30 AM IST for NSE_NIFTY240627C23800, 5.csv. Skipping...\n",
      "Processing NSE_NIFTY240627P23600, 5.csv in NIFTY with condition buy_signal_1...\n",
      "Warning: 'Buy Signal (VOLD above 0 and SOSI above 0)' column not found in the data. Skipping this file.\n",
      "No buy signals found before 9:30 AM IST for NSE_NIFTY240627P23600, 5.csv. Skipping...\n",
      "Processing NSE_NIFTY240627P23700, 5.csv in NIFTY with condition buy_signal_1...\n",
      "Warning: 'Buy Signal (VOLD above 0 and SOSI above 0)' column not found in the data. Skipping this file.\n",
      "No buy signals found before 9:30 AM IST for NSE_NIFTY240627P23700, 5.csv. Skipping...\n",
      "Processing NSE_NIFTY240627P23800, 5.csv in NIFTY with condition buy_signal_1...\n",
      "Warning: 'Buy Signal (VOLD above 0 and SOSI above 0)' column not found in the data. Skipping this file.\n",
      "No buy signals found before 9:30 AM IST for NSE_NIFTY240627P23800, 5.csv. Skipping...\n",
      "Processing NSE_NIFTY240704C23800, 5.csv in NIFTY with condition buy_signal_1...\n",
      "Warning: 'Buy Signal (VOLD above 0 and SOSI above 0)' column not found in the data. Skipping this file.\n",
      "No buy signals found before 9:30 AM IST for NSE_NIFTY240704C23800, 5.csv. Skipping...\n",
      "Processing NSE_NIFTY240704C23900, 5.csv in NIFTY with condition buy_signal_1...\n",
      "Warning: 'Buy Signal (VOLD above 0 and SOSI above 0)' column not found in the data. Skipping this file.\n",
      "No buy signals found before 9:30 AM IST for NSE_NIFTY240704C23900, 5.csv. Skipping...\n",
      "Processing NSE_NIFTY240704C24000, 5.csv in NIFTY with condition buy_signal_1...\n",
      "Warning: 'Buy Signal (VOLD above 0 and SOSI above 0)' column not found in the data. Skipping this file.\n",
      "No buy signals found before 9:30 AM IST for NSE_NIFTY240704C24000, 5.csv. Skipping...\n",
      "Processing NSE_NIFTY240704C24050, 5.csv in NIFTY with condition buy_signal_1...\n",
      "Warning: 'Buy Signal (VOLD above 0 and SOSI above 0)' column not found in the data. Skipping this file.\n",
      "No buy signals found before 9:30 AM IST for NSE_NIFTY240704C24050, 5.csv. Skipping...\n",
      "Processing NSE_NIFTY240704C24100, 5.csv in NIFTY with condition buy_signal_1...\n",
      "Warning: 'Buy Signal (VOLD above 0 and SOSI above 0)' column not found in the data. Skipping this file.\n",
      "No buy signals found before 9:30 AM IST for NSE_NIFTY240704C24100, 5.csv. Skipping...\n",
      "Processing NSE_NIFTY240704C24150, 5.csv in NIFTY with condition buy_signal_1...\n",
      "Warning: 'Buy Signal (VOLD above 0 and SOSI above 0)' column not found in the data. Skipping this file.\n",
      "No buy signals found before 9:30 AM IST for NSE_NIFTY240704C24150, 5.csv. Skipping...\n",
      "Processing NSE_NIFTY240704C24200, 5.csv in NIFTY with condition buy_signal_1...\n",
      "Warning: 'Buy Signal (VOLD above 0 and SOSI above 0)' column not found in the data. Skipping this file.\n",
      "No buy signals found before 9:30 AM IST for NSE_NIFTY240704C24200, 5.csv. Skipping...\n",
      "Processing NSE_NIFTY240704C24250, 5.csv in NIFTY with condition buy_signal_1...\n",
      "Warning: 'Buy Signal (VOLD above 0 and SOSI above 0)' column not found in the data. Skipping this file.\n",
      "No buy signals found before 9:30 AM IST for NSE_NIFTY240704C24250, 5.csv. Skipping...\n",
      "Processing NSE_NIFTY240704C24300, 5.csv in NIFTY with condition buy_signal_1...\n",
      "Warning: 'Buy Signal (VOLD above 0 and SOSI above 0)' column not found in the data. Skipping this file.\n",
      "No buy signals found before 9:30 AM IST for NSE_NIFTY240704C24300, 5.csv. Skipping...\n",
      "Processing NSE_NIFTY240704P23800, 5.csv in NIFTY with condition buy_signal_1...\n",
      "Warning: 'Buy Signal (VOLD above 0 and SOSI above 0)' column not found in the data. Skipping this file.\n",
      "No buy signals found before 9:30 AM IST for NSE_NIFTY240704P23800, 5.csv. Skipping...\n",
      "Processing NSE_NIFTY240704P23900, 5.csv in NIFTY with condition buy_signal_1...\n",
      "Warning: 'Buy Signal (VOLD above 0 and SOSI above 0)' column not found in the data. Skipping this file.\n",
      "No buy signals found before 9:30 AM IST for NSE_NIFTY240704P23900, 5.csv. Skipping...\n",
      "Processing NSE_NIFTY240704P24000, 5.csv in NIFTY with condition buy_signal_1...\n",
      "Warning: 'Buy Signal (VOLD above 0 and SOSI above 0)' column not found in the data. Skipping this file.\n",
      "No buy signals found before 9:30 AM IST for NSE_NIFTY240704P24000, 5.csv. Skipping...\n",
      "Processing NSE_NIFTY240704P24100, 5.csv in NIFTY with condition buy_signal_1...\n",
      "Warning: 'Buy Signal (VOLD above 0 and SOSI above 0)' column not found in the data. Skipping this file.\n",
      "No buy signals found before 9:30 AM IST for NSE_NIFTY240704P24100, 5.csv. Skipping...\n",
      "Processing NSE_NIFTY240704P24150, 5.csv in NIFTY with condition buy_signal_1...\n",
      "Warning: 'Buy Signal (VOLD above 0 and SOSI above 0)' column not found in the data. Skipping this file.\n",
      "No buy signals found before 9:30 AM IST for NSE_NIFTY240704P24150, 5.csv. Skipping...\n",
      "Processing NSE_NIFTY240704P24200, 5.csv in NIFTY with condition buy_signal_1...\n",
      "Warning: 'Buy Signal (VOLD above 0 and SOSI above 0)' column not found in the data. Skipping this file.\n",
      "No buy signals found before 9:30 AM IST for NSE_NIFTY240704P24200, 5.csv. Skipping...\n",
      "Processing NSE_NIFTY240704P24300, 5.csv in NIFTY with condition buy_signal_1...\n",
      "Warning: 'Buy Signal (VOLD above 0 and SOSI above 0)' column not found in the data. Skipping this file.\n",
      "No buy signals found before 9:30 AM IST for NSE_NIFTY240704P24300, 5.csv. Skipping...\n",
      "Processing NSE_NIFTY240711C24200, 5.csv in NIFTY with condition buy_signal_1...\n"
     ]
    },
    {
     "name": "stderr",
     "output_type": "stream",
     "text": [
      "C:\\temp\\ipykernel_12308\\1528594928.py:224: SettingWithCopyWarning: \n",
      "A value is trying to be set on a copy of a slice from a DataFrame.\n",
      "Try using .loc[row_indexer,col_indexer] = value instead\n",
      "\n",
      "See the caveats in the documentation: https://pandas.pydata.org/pandas-docs/stable/user_guide/indexing.html#returning-a-view-versus-a-copy\n",
      "  buy_signals_below_9_30['time_ist'] = pd.to_datetime(buy_signals_below_9_30['time'], unit='s') + timedelta(hours=5, minutes=30)\n"
     ]
    },
    {
     "name": "stdout",
     "output_type": "stream",
     "text": [
      "Processing NSE_NIFTY240711C24300, 5.csv in NIFTY with condition buy_signal_1...\n"
     ]
    },
    {
     "name": "stderr",
     "output_type": "stream",
     "text": [
      "C:\\temp\\ipykernel_12308\\1528594928.py:224: SettingWithCopyWarning: \n",
      "A value is trying to be set on a copy of a slice from a DataFrame.\n",
      "Try using .loc[row_indexer,col_indexer] = value instead\n",
      "\n",
      "See the caveats in the documentation: https://pandas.pydata.org/pandas-docs/stable/user_guide/indexing.html#returning-a-view-versus-a-copy\n",
      "  buy_signals_below_9_30['time_ist'] = pd.to_datetime(buy_signals_below_9_30['time'], unit='s') + timedelta(hours=5, minutes=30)\n"
     ]
    },
    {
     "name": "stdout",
     "output_type": "stream",
     "text": [
      "Processing NSE_NIFTY240711C24350, 5.csv in NIFTY with condition buy_signal_1...\n"
     ]
    },
    {
     "name": "stderr",
     "output_type": "stream",
     "text": [
      "C:\\temp\\ipykernel_12308\\1528594928.py:224: SettingWithCopyWarning: \n",
      "A value is trying to be set on a copy of a slice from a DataFrame.\n",
      "Try using .loc[row_indexer,col_indexer] = value instead\n",
      "\n",
      "See the caveats in the documentation: https://pandas.pydata.org/pandas-docs/stable/user_guide/indexing.html#returning-a-view-versus-a-copy\n",
      "  buy_signals_below_9_30['time_ist'] = pd.to_datetime(buy_signals_below_9_30['time'], unit='s') + timedelta(hours=5, minutes=30)\n"
     ]
    },
    {
     "name": "stdout",
     "output_type": "stream",
     "text": [
      "No trades were executed.\n",
      "No trades were executed.\n",
      "No trades were executed.\n",
      "No trades were executed.\n",
      "No trades were executed.\n",
      "Processing NSE_NIFTY240711C24400, 5.csv in NIFTY with condition buy_signal_1...\n"
     ]
    },
    {
     "name": "stderr",
     "output_type": "stream",
     "text": [
      "C:\\temp\\ipykernel_12308\\1528594928.py:224: SettingWithCopyWarning: \n",
      "A value is trying to be set on a copy of a slice from a DataFrame.\n",
      "Try using .loc[row_indexer,col_indexer] = value instead\n",
      "\n",
      "See the caveats in the documentation: https://pandas.pydata.org/pandas-docs/stable/user_guide/indexing.html#returning-a-view-versus-a-copy\n",
      "  buy_signals_below_9_30['time_ist'] = pd.to_datetime(buy_signals_below_9_30['time'], unit='s') + timedelta(hours=5, minutes=30)\n"
     ]
    },
    {
     "name": "stdout",
     "output_type": "stream",
     "text": [
      "Processing NSE_NIFTY240711C24500, 5.csv in NIFTY with condition buy_signal_1...\n"
     ]
    },
    {
     "name": "stderr",
     "output_type": "stream",
     "text": [
      "C:\\temp\\ipykernel_12308\\1528594928.py:224: SettingWithCopyWarning: \n",
      "A value is trying to be set on a copy of a slice from a DataFrame.\n",
      "Try using .loc[row_indexer,col_indexer] = value instead\n",
      "\n",
      "See the caveats in the documentation: https://pandas.pydata.org/pandas-docs/stable/user_guide/indexing.html#returning-a-view-versus-a-copy\n",
      "  buy_signals_below_9_30['time_ist'] = pd.to_datetime(buy_signals_below_9_30['time'], unit='s') + timedelta(hours=5, minutes=30)\n"
     ]
    },
    {
     "name": "stdout",
     "output_type": "stream",
     "text": [
      "Processing NSE_NIFTY240711P24200, 5.csv in NIFTY with condition buy_signal_1...\n"
     ]
    },
    {
     "name": "stderr",
     "output_type": "stream",
     "text": [
      "C:\\temp\\ipykernel_12308\\1528594928.py:224: SettingWithCopyWarning: \n",
      "A value is trying to be set on a copy of a slice from a DataFrame.\n",
      "Try using .loc[row_indexer,col_indexer] = value instead\n",
      "\n",
      "See the caveats in the documentation: https://pandas.pydata.org/pandas-docs/stable/user_guide/indexing.html#returning-a-view-versus-a-copy\n",
      "  buy_signals_below_9_30['time_ist'] = pd.to_datetime(buy_signals_below_9_30['time'], unit='s') + timedelta(hours=5, minutes=30)\n"
     ]
    },
    {
     "name": "stdout",
     "output_type": "stream",
     "text": [
      "No trades were executed.\n",
      "No trades were executed.\n",
      "No trades were executed.\n",
      "No trades were executed.\n",
      "No trades were executed.\n",
      "Processing NSE_NIFTY240711P24300, 5.csv in NIFTY with condition buy_signal_1...\n"
     ]
    },
    {
     "name": "stderr",
     "output_type": "stream",
     "text": [
      "C:\\temp\\ipykernel_12308\\1528594928.py:224: SettingWithCopyWarning: \n",
      "A value is trying to be set on a copy of a slice from a DataFrame.\n",
      "Try using .loc[row_indexer,col_indexer] = value instead\n",
      "\n",
      "See the caveats in the documentation: https://pandas.pydata.org/pandas-docs/stable/user_guide/indexing.html#returning-a-view-versus-a-copy\n",
      "  buy_signals_below_9_30['time_ist'] = pd.to_datetime(buy_signals_below_9_30['time'], unit='s') + timedelta(hours=5, minutes=30)\n"
     ]
    },
    {
     "name": "stdout",
     "output_type": "stream",
     "text": [
      "Processing NSE_NIFTY240711P24400, 5.csv in NIFTY with condition buy_signal_1...\n",
      "No trades were executed.\n",
      "No trades were executed.\n",
      "No trades were executed.\n",
      "No trades were executed.\n",
      "No trades were executed.\n"
     ]
    },
    {
     "name": "stderr",
     "output_type": "stream",
     "text": [
      "C:\\temp\\ipykernel_12308\\1528594928.py:224: SettingWithCopyWarning: \n",
      "A value is trying to be set on a copy of a slice from a DataFrame.\n",
      "Try using .loc[row_indexer,col_indexer] = value instead\n",
      "\n",
      "See the caveats in the documentation: https://pandas.pydata.org/pandas-docs/stable/user_guide/indexing.html#returning-a-view-versus-a-copy\n",
      "  buy_signals_below_9_30['time_ist'] = pd.to_datetime(buy_signals_below_9_30['time'], unit='s') + timedelta(hours=5, minutes=30)\n",
      "C:\\temp\\ipykernel_12308\\1528594928.py:266: FutureWarning: The behavior of DataFrame concatenation with empty or all-NA entries is deprecated. In a future version, this will no longer exclude empty or all-NA columns when determining the result dtypes. To retain the old behavior, exclude the relevant entries before the concat operation.\n",
      "  combined_pnl_results_below_9_30 = pd.concat(pnl_results_below_9_30, ignore_index=True)\n",
      "C:\\temp\\ipykernel_12308\\1528594928.py:268: FutureWarning: The behavior of DataFrame concatenation with empty or all-NA entries is deprecated. In a future version, this will no longer exclude empty or all-NA columns when determining the result dtypes. To retain the old behavior, exclude the relevant entries before the concat operation.\n",
      "  combined_trade_results_below_9_30 = pd.concat(trade_results_combined_below_9_30, ignore_index=True)\n",
      "C:\\temp\\ipykernel_12308\\1528594928.py:269: FutureWarning: The behavior of DataFrame concatenation with empty or all-NA entries is deprecated. In a future version, this will no longer exclude empty or all-NA columns when determining the result dtypes. To retain the old behavior, exclude the relevant entries before the concat operation.\n",
      "  combined_all_results_below_9_30 = pd.concat(all_combined_results_below_9_30, ignore_index=True)\n"
     ]
    },
    {
     "name": "stdout",
     "output_type": "stream",
     "text": [
      "Processing NSE_NIFTY240627C23500, 5.csv in NIFTY with condition buy_signal_2...\n",
      "Warning: 'Buy Signal (VOLD above 0 and SOSI above 0)' column not found in the data. Skipping this file.\n",
      "No buy signals found before 9:30 AM IST for NSE_NIFTY240627C23500, 5.csv. Skipping...\n",
      "Processing NSE_NIFTY240627C23600, 5.csv in NIFTY with condition buy_signal_2...\n",
      "Warning: 'Buy Signal (VOLD above 0 and SOSI above 0)' column not found in the data. Skipping this file.\n",
      "No buy signals found before 9:30 AM IST for NSE_NIFTY240627C23600, 5.csv. Skipping...\n",
      "Processing NSE_NIFTY240627C23700, 5.csv in NIFTY with condition buy_signal_2...\n",
      "Warning: 'Buy Signal (VOLD above 0 and SOSI above 0)' column not found in the data. Skipping this file.\n",
      "No buy signals found before 9:30 AM IST for NSE_NIFTY240627C23700, 5.csv. Skipping...\n",
      "Processing NSE_NIFTY240627C23750, 5.csv in NIFTY with condition buy_signal_2...\n",
      "Warning: 'Buy Signal (VOLD above 0 and SOSI above 0)' column not found in the data. Skipping this file.\n",
      "No buy signals found before 9:30 AM IST for NSE_NIFTY240627C23750, 5.csv. Skipping...\n",
      "Processing NSE_NIFTY240627C23800, 5.csv in NIFTY with condition buy_signal_2...\n",
      "Warning: 'Buy Signal (VOLD above 0 and SOSI above 0)' column not found in the data. Skipping this file.\n",
      "No buy signals found before 9:30 AM IST for NSE_NIFTY240627C23800, 5.csv. Skipping...\n",
      "Processing NSE_NIFTY240627P23600, 5.csv in NIFTY with condition buy_signal_2...\n",
      "Warning: 'Buy Signal (VOLD above 0 and SOSI above 0)' column not found in the data. Skipping this file.\n",
      "No buy signals found before 9:30 AM IST for NSE_NIFTY240627P23600, 5.csv. Skipping...\n",
      "Processing NSE_NIFTY240627P23700, 5.csv in NIFTY with condition buy_signal_2...\n",
      "Warning: 'Buy Signal (VOLD above 0 and SOSI above 0)' column not found in the data. Skipping this file.\n",
      "No buy signals found before 9:30 AM IST for NSE_NIFTY240627P23700, 5.csv. Skipping...\n",
      "Processing NSE_NIFTY240627P23800, 5.csv in NIFTY with condition buy_signal_2...\n",
      "Warning: 'Buy Signal (VOLD above 0 and SOSI above 0)' column not found in the data. Skipping this file.\n",
      "No buy signals found before 9:30 AM IST for NSE_NIFTY240627P23800, 5.csv. Skipping...\n",
      "Processing NSE_NIFTY240704C23800, 5.csv in NIFTY with condition buy_signal_2...\n",
      "Warning: 'Buy Signal (VOLD above 0 and SOSI above 0)' column not found in the data. Skipping this file.\n",
      "No buy signals found before 9:30 AM IST for NSE_NIFTY240704C23800, 5.csv. Skipping...\n",
      "Processing NSE_NIFTY240704C23900, 5.csv in NIFTY with condition buy_signal_2...\n",
      "Warning: 'Buy Signal (VOLD above 0 and SOSI above 0)' column not found in the data. Skipping this file.\n",
      "No buy signals found before 9:30 AM IST for NSE_NIFTY240704C23900, 5.csv. Skipping...\n",
      "Processing NSE_NIFTY240704C24000, 5.csv in NIFTY with condition buy_signal_2...\n",
      "Warning: 'Buy Signal (VOLD above 0 and SOSI above 0)' column not found in the data. Skipping this file.\n",
      "No buy signals found before 9:30 AM IST for NSE_NIFTY240704C24000, 5.csv. Skipping...\n",
      "Processing NSE_NIFTY240704C24050, 5.csv in NIFTY with condition buy_signal_2...\n",
      "Warning: 'Buy Signal (VOLD above 0 and SOSI above 0)' column not found in the data. Skipping this file.\n",
      "No buy signals found before 9:30 AM IST for NSE_NIFTY240704C24050, 5.csv. Skipping...\n",
      "Processing NSE_NIFTY240704C24100, 5.csv in NIFTY with condition buy_signal_2...\n",
      "Warning: 'Buy Signal (VOLD above 0 and SOSI above 0)' column not found in the data. Skipping this file.\n",
      "No buy signals found before 9:30 AM IST for NSE_NIFTY240704C24100, 5.csv. Skipping...\n",
      "Processing NSE_NIFTY240704C24150, 5.csv in NIFTY with condition buy_signal_2...\n",
      "Warning: 'Buy Signal (VOLD above 0 and SOSI above 0)' column not found in the data. Skipping this file.\n",
      "No buy signals found before 9:30 AM IST for NSE_NIFTY240704C24150, 5.csv. Skipping...\n",
      "Processing NSE_NIFTY240704C24200, 5.csv in NIFTY with condition buy_signal_2...\n",
      "Warning: 'Buy Signal (VOLD above 0 and SOSI above 0)' column not found in the data. Skipping this file.\n",
      "No buy signals found before 9:30 AM IST for NSE_NIFTY240704C24200, 5.csv. Skipping...\n",
      "Processing NSE_NIFTY240704C24250, 5.csv in NIFTY with condition buy_signal_2...\n",
      "Warning: 'Buy Signal (VOLD above 0 and SOSI above 0)' column not found in the data. Skipping this file.\n",
      "No buy signals found before 9:30 AM IST for NSE_NIFTY240704C24250, 5.csv. Skipping...\n",
      "Processing NSE_NIFTY240704C24300, 5.csv in NIFTY with condition buy_signal_2...\n",
      "Warning: 'Buy Signal (VOLD above 0 and SOSI above 0)' column not found in the data. Skipping this file.\n",
      "No buy signals found before 9:30 AM IST for NSE_NIFTY240704C24300, 5.csv. Skipping...\n",
      "Processing NSE_NIFTY240704P23800, 5.csv in NIFTY with condition buy_signal_2...\n",
      "Warning: 'Buy Signal (VOLD above 0 and SOSI above 0)' column not found in the data. Skipping this file.\n",
      "No buy signals found before 9:30 AM IST for NSE_NIFTY240704P23800, 5.csv. Skipping...\n",
      "Processing NSE_NIFTY240704P23900, 5.csv in NIFTY with condition buy_signal_2...\n",
      "Warning: 'Buy Signal (VOLD above 0 and SOSI above 0)' column not found in the data. Skipping this file.\n",
      "No buy signals found before 9:30 AM IST for NSE_NIFTY240704P23900, 5.csv. Skipping...\n",
      "Processing NSE_NIFTY240704P24000, 5.csv in NIFTY with condition buy_signal_2...\n",
      "Warning: 'Buy Signal (VOLD above 0 and SOSI above 0)' column not found in the data. Skipping this file.\n",
      "No buy signals found before 9:30 AM IST for NSE_NIFTY240704P24000, 5.csv. Skipping...\n",
      "Processing NSE_NIFTY240704P24100, 5.csv in NIFTY with condition buy_signal_2...\n",
      "Warning: 'Buy Signal (VOLD above 0 and SOSI above 0)' column not found in the data. Skipping this file.\n",
      "No buy signals found before 9:30 AM IST for NSE_NIFTY240704P24100, 5.csv. Skipping...\n",
      "Processing NSE_NIFTY240704P24150, 5.csv in NIFTY with condition buy_signal_2...\n",
      "Warning: 'Buy Signal (VOLD above 0 and SOSI above 0)' column not found in the data. Skipping this file.\n",
      "No buy signals found before 9:30 AM IST for NSE_NIFTY240704P24150, 5.csv. Skipping...\n",
      "Processing NSE_NIFTY240704P24200, 5.csv in NIFTY with condition buy_signal_2...\n",
      "Warning: 'Buy Signal (VOLD above 0 and SOSI above 0)' column not found in the data. Skipping this file.\n",
      "No buy signals found before 9:30 AM IST for NSE_NIFTY240704P24200, 5.csv. Skipping...\n",
      "Processing NSE_NIFTY240704P24300, 5.csv in NIFTY with condition buy_signal_2...\n",
      "Warning: 'Buy Signal (VOLD above 0 and SOSI above 0)' column not found in the data. Skipping this file.\n",
      "No buy signals found before 9:30 AM IST for NSE_NIFTY240704P24300, 5.csv. Skipping...\n",
      "Processing NSE_NIFTY240711C24200, 5.csv in NIFTY with condition buy_signal_2...\n"
     ]
    },
    {
     "name": "stderr",
     "output_type": "stream",
     "text": [
      "C:\\temp\\ipykernel_12308\\1528594928.py:224: SettingWithCopyWarning: \n",
      "A value is trying to be set on a copy of a slice from a DataFrame.\n",
      "Try using .loc[row_indexer,col_indexer] = value instead\n",
      "\n",
      "See the caveats in the documentation: https://pandas.pydata.org/pandas-docs/stable/user_guide/indexing.html#returning-a-view-versus-a-copy\n",
      "  buy_signals_below_9_30['time_ist'] = pd.to_datetime(buy_signals_below_9_30['time'], unit='s') + timedelta(hours=5, minutes=30)\n"
     ]
    },
    {
     "name": "stdout",
     "output_type": "stream",
     "text": [
      "Processing NSE_NIFTY240711C24300, 5.csv in NIFTY with condition buy_signal_2...\n"
     ]
    },
    {
     "name": "stderr",
     "output_type": "stream",
     "text": [
      "C:\\temp\\ipykernel_12308\\1528594928.py:224: SettingWithCopyWarning: \n",
      "A value is trying to be set on a copy of a slice from a DataFrame.\n",
      "Try using .loc[row_indexer,col_indexer] = value instead\n",
      "\n",
      "See the caveats in the documentation: https://pandas.pydata.org/pandas-docs/stable/user_guide/indexing.html#returning-a-view-versus-a-copy\n",
      "  buy_signals_below_9_30['time_ist'] = pd.to_datetime(buy_signals_below_9_30['time'], unit='s') + timedelta(hours=5, minutes=30)\n"
     ]
    },
    {
     "name": "stdout",
     "output_type": "stream",
     "text": [
      "Processing NSE_NIFTY240711C24350, 5.csv in NIFTY with condition buy_signal_2...\n",
      "No trades were executed.\n",
      "No trades were executed.\n",
      "No trades were executed.\n",
      "No trades were executed.\n",
      "No trades were executed.\n"
     ]
    },
    {
     "name": "stderr",
     "output_type": "stream",
     "text": [
      "C:\\temp\\ipykernel_12308\\1528594928.py:224: SettingWithCopyWarning: \n",
      "A value is trying to be set on a copy of a slice from a DataFrame.\n",
      "Try using .loc[row_indexer,col_indexer] = value instead\n",
      "\n",
      "See the caveats in the documentation: https://pandas.pydata.org/pandas-docs/stable/user_guide/indexing.html#returning-a-view-versus-a-copy\n",
      "  buy_signals_below_9_30['time_ist'] = pd.to_datetime(buy_signals_below_9_30['time'], unit='s') + timedelta(hours=5, minutes=30)\n"
     ]
    },
    {
     "name": "stdout",
     "output_type": "stream",
     "text": [
      "Processing NSE_NIFTY240711C24400, 5.csv in NIFTY with condition buy_signal_2...\n"
     ]
    },
    {
     "name": "stderr",
     "output_type": "stream",
     "text": [
      "C:\\temp\\ipykernel_12308\\1528594928.py:224: SettingWithCopyWarning: \n",
      "A value is trying to be set on a copy of a slice from a DataFrame.\n",
      "Try using .loc[row_indexer,col_indexer] = value instead\n",
      "\n",
      "See the caveats in the documentation: https://pandas.pydata.org/pandas-docs/stable/user_guide/indexing.html#returning-a-view-versus-a-copy\n",
      "  buy_signals_below_9_30['time_ist'] = pd.to_datetime(buy_signals_below_9_30['time'], unit='s') + timedelta(hours=5, minutes=30)\n"
     ]
    },
    {
     "name": "stdout",
     "output_type": "stream",
     "text": [
      "Processing NSE_NIFTY240711C24500, 5.csv in NIFTY with condition buy_signal_2...\n"
     ]
    },
    {
     "name": "stderr",
     "output_type": "stream",
     "text": [
      "C:\\temp\\ipykernel_12308\\1528594928.py:224: SettingWithCopyWarning: \n",
      "A value is trying to be set on a copy of a slice from a DataFrame.\n",
      "Try using .loc[row_indexer,col_indexer] = value instead\n",
      "\n",
      "See the caveats in the documentation: https://pandas.pydata.org/pandas-docs/stable/user_guide/indexing.html#returning-a-view-versus-a-copy\n",
      "  buy_signals_below_9_30['time_ist'] = pd.to_datetime(buy_signals_below_9_30['time'], unit='s') + timedelta(hours=5, minutes=30)\n"
     ]
    },
    {
     "name": "stdout",
     "output_type": "stream",
     "text": [
      "Processing NSE_NIFTY240711P24200, 5.csv in NIFTY with condition buy_signal_2...\n"
     ]
    },
    {
     "name": "stderr",
     "output_type": "stream",
     "text": [
      "C:\\temp\\ipykernel_12308\\1528594928.py:224: SettingWithCopyWarning: \n",
      "A value is trying to be set on a copy of a slice from a DataFrame.\n",
      "Try using .loc[row_indexer,col_indexer] = value instead\n",
      "\n",
      "See the caveats in the documentation: https://pandas.pydata.org/pandas-docs/stable/user_guide/indexing.html#returning-a-view-versus-a-copy\n",
      "  buy_signals_below_9_30['time_ist'] = pd.to_datetime(buy_signals_below_9_30['time'], unit='s') + timedelta(hours=5, minutes=30)\n"
     ]
    },
    {
     "name": "stdout",
     "output_type": "stream",
     "text": [
      "Processing NSE_NIFTY240711P24300, 5.csv in NIFTY with condition buy_signal_2...\n"
     ]
    },
    {
     "name": "stderr",
     "output_type": "stream",
     "text": [
      "C:\\temp\\ipykernel_12308\\1528594928.py:224: SettingWithCopyWarning: \n",
      "A value is trying to be set on a copy of a slice from a DataFrame.\n",
      "Try using .loc[row_indexer,col_indexer] = value instead\n",
      "\n",
      "See the caveats in the documentation: https://pandas.pydata.org/pandas-docs/stable/user_guide/indexing.html#returning-a-view-versus-a-copy\n",
      "  buy_signals_below_9_30['time_ist'] = pd.to_datetime(buy_signals_below_9_30['time'], unit='s') + timedelta(hours=5, minutes=30)\n"
     ]
    },
    {
     "name": "stdout",
     "output_type": "stream",
     "text": [
      "Processing NSE_NIFTY240711P24400, 5.csv in NIFTY with condition buy_signal_2...\n",
      "No trades were executed.\n",
      "No trades were executed.\n",
      "No trades were executed.\n",
      "No trades were executed.\n",
      "No trades were executed.\n"
     ]
    },
    {
     "name": "stderr",
     "output_type": "stream",
     "text": [
      "C:\\temp\\ipykernel_12308\\1528594928.py:224: SettingWithCopyWarning: \n",
      "A value is trying to be set on a copy of a slice from a DataFrame.\n",
      "Try using .loc[row_indexer,col_indexer] = value instead\n",
      "\n",
      "See the caveats in the documentation: https://pandas.pydata.org/pandas-docs/stable/user_guide/indexing.html#returning-a-view-versus-a-copy\n",
      "  buy_signals_below_9_30['time_ist'] = pd.to_datetime(buy_signals_below_9_30['time'], unit='s') + timedelta(hours=5, minutes=30)\n",
      "C:\\temp\\ipykernel_12308\\1528594928.py:266: FutureWarning: The behavior of DataFrame concatenation with empty or all-NA entries is deprecated. In a future version, this will no longer exclude empty or all-NA columns when determining the result dtypes. To retain the old behavior, exclude the relevant entries before the concat operation.\n",
      "  combined_pnl_results_below_9_30 = pd.concat(pnl_results_below_9_30, ignore_index=True)\n",
      "C:\\temp\\ipykernel_12308\\1528594928.py:268: FutureWarning: The behavior of DataFrame concatenation with empty or all-NA entries is deprecated. In a future version, this will no longer exclude empty or all-NA columns when determining the result dtypes. To retain the old behavior, exclude the relevant entries before the concat operation.\n",
      "  combined_trade_results_below_9_30 = pd.concat(trade_results_combined_below_9_30, ignore_index=True)\n",
      "C:\\temp\\ipykernel_12308\\1528594928.py:269: FutureWarning: The behavior of DataFrame concatenation with empty or all-NA entries is deprecated. In a future version, this will no longer exclude empty or all-NA columns when determining the result dtypes. To retain the old behavior, exclude the relevant entries before the concat operation.\n",
      "  combined_all_results_below_9_30 = pd.concat(all_combined_results_below_9_30, ignore_index=True)\n"
     ]
    },
    {
     "name": "stdout",
     "output_type": "stream",
     "text": [
      "Processing NSE_NIFTY240627C23500, 5.csv in NIFTY with condition combined_signal_1...\n",
      "Warning: 'Buy Signal (VOLD above 0 and SOSI above 0)' column not found in the data. Skipping this file.\n",
      "No buy signals found before 9:30 AM IST for NSE_NIFTY240627C23500, 5.csv. Skipping...\n",
      "Processing NSE_NIFTY240627C23600, 5.csv in NIFTY with condition combined_signal_1...\n",
      "Warning: 'Buy Signal (VOLD above 0 and SOSI above 0)' column not found in the data. Skipping this file.\n",
      "No buy signals found before 9:30 AM IST for NSE_NIFTY240627C23600, 5.csv. Skipping...\n",
      "Processing NSE_NIFTY240627C23700, 5.csv in NIFTY with condition combined_signal_1...\n",
      "Warning: 'Buy Signal (VOLD above 0 and SOSI above 0)' column not found in the data. Skipping this file.\n",
      "No buy signals found before 9:30 AM IST for NSE_NIFTY240627C23700, 5.csv. Skipping...\n",
      "Processing NSE_NIFTY240627C23750, 5.csv in NIFTY with condition combined_signal_1...\n",
      "Warning: 'Buy Signal (VOLD above 0 and SOSI above 0)' column not found in the data. Skipping this file.\n",
      "No buy signals found before 9:30 AM IST for NSE_NIFTY240627C23750, 5.csv. Skipping...\n",
      "Processing NSE_NIFTY240627C23800, 5.csv in NIFTY with condition combined_signal_1...\n",
      "Warning: 'Buy Signal (VOLD above 0 and SOSI above 0)' column not found in the data. Skipping this file.\n",
      "No buy signals found before 9:30 AM IST for NSE_NIFTY240627C23800, 5.csv. Skipping...\n",
      "Processing NSE_NIFTY240627P23600, 5.csv in NIFTY with condition combined_signal_1...\n",
      "Warning: 'Buy Signal (VOLD above 0 and SOSI above 0)' column not found in the data. Skipping this file.\n",
      "No buy signals found before 9:30 AM IST for NSE_NIFTY240627P23600, 5.csv. Skipping...\n",
      "Processing NSE_NIFTY240627P23700, 5.csv in NIFTY with condition combined_signal_1...\n",
      "Warning: 'Buy Signal (VOLD above 0 and SOSI above 0)' column not found in the data. Skipping this file.\n",
      "No buy signals found before 9:30 AM IST for NSE_NIFTY240627P23700, 5.csv. Skipping...\n",
      "Processing NSE_NIFTY240627P23800, 5.csv in NIFTY with condition combined_signal_1...\n",
      "Warning: 'Buy Signal (VOLD above 0 and SOSI above 0)' column not found in the data. Skipping this file.\n",
      "No buy signals found before 9:30 AM IST for NSE_NIFTY240627P23800, 5.csv. Skipping...\n",
      "Processing NSE_NIFTY240704C23800, 5.csv in NIFTY with condition combined_signal_1...\n",
      "Warning: 'Buy Signal (VOLD above 0 and SOSI above 0)' column not found in the data. Skipping this file.\n",
      "No buy signals found before 9:30 AM IST for NSE_NIFTY240704C23800, 5.csv. Skipping...\n",
      "Processing NSE_NIFTY240704C23900, 5.csv in NIFTY with condition combined_signal_1...\n",
      "Warning: 'Buy Signal (VOLD above 0 and SOSI above 0)' column not found in the data. Skipping this file.\n",
      "No buy signals found before 9:30 AM IST for NSE_NIFTY240704C23900, 5.csv. Skipping...\n",
      "Processing NSE_NIFTY240704C24000, 5.csv in NIFTY with condition combined_signal_1...\n",
      "Warning: 'Buy Signal (VOLD above 0 and SOSI above 0)' column not found in the data. Skipping this file.\n",
      "No buy signals found before 9:30 AM IST for NSE_NIFTY240704C24000, 5.csv. Skipping...\n",
      "Processing NSE_NIFTY240704C24050, 5.csv in NIFTY with condition combined_signal_1...\n",
      "Warning: 'Buy Signal (VOLD above 0 and SOSI above 0)' column not found in the data. Skipping this file.\n",
      "No buy signals found before 9:30 AM IST for NSE_NIFTY240704C24050, 5.csv. Skipping...\n",
      "Processing NSE_NIFTY240704C24100, 5.csv in NIFTY with condition combined_signal_1...\n",
      "Warning: 'Buy Signal (VOLD above 0 and SOSI above 0)' column not found in the data. Skipping this file.\n",
      "No buy signals found before 9:30 AM IST for NSE_NIFTY240704C24100, 5.csv. Skipping...\n",
      "Processing NSE_NIFTY240704C24150, 5.csv in NIFTY with condition combined_signal_1...\n",
      "Warning: 'Buy Signal (VOLD above 0 and SOSI above 0)' column not found in the data. Skipping this file.\n",
      "No buy signals found before 9:30 AM IST for NSE_NIFTY240704C24150, 5.csv. Skipping...\n",
      "Processing NSE_NIFTY240704C24200, 5.csv in NIFTY with condition combined_signal_1...\n",
      "Warning: 'Buy Signal (VOLD above 0 and SOSI above 0)' column not found in the data. Skipping this file.\n",
      "No buy signals found before 9:30 AM IST for NSE_NIFTY240704C24200, 5.csv. Skipping...\n",
      "Processing NSE_NIFTY240704C24250, 5.csv in NIFTY with condition combined_signal_1...\n",
      "Warning: 'Buy Signal (VOLD above 0 and SOSI above 0)' column not found in the data. Skipping this file.\n",
      "No buy signals found before 9:30 AM IST for NSE_NIFTY240704C24250, 5.csv. Skipping...\n",
      "Processing NSE_NIFTY240704C24300, 5.csv in NIFTY with condition combined_signal_1...\n",
      "Warning: 'Buy Signal (VOLD above 0 and SOSI above 0)' column not found in the data. Skipping this file.\n",
      "No buy signals found before 9:30 AM IST for NSE_NIFTY240704C24300, 5.csv. Skipping...\n",
      "Processing NSE_NIFTY240704P23800, 5.csv in NIFTY with condition combined_signal_1...\n",
      "Warning: 'Buy Signal (VOLD above 0 and SOSI above 0)' column not found in the data. Skipping this file.\n",
      "No buy signals found before 9:30 AM IST for NSE_NIFTY240704P23800, 5.csv. Skipping...\n",
      "Processing NSE_NIFTY240704P23900, 5.csv in NIFTY with condition combined_signal_1...\n",
      "Warning: 'Buy Signal (VOLD above 0 and SOSI above 0)' column not found in the data. Skipping this file.\n",
      "No buy signals found before 9:30 AM IST for NSE_NIFTY240704P23900, 5.csv. Skipping...\n",
      "Processing NSE_NIFTY240704P24000, 5.csv in NIFTY with condition combined_signal_1...\n",
      "Warning: 'Buy Signal (VOLD above 0 and SOSI above 0)' column not found in the data. Skipping this file.\n",
      "No buy signals found before 9:30 AM IST for NSE_NIFTY240704P24000, 5.csv. Skipping...\n",
      "Processing NSE_NIFTY240704P24100, 5.csv in NIFTY with condition combined_signal_1...\n",
      "Warning: 'Buy Signal (VOLD above 0 and SOSI above 0)' column not found in the data. Skipping this file.\n",
      "No buy signals found before 9:30 AM IST for NSE_NIFTY240704P24100, 5.csv. Skipping...\n",
      "Processing NSE_NIFTY240704P24150, 5.csv in NIFTY with condition combined_signal_1...\n",
      "Warning: 'Buy Signal (VOLD above 0 and SOSI above 0)' column not found in the data. Skipping this file.\n",
      "No buy signals found before 9:30 AM IST for NSE_NIFTY240704P24150, 5.csv. Skipping...\n",
      "Processing NSE_NIFTY240704P24200, 5.csv in NIFTY with condition combined_signal_1...\n",
      "Warning: 'Buy Signal (VOLD above 0 and SOSI above 0)' column not found in the data. Skipping this file.\n",
      "No buy signals found before 9:30 AM IST for NSE_NIFTY240704P24200, 5.csv. Skipping...\n",
      "Processing NSE_NIFTY240704P24300, 5.csv in NIFTY with condition combined_signal_1...\n",
      "Warning: 'Buy Signal (VOLD above 0 and SOSI above 0)' column not found in the data. Skipping this file.\n",
      "No buy signals found before 9:30 AM IST for NSE_NIFTY240704P24300, 5.csv. Skipping...\n",
      "Processing NSE_NIFTY240711C24200, 5.csv in NIFTY with condition combined_signal_1...\n"
     ]
    },
    {
     "name": "stderr",
     "output_type": "stream",
     "text": [
      "C:\\temp\\ipykernel_12308\\1528594928.py:224: SettingWithCopyWarning: \n",
      "A value is trying to be set on a copy of a slice from a DataFrame.\n",
      "Try using .loc[row_indexer,col_indexer] = value instead\n",
      "\n",
      "See the caveats in the documentation: https://pandas.pydata.org/pandas-docs/stable/user_guide/indexing.html#returning-a-view-versus-a-copy\n",
      "  buy_signals_below_9_30['time_ist'] = pd.to_datetime(buy_signals_below_9_30['time'], unit='s') + timedelta(hours=5, minutes=30)\n"
     ]
    },
    {
     "name": "stdout",
     "output_type": "stream",
     "text": [
      "Processing NSE_NIFTY240711C24300, 5.csv in NIFTY with condition combined_signal_1...\n"
     ]
    },
    {
     "name": "stderr",
     "output_type": "stream",
     "text": [
      "C:\\temp\\ipykernel_12308\\1528594928.py:224: SettingWithCopyWarning: \n",
      "A value is trying to be set on a copy of a slice from a DataFrame.\n",
      "Try using .loc[row_indexer,col_indexer] = value instead\n",
      "\n",
      "See the caveats in the documentation: https://pandas.pydata.org/pandas-docs/stable/user_guide/indexing.html#returning-a-view-versus-a-copy\n",
      "  buy_signals_below_9_30['time_ist'] = pd.to_datetime(buy_signals_below_9_30['time'], unit='s') + timedelta(hours=5, minutes=30)\n"
     ]
    },
    {
     "name": "stdout",
     "output_type": "stream",
     "text": [
      "Processing NSE_NIFTY240711C24350, 5.csv in NIFTY with condition combined_signal_1...\n",
      "No trades were executed.\n",
      "No trades were executed.\n",
      "No trades were executed.\n",
      "No trades were executed.\n",
      "No trades were executed.\n",
      "Processing NSE_NIFTY240711C24400, 5.csv in NIFTY with condition combined_signal_1...\n"
     ]
    },
    {
     "name": "stderr",
     "output_type": "stream",
     "text": [
      "C:\\temp\\ipykernel_12308\\1528594928.py:224: SettingWithCopyWarning: \n",
      "A value is trying to be set on a copy of a slice from a DataFrame.\n",
      "Try using .loc[row_indexer,col_indexer] = value instead\n",
      "\n",
      "See the caveats in the documentation: https://pandas.pydata.org/pandas-docs/stable/user_guide/indexing.html#returning-a-view-versus-a-copy\n",
      "  buy_signals_below_9_30['time_ist'] = pd.to_datetime(buy_signals_below_9_30['time'], unit='s') + timedelta(hours=5, minutes=30)\n",
      "C:\\temp\\ipykernel_12308\\1528594928.py:224: SettingWithCopyWarning: \n",
      "A value is trying to be set on a copy of a slice from a DataFrame.\n",
      "Try using .loc[row_indexer,col_indexer] = value instead\n",
      "\n",
      "See the caveats in the documentation: https://pandas.pydata.org/pandas-docs/stable/user_guide/indexing.html#returning-a-view-versus-a-copy\n",
      "  buy_signals_below_9_30['time_ist'] = pd.to_datetime(buy_signals_below_9_30['time'], unit='s') + timedelta(hours=5, minutes=30)\n"
     ]
    },
    {
     "name": "stdout",
     "output_type": "stream",
     "text": [
      "Processing NSE_NIFTY240711C24500, 5.csv in NIFTY with condition combined_signal_1...\n"
     ]
    },
    {
     "name": "stderr",
     "output_type": "stream",
     "text": [
      "C:\\temp\\ipykernel_12308\\1528594928.py:224: SettingWithCopyWarning: \n",
      "A value is trying to be set on a copy of a slice from a DataFrame.\n",
      "Try using .loc[row_indexer,col_indexer] = value instead\n",
      "\n",
      "See the caveats in the documentation: https://pandas.pydata.org/pandas-docs/stable/user_guide/indexing.html#returning-a-view-versus-a-copy\n",
      "  buy_signals_below_9_30['time_ist'] = pd.to_datetime(buy_signals_below_9_30['time'], unit='s') + timedelta(hours=5, minutes=30)\n"
     ]
    },
    {
     "name": "stdout",
     "output_type": "stream",
     "text": [
      "Processing NSE_NIFTY240711P24200, 5.csv in NIFTY with condition combined_signal_1...\n",
      "No trades were executed.\n",
      "No trades were executed.\n",
      "No trades were executed.\n",
      "No trades were executed.\n",
      "No trades were executed.\n",
      "Processing NSE_NIFTY240711P24300, 5.csv in NIFTY with condition combined_signal_1...\n"
     ]
    },
    {
     "name": "stderr",
     "output_type": "stream",
     "text": [
      "C:\\temp\\ipykernel_12308\\1528594928.py:224: SettingWithCopyWarning: \n",
      "A value is trying to be set on a copy of a slice from a DataFrame.\n",
      "Try using .loc[row_indexer,col_indexer] = value instead\n",
      "\n",
      "See the caveats in the documentation: https://pandas.pydata.org/pandas-docs/stable/user_guide/indexing.html#returning-a-view-versus-a-copy\n",
      "  buy_signals_below_9_30['time_ist'] = pd.to_datetime(buy_signals_below_9_30['time'], unit='s') + timedelta(hours=5, minutes=30)\n",
      "C:\\temp\\ipykernel_12308\\1528594928.py:224: SettingWithCopyWarning: \n",
      "A value is trying to be set on a copy of a slice from a DataFrame.\n",
      "Try using .loc[row_indexer,col_indexer] = value instead\n",
      "\n",
      "See the caveats in the documentation: https://pandas.pydata.org/pandas-docs/stable/user_guide/indexing.html#returning-a-view-versus-a-copy\n",
      "  buy_signals_below_9_30['time_ist'] = pd.to_datetime(buy_signals_below_9_30['time'], unit='s') + timedelta(hours=5, minutes=30)\n"
     ]
    },
    {
     "name": "stdout",
     "output_type": "stream",
     "text": [
      "Processing NSE_NIFTY240711P24400, 5.csv in NIFTY with condition combined_signal_1...\n",
      "No trades were executed.\n",
      "No trades were executed.\n",
      "No trades were executed.\n",
      "No trades were executed.\n",
      "No trades were executed.\n"
     ]
    },
    {
     "name": "stderr",
     "output_type": "stream",
     "text": [
      "C:\\temp\\ipykernel_12308\\1528594928.py:224: SettingWithCopyWarning: \n",
      "A value is trying to be set on a copy of a slice from a DataFrame.\n",
      "Try using .loc[row_indexer,col_indexer] = value instead\n",
      "\n",
      "See the caveats in the documentation: https://pandas.pydata.org/pandas-docs/stable/user_guide/indexing.html#returning-a-view-versus-a-copy\n",
      "  buy_signals_below_9_30['time_ist'] = pd.to_datetime(buy_signals_below_9_30['time'], unit='s') + timedelta(hours=5, minutes=30)\n",
      "C:\\temp\\ipykernel_12308\\1528594928.py:266: FutureWarning: The behavior of DataFrame concatenation with empty or all-NA entries is deprecated. In a future version, this will no longer exclude empty or all-NA columns when determining the result dtypes. To retain the old behavior, exclude the relevant entries before the concat operation.\n",
      "  combined_pnl_results_below_9_30 = pd.concat(pnl_results_below_9_30, ignore_index=True)\n",
      "C:\\temp\\ipykernel_12308\\1528594928.py:268: FutureWarning: The behavior of DataFrame concatenation with empty or all-NA entries is deprecated. In a future version, this will no longer exclude empty or all-NA columns when determining the result dtypes. To retain the old behavior, exclude the relevant entries before the concat operation.\n",
      "  combined_trade_results_below_9_30 = pd.concat(trade_results_combined_below_9_30, ignore_index=True)\n",
      "C:\\temp\\ipykernel_12308\\1528594928.py:269: FutureWarning: The behavior of DataFrame concatenation with empty or all-NA entries is deprecated. In a future version, this will no longer exclude empty or all-NA columns when determining the result dtypes. To retain the old behavior, exclude the relevant entries before the concat operation.\n",
      "  combined_all_results_below_9_30 = pd.concat(all_combined_results_below_9_30, ignore_index=True)\n"
     ]
    },
    {
     "name": "stdout",
     "output_type": "stream",
     "text": [
      "Processing NSE_NIFTY240627C23500, 5.csv in NIFTY with condition combined_signal_2...\n",
      "Warning: 'Buy Signal (VOLD above 0 and SOSI above 0)' column not found in the data. Skipping this file.\n",
      "No buy signals found before 9:30 AM IST for NSE_NIFTY240627C23500, 5.csv. Skipping...\n",
      "Processing NSE_NIFTY240627C23600, 5.csv in NIFTY with condition combined_signal_2...\n",
      "Warning: 'Buy Signal (VOLD above 0 and SOSI above 0)' column not found in the data. Skipping this file.\n",
      "No buy signals found before 9:30 AM IST for NSE_NIFTY240627C23600, 5.csv. Skipping...\n",
      "Processing NSE_NIFTY240627C23700, 5.csv in NIFTY with condition combined_signal_2...\n",
      "Warning: 'Buy Signal (VOLD above 0 and SOSI above 0)' column not found in the data. Skipping this file.\n",
      "No buy signals found before 9:30 AM IST for NSE_NIFTY240627C23700, 5.csv. Skipping...\n",
      "Processing NSE_NIFTY240627C23750, 5.csv in NIFTY with condition combined_signal_2...\n",
      "Warning: 'Buy Signal (VOLD above 0 and SOSI above 0)' column not found in the data. Skipping this file.\n",
      "No buy signals found before 9:30 AM IST for NSE_NIFTY240627C23750, 5.csv. Skipping...\n",
      "Processing NSE_NIFTY240627C23800, 5.csv in NIFTY with condition combined_signal_2...\n",
      "Warning: 'Buy Signal (VOLD above 0 and SOSI above 0)' column not found in the data. Skipping this file.\n",
      "No buy signals found before 9:30 AM IST for NSE_NIFTY240627C23800, 5.csv. Skipping...\n",
      "Processing NSE_NIFTY240627P23600, 5.csv in NIFTY with condition combined_signal_2...\n",
      "Warning: 'Buy Signal (VOLD above 0 and SOSI above 0)' column not found in the data. Skipping this file.\n",
      "No buy signals found before 9:30 AM IST for NSE_NIFTY240627P23600, 5.csv. Skipping...\n",
      "Processing NSE_NIFTY240627P23700, 5.csv in NIFTY with condition combined_signal_2...\n",
      "Warning: 'Buy Signal (VOLD above 0 and SOSI above 0)' column not found in the data. Skipping this file.\n",
      "No buy signals found before 9:30 AM IST for NSE_NIFTY240627P23700, 5.csv. Skipping...\n",
      "Processing NSE_NIFTY240627P23800, 5.csv in NIFTY with condition combined_signal_2...\n",
      "Warning: 'Buy Signal (VOLD above 0 and SOSI above 0)' column not found in the data. Skipping this file.\n",
      "No buy signals found before 9:30 AM IST for NSE_NIFTY240627P23800, 5.csv. Skipping...\n",
      "Processing NSE_NIFTY240704C23800, 5.csv in NIFTY with condition combined_signal_2...\n",
      "Warning: 'Buy Signal (VOLD above 0 and SOSI above 0)' column not found in the data. Skipping this file.\n",
      "No buy signals found before 9:30 AM IST for NSE_NIFTY240704C23800, 5.csv. Skipping...\n",
      "Processing NSE_NIFTY240704C23900, 5.csv in NIFTY with condition combined_signal_2...\n",
      "Warning: 'Buy Signal (VOLD above 0 and SOSI above 0)' column not found in the data. Skipping this file.\n",
      "No buy signals found before 9:30 AM IST for NSE_NIFTY240704C23900, 5.csv. Skipping...\n",
      "Processing NSE_NIFTY240704C24000, 5.csv in NIFTY with condition combined_signal_2...\n",
      "Warning: 'Buy Signal (VOLD above 0 and SOSI above 0)' column not found in the data. Skipping this file.\n",
      "No buy signals found before 9:30 AM IST for NSE_NIFTY240704C24000, 5.csv. Skipping...\n",
      "Processing NSE_NIFTY240704C24050, 5.csv in NIFTY with condition combined_signal_2...\n",
      "Warning: 'Buy Signal (VOLD above 0 and SOSI above 0)' column not found in the data. Skipping this file.\n",
      "No buy signals found before 9:30 AM IST for NSE_NIFTY240704C24050, 5.csv. Skipping...\n",
      "Processing NSE_NIFTY240704C24100, 5.csv in NIFTY with condition combined_signal_2...\n",
      "Warning: 'Buy Signal (VOLD above 0 and SOSI above 0)' column not found in the data. Skipping this file.\n",
      "No buy signals found before 9:30 AM IST for NSE_NIFTY240704C24100, 5.csv. Skipping...\n",
      "Processing NSE_NIFTY240704C24150, 5.csv in NIFTY with condition combined_signal_2...\n",
      "Warning: 'Buy Signal (VOLD above 0 and SOSI above 0)' column not found in the data. Skipping this file.\n",
      "No buy signals found before 9:30 AM IST for NSE_NIFTY240704C24150, 5.csv. Skipping...\n",
      "Processing NSE_NIFTY240704C24200, 5.csv in NIFTY with condition combined_signal_2...\n",
      "Warning: 'Buy Signal (VOLD above 0 and SOSI above 0)' column not found in the data. Skipping this file.\n",
      "No buy signals found before 9:30 AM IST for NSE_NIFTY240704C24200, 5.csv. Skipping...\n",
      "Processing NSE_NIFTY240704C24250, 5.csv in NIFTY with condition combined_signal_2...\n",
      "Warning: 'Buy Signal (VOLD above 0 and SOSI above 0)' column not found in the data. Skipping this file.\n",
      "No buy signals found before 9:30 AM IST for NSE_NIFTY240704C24250, 5.csv. Skipping...\n",
      "Processing NSE_NIFTY240704C24300, 5.csv in NIFTY with condition combined_signal_2...\n",
      "Warning: 'Buy Signal (VOLD above 0 and SOSI above 0)' column not found in the data. Skipping this file.\n",
      "No buy signals found before 9:30 AM IST for NSE_NIFTY240704C24300, 5.csv. Skipping...\n",
      "Processing NSE_NIFTY240704P23800, 5.csv in NIFTY with condition combined_signal_2...\n",
      "Warning: 'Buy Signal (VOLD above 0 and SOSI above 0)' column not found in the data. Skipping this file.\n",
      "No buy signals found before 9:30 AM IST for NSE_NIFTY240704P23800, 5.csv. Skipping...\n",
      "Processing NSE_NIFTY240704P23900, 5.csv in NIFTY with condition combined_signal_2...\n",
      "Warning: 'Buy Signal (VOLD above 0 and SOSI above 0)' column not found in the data. Skipping this file.\n",
      "No buy signals found before 9:30 AM IST for NSE_NIFTY240704P23900, 5.csv. Skipping...\n",
      "Processing NSE_NIFTY240704P24000, 5.csv in NIFTY with condition combined_signal_2...\n",
      "Warning: 'Buy Signal (VOLD above 0 and SOSI above 0)' column not found in the data. Skipping this file.\n",
      "No buy signals found before 9:30 AM IST for NSE_NIFTY240704P24000, 5.csv. Skipping...\n",
      "Processing NSE_NIFTY240704P24100, 5.csv in NIFTY with condition combined_signal_2...\n",
      "Warning: 'Buy Signal (VOLD above 0 and SOSI above 0)' column not found in the data. Skipping this file.\n",
      "No buy signals found before 9:30 AM IST for NSE_NIFTY240704P24100, 5.csv. Skipping...\n",
      "Processing NSE_NIFTY240704P24150, 5.csv in NIFTY with condition combined_signal_2...\n",
      "Warning: 'Buy Signal (VOLD above 0 and SOSI above 0)' column not found in the data. Skipping this file.\n",
      "No buy signals found before 9:30 AM IST for NSE_NIFTY240704P24150, 5.csv. Skipping...\n",
      "Processing NSE_NIFTY240704P24200, 5.csv in NIFTY with condition combined_signal_2...\n",
      "Warning: 'Buy Signal (VOLD above 0 and SOSI above 0)' column not found in the data. Skipping this file.\n",
      "No buy signals found before 9:30 AM IST for NSE_NIFTY240704P24200, 5.csv. Skipping...\n",
      "Processing NSE_NIFTY240704P24300, 5.csv in NIFTY with condition combined_signal_2...\n",
      "Warning: 'Buy Signal (VOLD above 0 and SOSI above 0)' column not found in the data. Skipping this file.\n",
      "No buy signals found before 9:30 AM IST for NSE_NIFTY240704P24300, 5.csv. Skipping...\n",
      "Processing NSE_NIFTY240711C24200, 5.csv in NIFTY with condition combined_signal_2...\n"
     ]
    },
    {
     "name": "stderr",
     "output_type": "stream",
     "text": [
      "C:\\temp\\ipykernel_12308\\1528594928.py:224: SettingWithCopyWarning: \n",
      "A value is trying to be set on a copy of a slice from a DataFrame.\n",
      "Try using .loc[row_indexer,col_indexer] = value instead\n",
      "\n",
      "See the caveats in the documentation: https://pandas.pydata.org/pandas-docs/stable/user_guide/indexing.html#returning-a-view-versus-a-copy\n",
      "  buy_signals_below_9_30['time_ist'] = pd.to_datetime(buy_signals_below_9_30['time'], unit='s') + timedelta(hours=5, minutes=30)\n"
     ]
    },
    {
     "name": "stdout",
     "output_type": "stream",
     "text": [
      "Processing NSE_NIFTY240711C24300, 5.csv in NIFTY with condition combined_signal_2...\n",
      "No trades were executed.\n",
      "No trades were executed.\n",
      "No trades were executed.\n",
      "No trades were executed.\n",
      "No trades were executed.\n"
     ]
    },
    {
     "name": "stderr",
     "output_type": "stream",
     "text": [
      "C:\\temp\\ipykernel_12308\\1528594928.py:224: SettingWithCopyWarning: \n",
      "A value is trying to be set on a copy of a slice from a DataFrame.\n",
      "Try using .loc[row_indexer,col_indexer] = value instead\n",
      "\n",
      "See the caveats in the documentation: https://pandas.pydata.org/pandas-docs/stable/user_guide/indexing.html#returning-a-view-versus-a-copy\n",
      "  buy_signals_below_9_30['time_ist'] = pd.to_datetime(buy_signals_below_9_30['time'], unit='s') + timedelta(hours=5, minutes=30)\n"
     ]
    },
    {
     "name": "stdout",
     "output_type": "stream",
     "text": [
      "Processing NSE_NIFTY240711C24350, 5.csv in NIFTY with condition combined_signal_2...\n",
      "No trades were executed.\n",
      "No trades were executed.\n",
      "No trades were executed.\n",
      "No trades were executed.\n",
      "No trades were executed.\n",
      "Processing NSE_NIFTY240711C24400, 5.csv in NIFTY with condition combined_signal_2...\n"
     ]
    },
    {
     "name": "stderr",
     "output_type": "stream",
     "text": [
      "C:\\temp\\ipykernel_12308\\1528594928.py:224: SettingWithCopyWarning: \n",
      "A value is trying to be set on a copy of a slice from a DataFrame.\n",
      "Try using .loc[row_indexer,col_indexer] = value instead\n",
      "\n",
      "See the caveats in the documentation: https://pandas.pydata.org/pandas-docs/stable/user_guide/indexing.html#returning-a-view-versus-a-copy\n",
      "  buy_signals_below_9_30['time_ist'] = pd.to_datetime(buy_signals_below_9_30['time'], unit='s') + timedelta(hours=5, minutes=30)\n",
      "C:\\temp\\ipykernel_12308\\1528594928.py:224: SettingWithCopyWarning: \n",
      "A value is trying to be set on a copy of a slice from a DataFrame.\n",
      "Try using .loc[row_indexer,col_indexer] = value instead\n",
      "\n",
      "See the caveats in the documentation: https://pandas.pydata.org/pandas-docs/stable/user_guide/indexing.html#returning-a-view-versus-a-copy\n",
      "  buy_signals_below_9_30['time_ist'] = pd.to_datetime(buy_signals_below_9_30['time'], unit='s') + timedelta(hours=5, minutes=30)\n"
     ]
    },
    {
     "name": "stdout",
     "output_type": "stream",
     "text": [
      "Processing NSE_NIFTY240711C24500, 5.csv in NIFTY with condition combined_signal_2...\n"
     ]
    },
    {
     "name": "stderr",
     "output_type": "stream",
     "text": [
      "C:\\temp\\ipykernel_12308\\1528594928.py:224: SettingWithCopyWarning: \n",
      "A value is trying to be set on a copy of a slice from a DataFrame.\n",
      "Try using .loc[row_indexer,col_indexer] = value instead\n",
      "\n",
      "See the caveats in the documentation: https://pandas.pydata.org/pandas-docs/stable/user_guide/indexing.html#returning-a-view-versus-a-copy\n",
      "  buy_signals_below_9_30['time_ist'] = pd.to_datetime(buy_signals_below_9_30['time'], unit='s') + timedelta(hours=5, minutes=30)\n"
     ]
    },
    {
     "name": "stdout",
     "output_type": "stream",
     "text": [
      "Processing NSE_NIFTY240711P24200, 5.csv in NIFTY with condition combined_signal_2...\n"
     ]
    },
    {
     "name": "stderr",
     "output_type": "stream",
     "text": [
      "C:\\temp\\ipykernel_12308\\1528594928.py:224: SettingWithCopyWarning: \n",
      "A value is trying to be set on a copy of a slice from a DataFrame.\n",
      "Try using .loc[row_indexer,col_indexer] = value instead\n",
      "\n",
      "See the caveats in the documentation: https://pandas.pydata.org/pandas-docs/stable/user_guide/indexing.html#returning-a-view-versus-a-copy\n",
      "  buy_signals_below_9_30['time_ist'] = pd.to_datetime(buy_signals_below_9_30['time'], unit='s') + timedelta(hours=5, minutes=30)\n"
     ]
    },
    {
     "name": "stdout",
     "output_type": "stream",
     "text": [
      "Processing NSE_NIFTY240711P24300, 5.csv in NIFTY with condition combined_signal_2...\n",
      "Processing NSE_NIFTY240711P24400, 5.csv in NIFTY with condition combined_signal_2...\n"
     ]
    },
    {
     "name": "stderr",
     "output_type": "stream",
     "text": [
      "C:\\temp\\ipykernel_12308\\1528594928.py:224: SettingWithCopyWarning: \n",
      "A value is trying to be set on a copy of a slice from a DataFrame.\n",
      "Try using .loc[row_indexer,col_indexer] = value instead\n",
      "\n",
      "See the caveats in the documentation: https://pandas.pydata.org/pandas-docs/stable/user_guide/indexing.html#returning-a-view-versus-a-copy\n",
      "  buy_signals_below_9_30['time_ist'] = pd.to_datetime(buy_signals_below_9_30['time'], unit='s') + timedelta(hours=5, minutes=30)\n",
      "C:\\temp\\ipykernel_12308\\1528594928.py:224: SettingWithCopyWarning: \n",
      "A value is trying to be set on a copy of a slice from a DataFrame.\n",
      "Try using .loc[row_indexer,col_indexer] = value instead\n",
      "\n",
      "See the caveats in the documentation: https://pandas.pydata.org/pandas-docs/stable/user_guide/indexing.html#returning-a-view-versus-a-copy\n",
      "  buy_signals_below_9_30['time_ist'] = pd.to_datetime(buy_signals_below_9_30['time'], unit='s') + timedelta(hours=5, minutes=30)\n"
     ]
    },
    {
     "name": "stdout",
     "output_type": "stream",
     "text": [
      "No trades were executed.\n",
      "No trades were executed.\n",
      "No trades were executed.\n",
      "No trades were executed.\n",
      "No trades were executed.\n"
     ]
    },
    {
     "name": "stderr",
     "output_type": "stream",
     "text": [
      "C:\\temp\\ipykernel_12308\\1528594928.py:266: FutureWarning: The behavior of DataFrame concatenation with empty or all-NA entries is deprecated. In a future version, this will no longer exclude empty or all-NA columns when determining the result dtypes. To retain the old behavior, exclude the relevant entries before the concat operation.\n",
      "  combined_pnl_results_below_9_30 = pd.concat(pnl_results_below_9_30, ignore_index=True)\n",
      "C:\\temp\\ipykernel_12308\\1528594928.py:268: FutureWarning: The behavior of DataFrame concatenation with empty or all-NA entries is deprecated. In a future version, this will no longer exclude empty or all-NA columns when determining the result dtypes. To retain the old behavior, exclude the relevant entries before the concat operation.\n",
      "  combined_trade_results_below_9_30 = pd.concat(trade_results_combined_below_9_30, ignore_index=True)\n",
      "C:\\temp\\ipykernel_12308\\1528594928.py:269: FutureWarning: The behavior of DataFrame concatenation with empty or all-NA entries is deprecated. In a future version, this will no longer exclude empty or all-NA columns when determining the result dtypes. To retain the old behavior, exclude the relevant entries before the concat operation.\n",
      "  combined_all_results_below_9_30 = pd.concat(all_combined_results_below_9_30, ignore_index=True)\n"
     ]
    },
    {
     "name": "stdout",
     "output_type": "stream",
     "text": [
      "Processing NSE_BANKNIFTY240703C52200, 5.csv in BANKNIFTY with condition buy_signal_1...\n",
      "Warning: 'Buy Signal (VOLD above 0 and SOSI above 0)' column not found in the data. Skipping this file.\n",
      "No buy signals found before 9:30 AM IST for NSE_BANKNIFTY240703C52200, 5.csv. Skipping...\n",
      "Processing NSE_BANKNIFTY240703C52300, 5.csv in BANKNIFTY with condition buy_signal_1...\n",
      "Warning: 'Buy Signal (VOLD above 0 and SOSI above 0)' column not found in the data. Skipping this file.\n",
      "No buy signals found before 9:30 AM IST for NSE_BANKNIFTY240703C52300, 5.csv. Skipping...\n",
      "Processing NSE_BANKNIFTY240703C52400, 5.csv in BANKNIFTY with condition buy_signal_1...\n",
      "Warning: 'Buy Signal (VOLD above 0 and SOSI above 0)' column not found in the data. Skipping this file.\n",
      "No buy signals found before 9:30 AM IST for NSE_BANKNIFTY240703C52400, 5.csv. Skipping...\n",
      "Processing NSE_BANKNIFTY240703C52500, 5.csv in BANKNIFTY with condition buy_signal_1...\n",
      "Warning: 'Buy Signal (VOLD above 0 and SOSI above 0)' column not found in the data. Skipping this file.\n",
      "No buy signals found before 9:30 AM IST for NSE_BANKNIFTY240703C52500, 5.csv. Skipping...\n",
      "Processing NSE_BANKNIFTY240703C52600, 5.csv in BANKNIFTY with condition buy_signal_1...\n",
      "Warning: 'Buy Signal (VOLD above 0 and SOSI above 0)' column not found in the data. Skipping this file.\n",
      "No buy signals found before 9:30 AM IST for NSE_BANKNIFTY240703C52600, 5.csv. Skipping...\n",
      "Processing NSE_BANKNIFTY240703C52700, 5.csv in BANKNIFTY with condition buy_signal_1...\n",
      "Warning: 'Buy Signal (VOLD above 0 and SOSI above 0)' column not found in the data. Skipping this file.\n",
      "No buy signals found before 9:30 AM IST for NSE_BANKNIFTY240703C52700, 5.csv. Skipping...\n",
      "Processing NSE_BANKNIFTY240703C52800, 5.csv in BANKNIFTY with condition buy_signal_1...\n",
      "Warning: 'Buy Signal (VOLD above 0 and SOSI above 0)' column not found in the data. Skipping this file.\n",
      "No buy signals found before 9:30 AM IST for NSE_BANKNIFTY240703C52800, 5.csv. Skipping...\n",
      "Processing NSE_BANKNIFTY240703C52900, 5.csv in BANKNIFTY with condition buy_signal_1...\n",
      "Warning: 'Buy Signal (VOLD above 0 and SOSI above 0)' column not found in the data. Skipping this file.\n",
      "No buy signals found before 9:30 AM IST for NSE_BANKNIFTY240703C52900, 5.csv. Skipping...\n",
      "Processing NSE_BANKNIFTY240703C53000, 5.csv in BANKNIFTY with condition buy_signal_1...\n",
      "Warning: 'Buy Signal (VOLD above 0 and SOSI above 0)' column not found in the data. Skipping this file.\n",
      "No buy signals found before 9:30 AM IST for NSE_BANKNIFTY240703C53000, 5.csv. Skipping...\n",
      "Processing NSE_BANKNIFTY240703P52200, 5.csv in BANKNIFTY with condition buy_signal_1...\n",
      "Warning: 'Buy Signal (VOLD above 0 and SOSI above 0)' column not found in the data. Skipping this file.\n",
      "No buy signals found before 9:30 AM IST for NSE_BANKNIFTY240703P52200, 5.csv. Skipping...\n",
      "Processing NSE_BANKNIFTY240703P52300, 5.csv in BANKNIFTY with condition buy_signal_1...\n",
      "Warning: 'Buy Signal (VOLD above 0 and SOSI above 0)' column not found in the data. Skipping this file.\n",
      "No buy signals found before 9:30 AM IST for NSE_BANKNIFTY240703P52300, 5.csv. Skipping...\n",
      "Processing NSE_BANKNIFTY240703P52400, 5.csv in BANKNIFTY with condition buy_signal_1...\n",
      "Warning: 'Buy Signal (VOLD above 0 and SOSI above 0)' column not found in the data. Skipping this file.\n",
      "No buy signals found before 9:30 AM IST for NSE_BANKNIFTY240703P52400, 5.csv. Skipping...\n",
      "Processing NSE_BANKNIFTY240703P52500, 5.csv in BANKNIFTY with condition buy_signal_1...\n",
      "Warning: 'Buy Signal (VOLD above 0 and SOSI above 0)' column not found in the data. Skipping this file.\n",
      "No buy signals found before 9:30 AM IST for NSE_BANKNIFTY240703P52500, 5.csv. Skipping...\n",
      "Processing NSE_BANKNIFTY240703P52600, 5.csv in BANKNIFTY with condition buy_signal_1...\n",
      "Warning: 'Buy Signal (VOLD above 0 and SOSI above 0)' column not found in the data. Skipping this file.\n",
      "No buy signals found before 9:30 AM IST for NSE_BANKNIFTY240703P52600, 5.csv. Skipping...\n",
      "Processing NSE_BANKNIFTY240703P52700, 5.csv in BANKNIFTY with condition buy_signal_1...\n",
      "Warning: 'Buy Signal (VOLD above 0 and SOSI above 0)' column not found in the data. Skipping this file.\n",
      "No buy signals found before 9:30 AM IST for NSE_BANKNIFTY240703P52700, 5.csv. Skipping...\n",
      "Processing NSE_BANKNIFTY240703P52800, 5.csv in BANKNIFTY with condition buy_signal_1...\n",
      "Warning: 'Buy Signal (VOLD above 0 and SOSI above 0)' column not found in the data. Skipping this file.\n",
      "No buy signals found before 9:30 AM IST for NSE_BANKNIFTY240703P52800, 5.csv. Skipping...\n",
      "Processing NSE_BANKNIFTY240703P52900, 5.csv in BANKNIFTY with condition buy_signal_1...\n",
      "Warning: 'Buy Signal (VOLD above 0 and SOSI above 0)' column not found in the data. Skipping this file.\n",
      "No buy signals found before 9:30 AM IST for NSE_BANKNIFTY240703P52900, 5.csv. Skipping...\n",
      "Processing NSE_BANKNIFTY240703P53000, 5.csv in BANKNIFTY with condition buy_signal_1...\n",
      "Warning: 'Buy Signal (VOLD above 0 and SOSI above 0)' column not found in the data. Skipping this file.\n",
      "No buy signals found before 9:30 AM IST for NSE_BANKNIFTY240703P53000, 5.csv. Skipping...\n",
      "Processing NSE_BANKNIFTY240710C52900, 5.csv in BANKNIFTY with condition buy_signal_1...\n",
      "No trades were executed.\n",
      "No trades were executed.\n",
      "No trades were executed.\n",
      "No trades were executed.\n",
      "No trades were executed.\n",
      "Processing NSE_BANKNIFTY240710C53000, 5.csv in BANKNIFTY with condition buy_signal_1...\n"
     ]
    },
    {
     "name": "stderr",
     "output_type": "stream",
     "text": [
      "C:\\temp\\ipykernel_12308\\1528594928.py:224: SettingWithCopyWarning: \n",
      "A value is trying to be set on a copy of a slice from a DataFrame.\n",
      "Try using .loc[row_indexer,col_indexer] = value instead\n",
      "\n",
      "See the caveats in the documentation: https://pandas.pydata.org/pandas-docs/stable/user_guide/indexing.html#returning-a-view-versus-a-copy\n",
      "  buy_signals_below_9_30['time_ist'] = pd.to_datetime(buy_signals_below_9_30['time'], unit='s') + timedelta(hours=5, minutes=30)\n",
      "C:\\temp\\ipykernel_12308\\1528594928.py:224: SettingWithCopyWarning: \n",
      "A value is trying to be set on a copy of a slice from a DataFrame.\n",
      "Try using .loc[row_indexer,col_indexer] = value instead\n",
      "\n",
      "See the caveats in the documentation: https://pandas.pydata.org/pandas-docs/stable/user_guide/indexing.html#returning-a-view-versus-a-copy\n",
      "  buy_signals_below_9_30['time_ist'] = pd.to_datetime(buy_signals_below_9_30['time'], unit='s') + timedelta(hours=5, minutes=30)\n"
     ]
    },
    {
     "name": "stdout",
     "output_type": "stream",
     "text": [
      "Processing NSE_BANKNIFTY240710C53100, 5.csv in BANKNIFTY with condition buy_signal_1...\n"
     ]
    },
    {
     "name": "stderr",
     "output_type": "stream",
     "text": [
      "C:\\temp\\ipykernel_12308\\1528594928.py:224: SettingWithCopyWarning: \n",
      "A value is trying to be set on a copy of a slice from a DataFrame.\n",
      "Try using .loc[row_indexer,col_indexer] = value instead\n",
      "\n",
      "See the caveats in the documentation: https://pandas.pydata.org/pandas-docs/stable/user_guide/indexing.html#returning-a-view-versus-a-copy\n",
      "  buy_signals_below_9_30['time_ist'] = pd.to_datetime(buy_signals_below_9_30['time'], unit='s') + timedelta(hours=5, minutes=30)\n"
     ]
    },
    {
     "name": "stdout",
     "output_type": "stream",
     "text": [
      "Processing NSE_BANKNIFTY240710C53200, 5.csv in BANKNIFTY with condition buy_signal_1...\n"
     ]
    },
    {
     "name": "stderr",
     "output_type": "stream",
     "text": [
      "C:\\temp\\ipykernel_12308\\1528594928.py:224: SettingWithCopyWarning: \n",
      "A value is trying to be set on a copy of a slice from a DataFrame.\n",
      "Try using .loc[row_indexer,col_indexer] = value instead\n",
      "\n",
      "See the caveats in the documentation: https://pandas.pydata.org/pandas-docs/stable/user_guide/indexing.html#returning-a-view-versus-a-copy\n",
      "  buy_signals_below_9_30['time_ist'] = pd.to_datetime(buy_signals_below_9_30['time'], unit='s') + timedelta(hours=5, minutes=30)\n"
     ]
    },
    {
     "name": "stdout",
     "output_type": "stream",
     "text": [
      "Processing NSE_BANKNIFTY240710C53500, 5.csv in BANKNIFTY with condition buy_signal_1...\n",
      "Warning: 'Buy Signal (VOLD above 0 and SOSI above 0)' column not found in the data. Skipping this file.\n",
      "No buy signals found before 9:30 AM IST for NSE_BANKNIFTY240710C53500, 5.csv. Skipping...\n",
      "Processing NSE_BANKNIFTY240710P52500, 5.csv in BANKNIFTY with condition buy_signal_1...\n",
      "Warning: 'Buy Signal (VOLD above 0 and SOSI above 0)' column not found in the data. Skipping this file.\n",
      "No buy signals found before 9:30 AM IST for NSE_BANKNIFTY240710P52500, 5.csv. Skipping...\n",
      "Processing NSE_BANKNIFTY240710P52900, 5.csv in BANKNIFTY with condition buy_signal_1...\n"
     ]
    },
    {
     "name": "stderr",
     "output_type": "stream",
     "text": [
      "C:\\temp\\ipykernel_12308\\1528594928.py:224: SettingWithCopyWarning: \n",
      "A value is trying to be set on a copy of a slice from a DataFrame.\n",
      "Try using .loc[row_indexer,col_indexer] = value instead\n",
      "\n",
      "See the caveats in the documentation: https://pandas.pydata.org/pandas-docs/stable/user_guide/indexing.html#returning-a-view-versus-a-copy\n",
      "  buy_signals_below_9_30['time_ist'] = pd.to_datetime(buy_signals_below_9_30['time'], unit='s') + timedelta(hours=5, minutes=30)\n"
     ]
    },
    {
     "name": "stdout",
     "output_type": "stream",
     "text": [
      "No trades were executed.\n",
      "No trades were executed.\n",
      "No trades were executed.\n",
      "No trades were executed.\n",
      "No trades were executed.\n",
      "Processing NSE_BANKNIFTY240710P53000, 5.csv in BANKNIFTY with condition buy_signal_1...\n"
     ]
    },
    {
     "name": "stderr",
     "output_type": "stream",
     "text": [
      "C:\\temp\\ipykernel_12308\\1528594928.py:224: SettingWithCopyWarning: \n",
      "A value is trying to be set on a copy of a slice from a DataFrame.\n",
      "Try using .loc[row_indexer,col_indexer] = value instead\n",
      "\n",
      "See the caveats in the documentation: https://pandas.pydata.org/pandas-docs/stable/user_guide/indexing.html#returning-a-view-versus-a-copy\n",
      "  buy_signals_below_9_30['time_ist'] = pd.to_datetime(buy_signals_below_9_30['time'], unit='s') + timedelta(hours=5, minutes=30)\n"
     ]
    },
    {
     "name": "stdout",
     "output_type": "stream",
     "text": [
      "Processing NSE_BANKNIFTY240710P53100, 5.csv in BANKNIFTY with condition buy_signal_1...\n"
     ]
    },
    {
     "name": "stderr",
     "output_type": "stream",
     "text": [
      "C:\\temp\\ipykernel_12308\\1528594928.py:224: SettingWithCopyWarning: \n",
      "A value is trying to be set on a copy of a slice from a DataFrame.\n",
      "Try using .loc[row_indexer,col_indexer] = value instead\n",
      "\n",
      "See the caveats in the documentation: https://pandas.pydata.org/pandas-docs/stable/user_guide/indexing.html#returning-a-view-versus-a-copy\n",
      "  buy_signals_below_9_30['time_ist'] = pd.to_datetime(buy_signals_below_9_30['time'], unit='s') + timedelta(hours=5, minutes=30)\n"
     ]
    },
    {
     "name": "stdout",
     "output_type": "stream",
     "text": [
      "Processing NSE_BANKNIFTY240710P53200, 5.csv in BANKNIFTY with condition buy_signal_1...\n"
     ]
    },
    {
     "name": "stderr",
     "output_type": "stream",
     "text": [
      "C:\\temp\\ipykernel_12308\\1528594928.py:224: SettingWithCopyWarning: \n",
      "A value is trying to be set on a copy of a slice from a DataFrame.\n",
      "Try using .loc[row_indexer,col_indexer] = value instead\n",
      "\n",
      "See the caveats in the documentation: https://pandas.pydata.org/pandas-docs/stable/user_guide/indexing.html#returning-a-view-versus-a-copy\n",
      "  buy_signals_below_9_30['time_ist'] = pd.to_datetime(buy_signals_below_9_30['time'], unit='s') + timedelta(hours=5, minutes=30)\n",
      "C:\\temp\\ipykernel_12308\\1528594928.py:266: FutureWarning: The behavior of DataFrame concatenation with empty or all-NA entries is deprecated. In a future version, this will no longer exclude empty or all-NA columns when determining the result dtypes. To retain the old behavior, exclude the relevant entries before the concat operation.\n",
      "  combined_pnl_results_below_9_30 = pd.concat(pnl_results_below_9_30, ignore_index=True)\n",
      "C:\\temp\\ipykernel_12308\\1528594928.py:268: FutureWarning: The behavior of DataFrame concatenation with empty or all-NA entries is deprecated. In a future version, this will no longer exclude empty or all-NA columns when determining the result dtypes. To retain the old behavior, exclude the relevant entries before the concat operation.\n",
      "  combined_trade_results_below_9_30 = pd.concat(trade_results_combined_below_9_30, ignore_index=True)\n",
      "C:\\temp\\ipykernel_12308\\1528594928.py:269: FutureWarning: The behavior of DataFrame concatenation with empty or all-NA entries is deprecated. In a future version, this will no longer exclude empty or all-NA columns when determining the result dtypes. To retain the old behavior, exclude the relevant entries before the concat operation.\n",
      "  combined_all_results_below_9_30 = pd.concat(all_combined_results_below_9_30, ignore_index=True)\n"
     ]
    },
    {
     "name": "stdout",
     "output_type": "stream",
     "text": [
      "Processing NSE_BANKNIFTY240703C52200, 5.csv in BANKNIFTY with condition buy_signal_2...\n",
      "Warning: 'Buy Signal (VOLD above 0 and SOSI above 0)' column not found in the data. Skipping this file.\n",
      "No buy signals found before 9:30 AM IST for NSE_BANKNIFTY240703C52200, 5.csv. Skipping...\n",
      "Processing NSE_BANKNIFTY240703C52300, 5.csv in BANKNIFTY with condition buy_signal_2...\n",
      "Warning: 'Buy Signal (VOLD above 0 and SOSI above 0)' column not found in the data. Skipping this file.\n",
      "No buy signals found before 9:30 AM IST for NSE_BANKNIFTY240703C52300, 5.csv. Skipping...\n",
      "Processing NSE_BANKNIFTY240703C52400, 5.csv in BANKNIFTY with condition buy_signal_2...\n",
      "Warning: 'Buy Signal (VOLD above 0 and SOSI above 0)' column not found in the data. Skipping this file.\n",
      "No buy signals found before 9:30 AM IST for NSE_BANKNIFTY240703C52400, 5.csv. Skipping...\n",
      "Processing NSE_BANKNIFTY240703C52500, 5.csv in BANKNIFTY with condition buy_signal_2...\n",
      "Warning: 'Buy Signal (VOLD above 0 and SOSI above 0)' column not found in the data. Skipping this file.\n",
      "No buy signals found before 9:30 AM IST for NSE_BANKNIFTY240703C52500, 5.csv. Skipping...\n",
      "Processing NSE_BANKNIFTY240703C52600, 5.csv in BANKNIFTY with condition buy_signal_2...\n",
      "Warning: 'Buy Signal (VOLD above 0 and SOSI above 0)' column not found in the data. Skipping this file.\n",
      "No buy signals found before 9:30 AM IST for NSE_BANKNIFTY240703C52600, 5.csv. Skipping...\n",
      "Processing NSE_BANKNIFTY240703C52700, 5.csv in BANKNIFTY with condition buy_signal_2...\n",
      "Warning: 'Buy Signal (VOLD above 0 and SOSI above 0)' column not found in the data. Skipping this file.\n",
      "No buy signals found before 9:30 AM IST for NSE_BANKNIFTY240703C52700, 5.csv. Skipping...\n",
      "Processing NSE_BANKNIFTY240703C52800, 5.csv in BANKNIFTY with condition buy_signal_2...\n",
      "Warning: 'Buy Signal (VOLD above 0 and SOSI above 0)' column not found in the data. Skipping this file.\n",
      "No buy signals found before 9:30 AM IST for NSE_BANKNIFTY240703C52800, 5.csv. Skipping...\n",
      "Processing NSE_BANKNIFTY240703C52900, 5.csv in BANKNIFTY with condition buy_signal_2...\n",
      "Warning: 'Buy Signal (VOLD above 0 and SOSI above 0)' column not found in the data. Skipping this file.\n",
      "No buy signals found before 9:30 AM IST for NSE_BANKNIFTY240703C52900, 5.csv. Skipping...\n",
      "Processing NSE_BANKNIFTY240703C53000, 5.csv in BANKNIFTY with condition buy_signal_2...\n",
      "Warning: 'Buy Signal (VOLD above 0 and SOSI above 0)' column not found in the data. Skipping this file.\n",
      "No buy signals found before 9:30 AM IST for NSE_BANKNIFTY240703C53000, 5.csv. Skipping...\n",
      "Processing NSE_BANKNIFTY240703P52200, 5.csv in BANKNIFTY with condition buy_signal_2...\n",
      "Warning: 'Buy Signal (VOLD above 0 and SOSI above 0)' column not found in the data. Skipping this file.\n",
      "No buy signals found before 9:30 AM IST for NSE_BANKNIFTY240703P52200, 5.csv. Skipping...\n",
      "Processing NSE_BANKNIFTY240703P52300, 5.csv in BANKNIFTY with condition buy_signal_2...\n",
      "Warning: 'Buy Signal (VOLD above 0 and SOSI above 0)' column not found in the data. Skipping this file.\n",
      "No buy signals found before 9:30 AM IST for NSE_BANKNIFTY240703P52300, 5.csv. Skipping...\n",
      "Processing NSE_BANKNIFTY240703P52400, 5.csv in BANKNIFTY with condition buy_signal_2...\n",
      "Warning: 'Buy Signal (VOLD above 0 and SOSI above 0)' column not found in the data. Skipping this file.\n",
      "No buy signals found before 9:30 AM IST for NSE_BANKNIFTY240703P52400, 5.csv. Skipping...\n",
      "Processing NSE_BANKNIFTY240703P52500, 5.csv in BANKNIFTY with condition buy_signal_2...\n",
      "Warning: 'Buy Signal (VOLD above 0 and SOSI above 0)' column not found in the data. Skipping this file.\n",
      "No buy signals found before 9:30 AM IST for NSE_BANKNIFTY240703P52500, 5.csv. Skipping...\n",
      "Processing NSE_BANKNIFTY240703P52600, 5.csv in BANKNIFTY with condition buy_signal_2...\n",
      "Warning: 'Buy Signal (VOLD above 0 and SOSI above 0)' column not found in the data. Skipping this file.\n",
      "No buy signals found before 9:30 AM IST for NSE_BANKNIFTY240703P52600, 5.csv. Skipping...\n",
      "Processing NSE_BANKNIFTY240703P52700, 5.csv in BANKNIFTY with condition buy_signal_2...\n",
      "Warning: 'Buy Signal (VOLD above 0 and SOSI above 0)' column not found in the data. Skipping this file.\n",
      "No buy signals found before 9:30 AM IST for NSE_BANKNIFTY240703P52700, 5.csv. Skipping...\n",
      "Processing NSE_BANKNIFTY240703P52800, 5.csv in BANKNIFTY with condition buy_signal_2...\n",
      "Warning: 'Buy Signal (VOLD above 0 and SOSI above 0)' column not found in the data. Skipping this file.\n",
      "No buy signals found before 9:30 AM IST for NSE_BANKNIFTY240703P52800, 5.csv. Skipping...\n",
      "Processing NSE_BANKNIFTY240703P52900, 5.csv in BANKNIFTY with condition buy_signal_2...\n",
      "Warning: 'Buy Signal (VOLD above 0 and SOSI above 0)' column not found in the data. Skipping this file.\n",
      "No buy signals found before 9:30 AM IST for NSE_BANKNIFTY240703P52900, 5.csv. Skipping...\n",
      "Processing NSE_BANKNIFTY240703P53000, 5.csv in BANKNIFTY with condition buy_signal_2...\n",
      "Warning: 'Buy Signal (VOLD above 0 and SOSI above 0)' column not found in the data. Skipping this file.\n",
      "No buy signals found before 9:30 AM IST for NSE_BANKNIFTY240703P53000, 5.csv. Skipping...\n",
      "Processing NSE_BANKNIFTY240710C52900, 5.csv in BANKNIFTY with condition buy_signal_2...\n"
     ]
    },
    {
     "name": "stderr",
     "output_type": "stream",
     "text": [
      "C:\\temp\\ipykernel_12308\\1528594928.py:224: SettingWithCopyWarning: \n",
      "A value is trying to be set on a copy of a slice from a DataFrame.\n",
      "Try using .loc[row_indexer,col_indexer] = value instead\n",
      "\n",
      "See the caveats in the documentation: https://pandas.pydata.org/pandas-docs/stable/user_guide/indexing.html#returning-a-view-versus-a-copy\n",
      "  buy_signals_below_9_30['time_ist'] = pd.to_datetime(buy_signals_below_9_30['time'], unit='s') + timedelta(hours=5, minutes=30)\n"
     ]
    },
    {
     "name": "stdout",
     "output_type": "stream",
     "text": [
      "Processing NSE_BANKNIFTY240710C53000, 5.csv in BANKNIFTY with condition buy_signal_2...\n"
     ]
    },
    {
     "name": "stderr",
     "output_type": "stream",
     "text": [
      "C:\\temp\\ipykernel_12308\\1528594928.py:224: SettingWithCopyWarning: \n",
      "A value is trying to be set on a copy of a slice from a DataFrame.\n",
      "Try using .loc[row_indexer,col_indexer] = value instead\n",
      "\n",
      "See the caveats in the documentation: https://pandas.pydata.org/pandas-docs/stable/user_guide/indexing.html#returning-a-view-versus-a-copy\n",
      "  buy_signals_below_9_30['time_ist'] = pd.to_datetime(buy_signals_below_9_30['time'], unit='s') + timedelta(hours=5, minutes=30)\n"
     ]
    },
    {
     "name": "stdout",
     "output_type": "stream",
     "text": [
      "Processing NSE_BANKNIFTY240710C53100, 5.csv in BANKNIFTY with condition buy_signal_2...\n"
     ]
    },
    {
     "name": "stderr",
     "output_type": "stream",
     "text": [
      "C:\\temp\\ipykernel_12308\\1528594928.py:224: SettingWithCopyWarning: \n",
      "A value is trying to be set on a copy of a slice from a DataFrame.\n",
      "Try using .loc[row_indexer,col_indexer] = value instead\n",
      "\n",
      "See the caveats in the documentation: https://pandas.pydata.org/pandas-docs/stable/user_guide/indexing.html#returning-a-view-versus-a-copy\n",
      "  buy_signals_below_9_30['time_ist'] = pd.to_datetime(buy_signals_below_9_30['time'], unit='s') + timedelta(hours=5, minutes=30)\n"
     ]
    },
    {
     "name": "stdout",
     "output_type": "stream",
     "text": [
      "Processing NSE_BANKNIFTY240710C53200, 5.csv in BANKNIFTY with condition buy_signal_2...\n"
     ]
    },
    {
     "name": "stderr",
     "output_type": "stream",
     "text": [
      "C:\\temp\\ipykernel_12308\\1528594928.py:224: SettingWithCopyWarning: \n",
      "A value is trying to be set on a copy of a slice from a DataFrame.\n",
      "Try using .loc[row_indexer,col_indexer] = value instead\n",
      "\n",
      "See the caveats in the documentation: https://pandas.pydata.org/pandas-docs/stable/user_guide/indexing.html#returning-a-view-versus-a-copy\n",
      "  buy_signals_below_9_30['time_ist'] = pd.to_datetime(buy_signals_below_9_30['time'], unit='s') + timedelta(hours=5, minutes=30)\n"
     ]
    },
    {
     "name": "stdout",
     "output_type": "stream",
     "text": [
      "Processing NSE_BANKNIFTY240710C53500, 5.csv in BANKNIFTY with condition buy_signal_2...\n",
      "Warning: 'Buy Signal (VOLD above 0 and SOSI above 0)' column not found in the data. Skipping this file.\n",
      "No buy signals found before 9:30 AM IST for NSE_BANKNIFTY240710C53500, 5.csv. Skipping...\n",
      "Processing NSE_BANKNIFTY240710P52500, 5.csv in BANKNIFTY with condition buy_signal_2...\n",
      "Warning: 'Buy Signal (VOLD above 0 and SOSI above 0)' column not found in the data. Skipping this file.\n",
      "No buy signals found before 9:30 AM IST for NSE_BANKNIFTY240710P52500, 5.csv. Skipping...\n",
      "Processing NSE_BANKNIFTY240710P52900, 5.csv in BANKNIFTY with condition buy_signal_2...\n",
      "No trades were executed.\n",
      "No trades were executed.\n",
      "No trades were executed.\n",
      "No trades were executed.\n",
      "No trades were executed.\n"
     ]
    },
    {
     "name": "stderr",
     "output_type": "stream",
     "text": [
      "C:\\temp\\ipykernel_12308\\1528594928.py:224: SettingWithCopyWarning: \n",
      "A value is trying to be set on a copy of a slice from a DataFrame.\n",
      "Try using .loc[row_indexer,col_indexer] = value instead\n",
      "\n",
      "See the caveats in the documentation: https://pandas.pydata.org/pandas-docs/stable/user_guide/indexing.html#returning-a-view-versus-a-copy\n",
      "  buy_signals_below_9_30['time_ist'] = pd.to_datetime(buy_signals_below_9_30['time'], unit='s') + timedelta(hours=5, minutes=30)\n"
     ]
    },
    {
     "name": "stdout",
     "output_type": "stream",
     "text": [
      "Processing NSE_BANKNIFTY240710P53000, 5.csv in BANKNIFTY with condition buy_signal_2...\n"
     ]
    },
    {
     "name": "stderr",
     "output_type": "stream",
     "text": [
      "C:\\temp\\ipykernel_12308\\1528594928.py:224: SettingWithCopyWarning: \n",
      "A value is trying to be set on a copy of a slice from a DataFrame.\n",
      "Try using .loc[row_indexer,col_indexer] = value instead\n",
      "\n",
      "See the caveats in the documentation: https://pandas.pydata.org/pandas-docs/stable/user_guide/indexing.html#returning-a-view-versus-a-copy\n",
      "  buy_signals_below_9_30['time_ist'] = pd.to_datetime(buy_signals_below_9_30['time'], unit='s') + timedelta(hours=5, minutes=30)\n"
     ]
    },
    {
     "name": "stdout",
     "output_type": "stream",
     "text": [
      "Processing NSE_BANKNIFTY240710P53100, 5.csv in BANKNIFTY with condition buy_signal_2...\n",
      "No trades were executed.\n",
      "No trades were executed.\n",
      "No trades were executed.\n",
      "No trades were executed.\n",
      "No trades were executed.\n"
     ]
    },
    {
     "name": "stderr",
     "output_type": "stream",
     "text": [
      "C:\\temp\\ipykernel_12308\\1528594928.py:224: SettingWithCopyWarning: \n",
      "A value is trying to be set on a copy of a slice from a DataFrame.\n",
      "Try using .loc[row_indexer,col_indexer] = value instead\n",
      "\n",
      "See the caveats in the documentation: https://pandas.pydata.org/pandas-docs/stable/user_guide/indexing.html#returning-a-view-versus-a-copy\n",
      "  buy_signals_below_9_30['time_ist'] = pd.to_datetime(buy_signals_below_9_30['time'], unit='s') + timedelta(hours=5, minutes=30)\n"
     ]
    },
    {
     "name": "stdout",
     "output_type": "stream",
     "text": [
      "Processing NSE_BANKNIFTY240710P53200, 5.csv in BANKNIFTY with condition buy_signal_2...\n"
     ]
    },
    {
     "name": "stderr",
     "output_type": "stream",
     "text": [
      "C:\\temp\\ipykernel_12308\\1528594928.py:224: SettingWithCopyWarning: \n",
      "A value is trying to be set on a copy of a slice from a DataFrame.\n",
      "Try using .loc[row_indexer,col_indexer] = value instead\n",
      "\n",
      "See the caveats in the documentation: https://pandas.pydata.org/pandas-docs/stable/user_guide/indexing.html#returning-a-view-versus-a-copy\n",
      "  buy_signals_below_9_30['time_ist'] = pd.to_datetime(buy_signals_below_9_30['time'], unit='s') + timedelta(hours=5, minutes=30)\n",
      "C:\\temp\\ipykernel_12308\\1528594928.py:266: FutureWarning: The behavior of DataFrame concatenation with empty or all-NA entries is deprecated. In a future version, this will no longer exclude empty or all-NA columns when determining the result dtypes. To retain the old behavior, exclude the relevant entries before the concat operation.\n",
      "  combined_pnl_results_below_9_30 = pd.concat(pnl_results_below_9_30, ignore_index=True)\n",
      "C:\\temp\\ipykernel_12308\\1528594928.py:268: FutureWarning: The behavior of DataFrame concatenation with empty or all-NA entries is deprecated. In a future version, this will no longer exclude empty or all-NA columns when determining the result dtypes. To retain the old behavior, exclude the relevant entries before the concat operation.\n",
      "  combined_trade_results_below_9_30 = pd.concat(trade_results_combined_below_9_30, ignore_index=True)\n",
      "C:\\temp\\ipykernel_12308\\1528594928.py:269: FutureWarning: The behavior of DataFrame concatenation with empty or all-NA entries is deprecated. In a future version, this will no longer exclude empty or all-NA columns when determining the result dtypes. To retain the old behavior, exclude the relevant entries before the concat operation.\n",
      "  combined_all_results_below_9_30 = pd.concat(all_combined_results_below_9_30, ignore_index=True)\n"
     ]
    },
    {
     "name": "stdout",
     "output_type": "stream",
     "text": [
      "Processing NSE_BANKNIFTY240703C52200, 5.csv in BANKNIFTY with condition combined_signal_1...\n",
      "Warning: 'Buy Signal (VOLD above 0 and SOSI above 0)' column not found in the data. Skipping this file.\n",
      "No buy signals found before 9:30 AM IST for NSE_BANKNIFTY240703C52200, 5.csv. Skipping...\n",
      "Processing NSE_BANKNIFTY240703C52300, 5.csv in BANKNIFTY with condition combined_signal_1...\n",
      "Warning: 'Buy Signal (VOLD above 0 and SOSI above 0)' column not found in the data. Skipping this file.\n",
      "No buy signals found before 9:30 AM IST for NSE_BANKNIFTY240703C52300, 5.csv. Skipping...\n",
      "Processing NSE_BANKNIFTY240703C52400, 5.csv in BANKNIFTY with condition combined_signal_1...\n",
      "Warning: 'Buy Signal (VOLD above 0 and SOSI above 0)' column not found in the data. Skipping this file.\n",
      "No buy signals found before 9:30 AM IST for NSE_BANKNIFTY240703C52400, 5.csv. Skipping...\n",
      "Processing NSE_BANKNIFTY240703C52500, 5.csv in BANKNIFTY with condition combined_signal_1...\n",
      "Warning: 'Buy Signal (VOLD above 0 and SOSI above 0)' column not found in the data. Skipping this file.\n",
      "No buy signals found before 9:30 AM IST for NSE_BANKNIFTY240703C52500, 5.csv. Skipping...\n",
      "Processing NSE_BANKNIFTY240703C52600, 5.csv in BANKNIFTY with condition combined_signal_1...\n",
      "Warning: 'Buy Signal (VOLD above 0 and SOSI above 0)' column not found in the data. Skipping this file.\n",
      "No buy signals found before 9:30 AM IST for NSE_BANKNIFTY240703C52600, 5.csv. Skipping...\n",
      "Processing NSE_BANKNIFTY240703C52700, 5.csv in BANKNIFTY with condition combined_signal_1...\n",
      "Warning: 'Buy Signal (VOLD above 0 and SOSI above 0)' column not found in the data. Skipping this file.\n",
      "No buy signals found before 9:30 AM IST for NSE_BANKNIFTY240703C52700, 5.csv. Skipping...\n",
      "Processing NSE_BANKNIFTY240703C52800, 5.csv in BANKNIFTY with condition combined_signal_1...\n",
      "Warning: 'Buy Signal (VOLD above 0 and SOSI above 0)' column not found in the data. Skipping this file.\n",
      "No buy signals found before 9:30 AM IST for NSE_BANKNIFTY240703C52800, 5.csv. Skipping...\n",
      "Processing NSE_BANKNIFTY240703C52900, 5.csv in BANKNIFTY with condition combined_signal_1...\n",
      "Warning: 'Buy Signal (VOLD above 0 and SOSI above 0)' column not found in the data. Skipping this file.\n",
      "No buy signals found before 9:30 AM IST for NSE_BANKNIFTY240703C52900, 5.csv. Skipping...\n",
      "Processing NSE_BANKNIFTY240703C53000, 5.csv in BANKNIFTY with condition combined_signal_1...\n",
      "Warning: 'Buy Signal (VOLD above 0 and SOSI above 0)' column not found in the data. Skipping this file.\n",
      "No buy signals found before 9:30 AM IST for NSE_BANKNIFTY240703C53000, 5.csv. Skipping...\n",
      "Processing NSE_BANKNIFTY240703P52200, 5.csv in BANKNIFTY with condition combined_signal_1...\n",
      "Warning: 'Buy Signal (VOLD above 0 and SOSI above 0)' column not found in the data. Skipping this file.\n",
      "No buy signals found before 9:30 AM IST for NSE_BANKNIFTY240703P52200, 5.csv. Skipping...\n",
      "Processing NSE_BANKNIFTY240703P52300, 5.csv in BANKNIFTY with condition combined_signal_1...\n",
      "Warning: 'Buy Signal (VOLD above 0 and SOSI above 0)' column not found in the data. Skipping this file.\n",
      "No buy signals found before 9:30 AM IST for NSE_BANKNIFTY240703P52300, 5.csv. Skipping...\n",
      "Processing NSE_BANKNIFTY240703P52400, 5.csv in BANKNIFTY with condition combined_signal_1...\n",
      "Warning: 'Buy Signal (VOLD above 0 and SOSI above 0)' column not found in the data. Skipping this file.\n",
      "No buy signals found before 9:30 AM IST for NSE_BANKNIFTY240703P52400, 5.csv. Skipping...\n",
      "Processing NSE_BANKNIFTY240703P52500, 5.csv in BANKNIFTY with condition combined_signal_1...\n",
      "Warning: 'Buy Signal (VOLD above 0 and SOSI above 0)' column not found in the data. Skipping this file.\n",
      "No buy signals found before 9:30 AM IST for NSE_BANKNIFTY240703P52500, 5.csv. Skipping...\n",
      "Processing NSE_BANKNIFTY240703P52600, 5.csv in BANKNIFTY with condition combined_signal_1...\n",
      "Warning: 'Buy Signal (VOLD above 0 and SOSI above 0)' column not found in the data. Skipping this file.\n",
      "No buy signals found before 9:30 AM IST for NSE_BANKNIFTY240703P52600, 5.csv. Skipping...\n",
      "Processing NSE_BANKNIFTY240703P52700, 5.csv in BANKNIFTY with condition combined_signal_1...\n",
      "Warning: 'Buy Signal (VOLD above 0 and SOSI above 0)' column not found in the data. Skipping this file.\n",
      "No buy signals found before 9:30 AM IST for NSE_BANKNIFTY240703P52700, 5.csv. Skipping...\n",
      "Processing NSE_BANKNIFTY240703P52800, 5.csv in BANKNIFTY with condition combined_signal_1...\n",
      "Warning: 'Buy Signal (VOLD above 0 and SOSI above 0)' column not found in the data. Skipping this file.\n",
      "No buy signals found before 9:30 AM IST for NSE_BANKNIFTY240703P52800, 5.csv. Skipping...\n",
      "Processing NSE_BANKNIFTY240703P52900, 5.csv in BANKNIFTY with condition combined_signal_1...\n",
      "Warning: 'Buy Signal (VOLD above 0 and SOSI above 0)' column not found in the data. Skipping this file.\n",
      "No buy signals found before 9:30 AM IST for NSE_BANKNIFTY240703P52900, 5.csv. Skipping...\n",
      "Processing NSE_BANKNIFTY240703P53000, 5.csv in BANKNIFTY with condition combined_signal_1...\n",
      "Warning: 'Buy Signal (VOLD above 0 and SOSI above 0)' column not found in the data. Skipping this file.\n",
      "No buy signals found before 9:30 AM IST for NSE_BANKNIFTY240703P53000, 5.csv. Skipping...\n",
      "Processing NSE_BANKNIFTY240710C52900, 5.csv in BANKNIFTY with condition combined_signal_1...\n",
      "No buy signals found before 9:30 AM IST for NSE_BANKNIFTY240710C52900, 5.csv. Skipping...\n",
      "Processing NSE_BANKNIFTY240710C53000, 5.csv in BANKNIFTY with condition combined_signal_1...\n"
     ]
    },
    {
     "name": "stderr",
     "output_type": "stream",
     "text": [
      "C:\\temp\\ipykernel_12308\\1528594928.py:224: SettingWithCopyWarning: \n",
      "A value is trying to be set on a copy of a slice from a DataFrame.\n",
      "Try using .loc[row_indexer,col_indexer] = value instead\n",
      "\n",
      "See the caveats in the documentation: https://pandas.pydata.org/pandas-docs/stable/user_guide/indexing.html#returning-a-view-versus-a-copy\n",
      "  buy_signals_below_9_30['time_ist'] = pd.to_datetime(buy_signals_below_9_30['time'], unit='s') + timedelta(hours=5, minutes=30)\n"
     ]
    },
    {
     "name": "stdout",
     "output_type": "stream",
     "text": [
      "Processing NSE_BANKNIFTY240710C53100, 5.csv in BANKNIFTY with condition combined_signal_1...\n"
     ]
    },
    {
     "name": "stderr",
     "output_type": "stream",
     "text": [
      "C:\\temp\\ipykernel_12308\\1528594928.py:224: SettingWithCopyWarning: \n",
      "A value is trying to be set on a copy of a slice from a DataFrame.\n",
      "Try using .loc[row_indexer,col_indexer] = value instead\n",
      "\n",
      "See the caveats in the documentation: https://pandas.pydata.org/pandas-docs/stable/user_guide/indexing.html#returning-a-view-versus-a-copy\n",
      "  buy_signals_below_9_30['time_ist'] = pd.to_datetime(buy_signals_below_9_30['time'], unit='s') + timedelta(hours=5, minutes=30)\n"
     ]
    },
    {
     "name": "stdout",
     "output_type": "stream",
     "text": [
      "Processing NSE_BANKNIFTY240710C53200, 5.csv in BANKNIFTY with condition combined_signal_1...\n"
     ]
    },
    {
     "name": "stderr",
     "output_type": "stream",
     "text": [
      "C:\\temp\\ipykernel_12308\\1528594928.py:224: SettingWithCopyWarning: \n",
      "A value is trying to be set on a copy of a slice from a DataFrame.\n",
      "Try using .loc[row_indexer,col_indexer] = value instead\n",
      "\n",
      "See the caveats in the documentation: https://pandas.pydata.org/pandas-docs/stable/user_guide/indexing.html#returning-a-view-versus-a-copy\n",
      "  buy_signals_below_9_30['time_ist'] = pd.to_datetime(buy_signals_below_9_30['time'], unit='s') + timedelta(hours=5, minutes=30)\n"
     ]
    },
    {
     "name": "stdout",
     "output_type": "stream",
     "text": [
      "Processing NSE_BANKNIFTY240710C53500, 5.csv in BANKNIFTY with condition combined_signal_1...\n",
      "Warning: 'Buy Signal (VOLD above 0 and SOSI above 0)' column not found in the data. Skipping this file.\n",
      "No buy signals found before 9:30 AM IST for NSE_BANKNIFTY240710C53500, 5.csv. Skipping...\n",
      "Processing NSE_BANKNIFTY240710P52500, 5.csv in BANKNIFTY with condition combined_signal_1...\n",
      "Warning: 'Buy Signal (VOLD above 0 and SOSI above 0)' column not found in the data. Skipping this file.\n",
      "No buy signals found before 9:30 AM IST for NSE_BANKNIFTY240710P52500, 5.csv. Skipping...\n",
      "Processing NSE_BANKNIFTY240710P52900, 5.csv in BANKNIFTY with condition combined_signal_1...\n",
      "No trades were executed.\n",
      "No trades were executed.\n",
      "No trades were executed.\n",
      "No trades were executed.\n",
      "No trades were executed.\n",
      "Processing NSE_BANKNIFTY240710P53000, 5.csv in BANKNIFTY with condition combined_signal_1...\n"
     ]
    },
    {
     "name": "stderr",
     "output_type": "stream",
     "text": [
      "C:\\temp\\ipykernel_12308\\1528594928.py:224: SettingWithCopyWarning: \n",
      "A value is trying to be set on a copy of a slice from a DataFrame.\n",
      "Try using .loc[row_indexer,col_indexer] = value instead\n",
      "\n",
      "See the caveats in the documentation: https://pandas.pydata.org/pandas-docs/stable/user_guide/indexing.html#returning-a-view-versus-a-copy\n",
      "  buy_signals_below_9_30['time_ist'] = pd.to_datetime(buy_signals_below_9_30['time'], unit='s') + timedelta(hours=5, minutes=30)\n",
      "C:\\temp\\ipykernel_12308\\1528594928.py:224: SettingWithCopyWarning: \n",
      "A value is trying to be set on a copy of a slice from a DataFrame.\n",
      "Try using .loc[row_indexer,col_indexer] = value instead\n",
      "\n",
      "See the caveats in the documentation: https://pandas.pydata.org/pandas-docs/stable/user_guide/indexing.html#returning-a-view-versus-a-copy\n",
      "  buy_signals_below_9_30['time_ist'] = pd.to_datetime(buy_signals_below_9_30['time'], unit='s') + timedelta(hours=5, minutes=30)\n"
     ]
    },
    {
     "name": "stdout",
     "output_type": "stream",
     "text": [
      "Processing NSE_BANKNIFTY240710P53100, 5.csv in BANKNIFTY with condition combined_signal_1...\n"
     ]
    },
    {
     "name": "stderr",
     "output_type": "stream",
     "text": [
      "C:\\temp\\ipykernel_12308\\1528594928.py:224: SettingWithCopyWarning: \n",
      "A value is trying to be set on a copy of a slice from a DataFrame.\n",
      "Try using .loc[row_indexer,col_indexer] = value instead\n",
      "\n",
      "See the caveats in the documentation: https://pandas.pydata.org/pandas-docs/stable/user_guide/indexing.html#returning-a-view-versus-a-copy\n",
      "  buy_signals_below_9_30['time_ist'] = pd.to_datetime(buy_signals_below_9_30['time'], unit='s') + timedelta(hours=5, minutes=30)\n"
     ]
    },
    {
     "name": "stdout",
     "output_type": "stream",
     "text": [
      "Processing NSE_BANKNIFTY240710P53200, 5.csv in BANKNIFTY with condition combined_signal_1...\n"
     ]
    },
    {
     "name": "stderr",
     "output_type": "stream",
     "text": [
      "C:\\temp\\ipykernel_12308\\1528594928.py:224: SettingWithCopyWarning: \n",
      "A value is trying to be set on a copy of a slice from a DataFrame.\n",
      "Try using .loc[row_indexer,col_indexer] = value instead\n",
      "\n",
      "See the caveats in the documentation: https://pandas.pydata.org/pandas-docs/stable/user_guide/indexing.html#returning-a-view-versus-a-copy\n",
      "  buy_signals_below_9_30['time_ist'] = pd.to_datetime(buy_signals_below_9_30['time'], unit='s') + timedelta(hours=5, minutes=30)\n",
      "C:\\temp\\ipykernel_12308\\1528594928.py:266: FutureWarning: The behavior of DataFrame concatenation with empty or all-NA entries is deprecated. In a future version, this will no longer exclude empty or all-NA columns when determining the result dtypes. To retain the old behavior, exclude the relevant entries before the concat operation.\n",
      "  combined_pnl_results_below_9_30 = pd.concat(pnl_results_below_9_30, ignore_index=True)\n",
      "C:\\temp\\ipykernel_12308\\1528594928.py:268: FutureWarning: The behavior of DataFrame concatenation with empty or all-NA entries is deprecated. In a future version, this will no longer exclude empty or all-NA columns when determining the result dtypes. To retain the old behavior, exclude the relevant entries before the concat operation.\n",
      "  combined_trade_results_below_9_30 = pd.concat(trade_results_combined_below_9_30, ignore_index=True)\n",
      "C:\\temp\\ipykernel_12308\\1528594928.py:269: FutureWarning: The behavior of DataFrame concatenation with empty or all-NA entries is deprecated. In a future version, this will no longer exclude empty or all-NA columns when determining the result dtypes. To retain the old behavior, exclude the relevant entries before the concat operation.\n",
      "  combined_all_results_below_9_30 = pd.concat(all_combined_results_below_9_30, ignore_index=True)\n"
     ]
    },
    {
     "name": "stdout",
     "output_type": "stream",
     "text": [
      "Processing NSE_BANKNIFTY240703C52200, 5.csv in BANKNIFTY with condition combined_signal_2...\n",
      "Warning: 'Buy Signal (VOLD above 0 and SOSI above 0)' column not found in the data. Skipping this file.\n",
      "No buy signals found before 9:30 AM IST for NSE_BANKNIFTY240703C52200, 5.csv. Skipping...\n",
      "Processing NSE_BANKNIFTY240703C52300, 5.csv in BANKNIFTY with condition combined_signal_2...\n",
      "Warning: 'Buy Signal (VOLD above 0 and SOSI above 0)' column not found in the data. Skipping this file.\n",
      "No buy signals found before 9:30 AM IST for NSE_BANKNIFTY240703C52300, 5.csv. Skipping...\n",
      "Processing NSE_BANKNIFTY240703C52400, 5.csv in BANKNIFTY with condition combined_signal_2...\n",
      "Warning: 'Buy Signal (VOLD above 0 and SOSI above 0)' column not found in the data. Skipping this file.\n",
      "No buy signals found before 9:30 AM IST for NSE_BANKNIFTY240703C52400, 5.csv. Skipping...\n",
      "Processing NSE_BANKNIFTY240703C52500, 5.csv in BANKNIFTY with condition combined_signal_2...\n",
      "Warning: 'Buy Signal (VOLD above 0 and SOSI above 0)' column not found in the data. Skipping this file.\n",
      "No buy signals found before 9:30 AM IST for NSE_BANKNIFTY240703C52500, 5.csv. Skipping...\n",
      "Processing NSE_BANKNIFTY240703C52600, 5.csv in BANKNIFTY with condition combined_signal_2...\n",
      "Warning: 'Buy Signal (VOLD above 0 and SOSI above 0)' column not found in the data. Skipping this file.\n",
      "No buy signals found before 9:30 AM IST for NSE_BANKNIFTY240703C52600, 5.csv. Skipping...\n",
      "Processing NSE_BANKNIFTY240703C52700, 5.csv in BANKNIFTY with condition combined_signal_2...\n",
      "Warning: 'Buy Signal (VOLD above 0 and SOSI above 0)' column not found in the data. Skipping this file.\n",
      "No buy signals found before 9:30 AM IST for NSE_BANKNIFTY240703C52700, 5.csv. Skipping...\n",
      "Processing NSE_BANKNIFTY240703C52800, 5.csv in BANKNIFTY with condition combined_signal_2...\n",
      "Warning: 'Buy Signal (VOLD above 0 and SOSI above 0)' column not found in the data. Skipping this file.\n",
      "No buy signals found before 9:30 AM IST for NSE_BANKNIFTY240703C52800, 5.csv. Skipping...\n",
      "Processing NSE_BANKNIFTY240703C52900, 5.csv in BANKNIFTY with condition combined_signal_2...\n",
      "Warning: 'Buy Signal (VOLD above 0 and SOSI above 0)' column not found in the data. Skipping this file.\n",
      "No buy signals found before 9:30 AM IST for NSE_BANKNIFTY240703C52900, 5.csv. Skipping...\n",
      "Processing NSE_BANKNIFTY240703C53000, 5.csv in BANKNIFTY with condition combined_signal_2...\n",
      "Warning: 'Buy Signal (VOLD above 0 and SOSI above 0)' column not found in the data. Skipping this file.\n",
      "No buy signals found before 9:30 AM IST for NSE_BANKNIFTY240703C53000, 5.csv. Skipping...\n",
      "Processing NSE_BANKNIFTY240703P52200, 5.csv in BANKNIFTY with condition combined_signal_2...\n",
      "Warning: 'Buy Signal (VOLD above 0 and SOSI above 0)' column not found in the data. Skipping this file.\n",
      "No buy signals found before 9:30 AM IST for NSE_BANKNIFTY240703P52200, 5.csv. Skipping...\n",
      "Processing NSE_BANKNIFTY240703P52300, 5.csv in BANKNIFTY with condition combined_signal_2...\n",
      "Warning: 'Buy Signal (VOLD above 0 and SOSI above 0)' column not found in the data. Skipping this file.\n",
      "No buy signals found before 9:30 AM IST for NSE_BANKNIFTY240703P52300, 5.csv. Skipping...\n",
      "Processing NSE_BANKNIFTY240703P52400, 5.csv in BANKNIFTY with condition combined_signal_2...\n",
      "Warning: 'Buy Signal (VOLD above 0 and SOSI above 0)' column not found in the data. Skipping this file.\n",
      "No buy signals found before 9:30 AM IST for NSE_BANKNIFTY240703P52400, 5.csv. Skipping...\n",
      "Processing NSE_BANKNIFTY240703P52500, 5.csv in BANKNIFTY with condition combined_signal_2...\n",
      "Warning: 'Buy Signal (VOLD above 0 and SOSI above 0)' column not found in the data. Skipping this file.\n",
      "No buy signals found before 9:30 AM IST for NSE_BANKNIFTY240703P52500, 5.csv. Skipping...\n",
      "Processing NSE_BANKNIFTY240703P52600, 5.csv in BANKNIFTY with condition combined_signal_2...\n",
      "Warning: 'Buy Signal (VOLD above 0 and SOSI above 0)' column not found in the data. Skipping this file.\n",
      "No buy signals found before 9:30 AM IST for NSE_BANKNIFTY240703P52600, 5.csv. Skipping...\n",
      "Processing NSE_BANKNIFTY240703P52700, 5.csv in BANKNIFTY with condition combined_signal_2...\n",
      "Warning: 'Buy Signal (VOLD above 0 and SOSI above 0)' column not found in the data. Skipping this file.\n",
      "No buy signals found before 9:30 AM IST for NSE_BANKNIFTY240703P52700, 5.csv. Skipping...\n",
      "Processing NSE_BANKNIFTY240703P52800, 5.csv in BANKNIFTY with condition combined_signal_2...\n",
      "Warning: 'Buy Signal (VOLD above 0 and SOSI above 0)' column not found in the data. Skipping this file.\n",
      "No buy signals found before 9:30 AM IST for NSE_BANKNIFTY240703P52800, 5.csv. Skipping...\n",
      "Processing NSE_BANKNIFTY240703P52900, 5.csv in BANKNIFTY with condition combined_signal_2...\n",
      "Warning: 'Buy Signal (VOLD above 0 and SOSI above 0)' column not found in the data. Skipping this file.\n",
      "No buy signals found before 9:30 AM IST for NSE_BANKNIFTY240703P52900, 5.csv. Skipping...\n",
      "Processing NSE_BANKNIFTY240703P53000, 5.csv in BANKNIFTY with condition combined_signal_2...\n",
      "Warning: 'Buy Signal (VOLD above 0 and SOSI above 0)' column not found in the data. Skipping this file.\n",
      "No buy signals found before 9:30 AM IST for NSE_BANKNIFTY240703P53000, 5.csv. Skipping...\n",
      "Processing NSE_BANKNIFTY240710C52900, 5.csv in BANKNIFTY with condition combined_signal_2...\n",
      "Processing NSE_BANKNIFTY240710C53000, 5.csv in BANKNIFTY with condition combined_signal_2...\n"
     ]
    },
    {
     "name": "stderr",
     "output_type": "stream",
     "text": [
      "C:\\temp\\ipykernel_12308\\1528594928.py:224: SettingWithCopyWarning: \n",
      "A value is trying to be set on a copy of a slice from a DataFrame.\n",
      "Try using .loc[row_indexer,col_indexer] = value instead\n",
      "\n",
      "See the caveats in the documentation: https://pandas.pydata.org/pandas-docs/stable/user_guide/indexing.html#returning-a-view-versus-a-copy\n",
      "  buy_signals_below_9_30['time_ist'] = pd.to_datetime(buy_signals_below_9_30['time'], unit='s') + timedelta(hours=5, minutes=30)\n",
      "C:\\temp\\ipykernel_12308\\1528594928.py:224: SettingWithCopyWarning: \n",
      "A value is trying to be set on a copy of a slice from a DataFrame.\n",
      "Try using .loc[row_indexer,col_indexer] = value instead\n",
      "\n",
      "See the caveats in the documentation: https://pandas.pydata.org/pandas-docs/stable/user_guide/indexing.html#returning-a-view-versus-a-copy\n",
      "  buy_signals_below_9_30['time_ist'] = pd.to_datetime(buy_signals_below_9_30['time'], unit='s') + timedelta(hours=5, minutes=30)\n"
     ]
    },
    {
     "name": "stdout",
     "output_type": "stream",
     "text": [
      "Processing NSE_BANKNIFTY240710C53100, 5.csv in BANKNIFTY with condition combined_signal_2...\n"
     ]
    },
    {
     "name": "stderr",
     "output_type": "stream",
     "text": [
      "C:\\temp\\ipykernel_12308\\1528594928.py:224: SettingWithCopyWarning: \n",
      "A value is trying to be set on a copy of a slice from a DataFrame.\n",
      "Try using .loc[row_indexer,col_indexer] = value instead\n",
      "\n",
      "See the caveats in the documentation: https://pandas.pydata.org/pandas-docs/stable/user_guide/indexing.html#returning-a-view-versus-a-copy\n",
      "  buy_signals_below_9_30['time_ist'] = pd.to_datetime(buy_signals_below_9_30['time'], unit='s') + timedelta(hours=5, minutes=30)\n"
     ]
    },
    {
     "name": "stdout",
     "output_type": "stream",
     "text": [
      "Processing NSE_BANKNIFTY240710C53200, 5.csv in BANKNIFTY with condition combined_signal_2...\n"
     ]
    },
    {
     "name": "stderr",
     "output_type": "stream",
     "text": [
      "C:\\temp\\ipykernel_12308\\1528594928.py:224: SettingWithCopyWarning: \n",
      "A value is trying to be set on a copy of a slice from a DataFrame.\n",
      "Try using .loc[row_indexer,col_indexer] = value instead\n",
      "\n",
      "See the caveats in the documentation: https://pandas.pydata.org/pandas-docs/stable/user_guide/indexing.html#returning-a-view-versus-a-copy\n",
      "  buy_signals_below_9_30['time_ist'] = pd.to_datetime(buy_signals_below_9_30['time'], unit='s') + timedelta(hours=5, minutes=30)\n"
     ]
    },
    {
     "name": "stdout",
     "output_type": "stream",
     "text": [
      "Processing NSE_BANKNIFTY240710C53500, 5.csv in BANKNIFTY with condition combined_signal_2...\n",
      "Warning: 'Buy Signal (VOLD above 0 and SOSI above 0)' column not found in the data. Skipping this file.\n",
      "No buy signals found before 9:30 AM IST for NSE_BANKNIFTY240710C53500, 5.csv. Skipping...\n",
      "Processing NSE_BANKNIFTY240710P52500, 5.csv in BANKNIFTY with condition combined_signal_2...\n",
      "Warning: 'Buy Signal (VOLD above 0 and SOSI above 0)' column not found in the data. Skipping this file.\n",
      "No buy signals found before 9:30 AM IST for NSE_BANKNIFTY240710P52500, 5.csv. Skipping...\n",
      "Processing NSE_BANKNIFTY240710P52900, 5.csv in BANKNIFTY with condition combined_signal_2...\n",
      "No trades were executed.\n",
      "No trades were executed.\n",
      "No trades were executed.\n",
      "No trades were executed.\n",
      "No trades were executed.\n"
     ]
    },
    {
     "name": "stderr",
     "output_type": "stream",
     "text": [
      "C:\\temp\\ipykernel_12308\\1528594928.py:224: SettingWithCopyWarning: \n",
      "A value is trying to be set on a copy of a slice from a DataFrame.\n",
      "Try using .loc[row_indexer,col_indexer] = value instead\n",
      "\n",
      "See the caveats in the documentation: https://pandas.pydata.org/pandas-docs/stable/user_guide/indexing.html#returning-a-view-versus-a-copy\n",
      "  buy_signals_below_9_30['time_ist'] = pd.to_datetime(buy_signals_below_9_30['time'], unit='s') + timedelta(hours=5, minutes=30)\n",
      "C:\\temp\\ipykernel_12308\\1528594928.py:224: SettingWithCopyWarning: \n",
      "A value is trying to be set on a copy of a slice from a DataFrame.\n",
      "Try using .loc[row_indexer,col_indexer] = value instead\n",
      "\n",
      "See the caveats in the documentation: https://pandas.pydata.org/pandas-docs/stable/user_guide/indexing.html#returning-a-view-versus-a-copy\n",
      "  buy_signals_below_9_30['time_ist'] = pd.to_datetime(buy_signals_below_9_30['time'], unit='s') + timedelta(hours=5, minutes=30)\n"
     ]
    },
    {
     "name": "stdout",
     "output_type": "stream",
     "text": [
      "Processing NSE_BANKNIFTY240710P53000, 5.csv in BANKNIFTY with condition combined_signal_2...\n",
      "Processing NSE_BANKNIFTY240710P53100, 5.csv in BANKNIFTY with condition combined_signal_2...\n"
     ]
    },
    {
     "name": "stderr",
     "output_type": "stream",
     "text": [
      "C:\\temp\\ipykernel_12308\\1528594928.py:224: SettingWithCopyWarning: \n",
      "A value is trying to be set on a copy of a slice from a DataFrame.\n",
      "Try using .loc[row_indexer,col_indexer] = value instead\n",
      "\n",
      "See the caveats in the documentation: https://pandas.pydata.org/pandas-docs/stable/user_guide/indexing.html#returning-a-view-versus-a-copy\n",
      "  buy_signals_below_9_30['time_ist'] = pd.to_datetime(buy_signals_below_9_30['time'], unit='s') + timedelta(hours=5, minutes=30)\n"
     ]
    },
    {
     "name": "stdout",
     "output_type": "stream",
     "text": [
      "No trades were executed.\n",
      "No trades were executed.\n",
      "No trades were executed.\n",
      "No trades were executed.\n",
      "No trades were executed.\n",
      "Processing NSE_BANKNIFTY240710P53200, 5.csv in BANKNIFTY with condition combined_signal_2...\n"
     ]
    },
    {
     "name": "stderr",
     "output_type": "stream",
     "text": [
      "C:\\temp\\ipykernel_12308\\1528594928.py:224: SettingWithCopyWarning: \n",
      "A value is trying to be set on a copy of a slice from a DataFrame.\n",
      "Try using .loc[row_indexer,col_indexer] = value instead\n",
      "\n",
      "See the caveats in the documentation: https://pandas.pydata.org/pandas-docs/stable/user_guide/indexing.html#returning-a-view-versus-a-copy\n",
      "  buy_signals_below_9_30['time_ist'] = pd.to_datetime(buy_signals_below_9_30['time'], unit='s') + timedelta(hours=5, minutes=30)\n",
      "C:\\temp\\ipykernel_12308\\1528594928.py:266: FutureWarning: The behavior of DataFrame concatenation with empty or all-NA entries is deprecated. In a future version, this will no longer exclude empty or all-NA columns when determining the result dtypes. To retain the old behavior, exclude the relevant entries before the concat operation.\n",
      "  combined_pnl_results_below_9_30 = pd.concat(pnl_results_below_9_30, ignore_index=True)\n",
      "C:\\temp\\ipykernel_12308\\1528594928.py:268: FutureWarning: The behavior of DataFrame concatenation with empty or all-NA entries is deprecated. In a future version, this will no longer exclude empty or all-NA columns when determining the result dtypes. To retain the old behavior, exclude the relevant entries before the concat operation.\n",
      "  combined_trade_results_below_9_30 = pd.concat(trade_results_combined_below_9_30, ignore_index=True)\n",
      "C:\\temp\\ipykernel_12308\\1528594928.py:269: FutureWarning: The behavior of DataFrame concatenation with empty or all-NA entries is deprecated. In a future version, this will no longer exclude empty or all-NA columns when determining the result dtypes. To retain the old behavior, exclude the relevant entries before the concat operation.\n",
      "  combined_all_results_below_9_30 = pd.concat(all_combined_results_below_9_30, ignore_index=True)\n"
     ]
    },
    {
     "name": "stdout",
     "output_type": "stream",
     "text": [
      "Processing NSE_FINNIFTY240702C23100, 5.csv in FINNIFTY with condition buy_signal_1...\n",
      "Warning: 'Buy Signal (VOLD above 0 and SOSI above 0)' column not found in the data. Skipping this file.\n",
      "No buy signals found before 9:30 AM IST for NSE_FINNIFTY240702C23100, 5.csv. Skipping...\n",
      "Processing NSE_FINNIFTY240702C23400, 5.csv in FINNIFTY with condition buy_signal_1...\n",
      "Warning: 'Buy Signal (VOLD above 0 and SOSI above 0)' column not found in the data. Skipping this file.\n",
      "No buy signals found before 9:30 AM IST for NSE_FINNIFTY240702C23400, 5.csv. Skipping...\n",
      "Processing NSE_FINNIFTY240702C23450, 5.csv in FINNIFTY with condition buy_signal_1...\n",
      "Warning: 'Buy Signal (VOLD above 0 and SOSI above 0)' column not found in the data. Skipping this file.\n",
      "No buy signals found before 9:30 AM IST for NSE_FINNIFTY240702C23450, 5.csv. Skipping...\n",
      "Processing NSE_FINNIFTY240702C23500, 5.csv in FINNIFTY with condition buy_signal_1...\n",
      "Warning: 'Buy Signal (VOLD above 0 and SOSI above 0)' column not found in the data. Skipping this file.\n",
      "No buy signals found before 9:30 AM IST for NSE_FINNIFTY240702C23500, 5.csv. Skipping...\n",
      "Processing NSE_FINNIFTY240702C23550, 5.csv in FINNIFTY with condition buy_signal_1...\n",
      "Warning: 'Buy Signal (VOLD above 0 and SOSI above 0)' column not found in the data. Skipping this file.\n",
      "No buy signals found before 9:30 AM IST for NSE_FINNIFTY240702C23550, 5.csv. Skipping...\n",
      "Processing NSE_FINNIFTY240702C23600, 5.csv in FINNIFTY with condition buy_signal_1...\n",
      "Warning: 'Buy Signal (VOLD above 0 and SOSI above 0)' column not found in the data. Skipping this file.\n",
      "No buy signals found before 9:30 AM IST for NSE_FINNIFTY240702C23600, 5.csv. Skipping...\n",
      "Processing NSE_FINNIFTY240702C23650, 5.csv in FINNIFTY with condition buy_signal_1...\n",
      "Warning: 'Buy Signal (VOLD above 0 and SOSI above 0)' column not found in the data. Skipping this file.\n",
      "No buy signals found before 9:30 AM IST for NSE_FINNIFTY240702C23650, 5.csv. Skipping...\n",
      "Processing NSE_FINNIFTY240702C23700, 5.csv in FINNIFTY with condition buy_signal_1...\n",
      "Warning: 'Buy Signal (VOLD above 0 and SOSI above 0)' column not found in the data. Skipping this file.\n",
      "No buy signals found before 9:30 AM IST for NSE_FINNIFTY240702C23700, 5.csv. Skipping...\n",
      "Processing NSE_FINNIFTY240702P23300, 5.csv in FINNIFTY with condition buy_signal_1...\n",
      "Warning: 'Buy Signal (VOLD above 0 and SOSI above 0)' column not found in the data. Skipping this file.\n",
      "No buy signals found before 9:30 AM IST for NSE_FINNIFTY240702P23300, 5.csv. Skipping...\n",
      "Processing NSE_FINNIFTY240702P23400, 5.csv in FINNIFTY with condition buy_signal_1...\n",
      "Warning: 'Buy Signal (VOLD above 0 and SOSI above 0)' column not found in the data. Skipping this file.\n",
      "No buy signals found before 9:30 AM IST for NSE_FINNIFTY240702P23400, 5.csv. Skipping...\n",
      "Processing NSE_FINNIFTY240702P23450, 5.csv in FINNIFTY with condition buy_signal_1...\n",
      "Warning: 'Buy Signal (VOLD above 0 and SOSI above 0)' column not found in the data. Skipping this file.\n",
      "No buy signals found before 9:30 AM IST for NSE_FINNIFTY240702P23450, 5.csv. Skipping...\n",
      "Processing NSE_FINNIFTY240702P23500, 5.csv in FINNIFTY with condition buy_signal_1...\n",
      "Warning: 'Buy Signal (VOLD above 0 and SOSI above 0)' column not found in the data. Skipping this file.\n",
      "No buy signals found before 9:30 AM IST for NSE_FINNIFTY240702P23500, 5.csv. Skipping...\n",
      "Processing NSE_FINNIFTY240702P23550, 5.csv in FINNIFTY with condition buy_signal_1...\n",
      "Warning: 'Buy Signal (VOLD above 0 and SOSI above 0)' column not found in the data. Skipping this file.\n",
      "No buy signals found before 9:30 AM IST for NSE_FINNIFTY240702P23550, 5.csv. Skipping...\n",
      "Processing NSE_FINNIFTY240702P23600, 5.csv in FINNIFTY with condition buy_signal_1...\n",
      "Warning: 'Buy Signal (VOLD above 0 and SOSI above 0)' column not found in the data. Skipping this file.\n",
      "No buy signals found before 9:30 AM IST for NSE_FINNIFTY240702P23600, 5.csv. Skipping...\n",
      "Processing NSE_FINNIFTY240702P23650, 5.csv in FINNIFTY with condition buy_signal_1...\n",
      "Warning: 'Buy Signal (VOLD above 0 and SOSI above 0)' column not found in the data. Skipping this file.\n",
      "No buy signals found before 9:30 AM IST for NSE_FINNIFTY240702P23650, 5.csv. Skipping...\n",
      "Processing NSE_FINNIFTY240702P23700, 5.csv in FINNIFTY with condition buy_signal_1...\n",
      "Warning: 'Buy Signal (VOLD above 0 and SOSI above 0)' column not found in the data. Skipping this file.\n",
      "No buy signals found before 9:30 AM IST for NSE_FINNIFTY240702P23700, 5.csv. Skipping...\n",
      "Processing NSE_FINNIFTY240702P23800, 5.csv in FINNIFTY with condition buy_signal_1...\n",
      "Warning: 'Buy Signal (VOLD above 0 and SOSI above 0)' column not found in the data. Skipping this file.\n",
      "No buy signals found before 9:30 AM IST for NSE_FINNIFTY240702P23800, 5.csv. Skipping...\n",
      "Processing NSE_FINNIFTY240709C23400, 5.csv in FINNIFTY with condition buy_signal_1...\n",
      "Warning: 'Buy Signal (VOLD above 0 and SOSI above 0)' column not found in the data. Skipping this file.\n",
      "No buy signals found before 9:30 AM IST for NSE_FINNIFTY240709C23400, 5.csv. Skipping...\n",
      "Processing NSE_FINNIFTY240709C23500, 5.csv in FINNIFTY with condition buy_signal_1...\n",
      "No trades were executed.\n",
      "No trades were executed.\n",
      "No trades were executed.\n",
      "No trades were executed.\n",
      "No trades were executed.\n"
     ]
    },
    {
     "name": "stderr",
     "output_type": "stream",
     "text": [
      "C:\\temp\\ipykernel_12308\\1528594928.py:224: SettingWithCopyWarning: \n",
      "A value is trying to be set on a copy of a slice from a DataFrame.\n",
      "Try using .loc[row_indexer,col_indexer] = value instead\n",
      "\n",
      "See the caveats in the documentation: https://pandas.pydata.org/pandas-docs/stable/user_guide/indexing.html#returning-a-view-versus-a-copy\n",
      "  buy_signals_below_9_30['time_ist'] = pd.to_datetime(buy_signals_below_9_30['time'], unit='s') + timedelta(hours=5, minutes=30)\n"
     ]
    },
    {
     "name": "stdout",
     "output_type": "stream",
     "text": [
      "Processing NSE_FINNIFTY240709C23600, 5.csv in FINNIFTY with condition buy_signal_1...\n",
      "Warning: 'Buy Signal (VOLD above 0 and SOSI above 0)' column not found in the data. Skipping this file.\n",
      "No buy signals found before 9:30 AM IST for NSE_FINNIFTY240709C23600, 5.csv. Skipping...\n",
      "Processing NSE_FINNIFTY240709C23700, 5.csv in FINNIFTY with condition buy_signal_1...\n",
      "Warning: 'Buy Signal (VOLD above 0 and SOSI above 0)' column not found in the data. Skipping this file.\n",
      "No buy signals found before 9:30 AM IST for NSE_FINNIFTY240709C23700, 5.csv. Skipping...\n",
      "Processing NSE_FINNIFTY240709C23800, 5.csv in FINNIFTY with condition buy_signal_1...\n",
      "No trades were executed.\n",
      "No trades were executed.\n",
      "No trades were executed.\n",
      "No trades were executed.\n",
      "No trades were executed.\n",
      "Processing NSE_FINNIFTY240709C23900, 5.csv in FINNIFTY with condition buy_signal_1...\n"
     ]
    },
    {
     "name": "stderr",
     "output_type": "stream",
     "text": [
      "C:\\temp\\ipykernel_12308\\1528594928.py:224: SettingWithCopyWarning: \n",
      "A value is trying to be set on a copy of a slice from a DataFrame.\n",
      "Try using .loc[row_indexer,col_indexer] = value instead\n",
      "\n",
      "See the caveats in the documentation: https://pandas.pydata.org/pandas-docs/stable/user_guide/indexing.html#returning-a-view-versus-a-copy\n",
      "  buy_signals_below_9_30['time_ist'] = pd.to_datetime(buy_signals_below_9_30['time'], unit='s') + timedelta(hours=5, minutes=30)\n",
      "C:\\temp\\ipykernel_12308\\1528594928.py:224: SettingWithCopyWarning: \n",
      "A value is trying to be set on a copy of a slice from a DataFrame.\n",
      "Try using .loc[row_indexer,col_indexer] = value instead\n",
      "\n",
      "See the caveats in the documentation: https://pandas.pydata.org/pandas-docs/stable/user_guide/indexing.html#returning-a-view-versus-a-copy\n",
      "  buy_signals_below_9_30['time_ist'] = pd.to_datetime(buy_signals_below_9_30['time'], unit='s') + timedelta(hours=5, minutes=30)\n"
     ]
    },
    {
     "name": "stdout",
     "output_type": "stream",
     "text": [
      "Processing NSE_FINNIFTY240709C24000, 5.csv in FINNIFTY with condition buy_signal_1...\n"
     ]
    },
    {
     "name": "stderr",
     "output_type": "stream",
     "text": [
      "C:\\temp\\ipykernel_12308\\1528594928.py:224: SettingWithCopyWarning: \n",
      "A value is trying to be set on a copy of a slice from a DataFrame.\n",
      "Try using .loc[row_indexer,col_indexer] = value instead\n",
      "\n",
      "See the caveats in the documentation: https://pandas.pydata.org/pandas-docs/stable/user_guide/indexing.html#returning-a-view-versus-a-copy\n",
      "  buy_signals_below_9_30['time_ist'] = pd.to_datetime(buy_signals_below_9_30['time'], unit='s') + timedelta(hours=5, minutes=30)\n"
     ]
    },
    {
     "name": "stdout",
     "output_type": "stream",
     "text": [
      "Processing NSE_FINNIFTY240709P23400, 5.csv in FINNIFTY with condition buy_signal_1...\n",
      "Warning: 'Buy Signal (VOLD above 0 and SOSI above 0)' column not found in the data. Skipping this file.\n",
      "No buy signals found before 9:30 AM IST for NSE_FINNIFTY240709P23400, 5.csv. Skipping...\n",
      "Processing NSE_FINNIFTY240709P23450, 5.csv in FINNIFTY with condition buy_signal_1...\n",
      "Warning: 'Buy Signal (VOLD above 0 and SOSI above 0)' column not found in the data. Skipping this file.\n",
      "No buy signals found before 9:30 AM IST for NSE_FINNIFTY240709P23450, 5.csv. Skipping...\n",
      "Processing NSE_FINNIFTY240709P23500, 5.csv in FINNIFTY with condition buy_signal_1...\n",
      "Warning: 'Buy Signal (VOLD above 0 and SOSI above 0)' column not found in the data. Skipping this file.\n",
      "No buy signals found before 9:30 AM IST for NSE_FINNIFTY240709P23500, 5.csv. Skipping...\n",
      "Processing NSE_FINNIFTY240709P23600, 5.csv in FINNIFTY with condition buy_signal_1...\n",
      "Warning: 'Buy Signal (VOLD above 0 and SOSI above 0)' column not found in the data. Skipping this file.\n",
      "No buy signals found before 9:30 AM IST for NSE_FINNIFTY240709P23600, 5.csv. Skipping...\n",
      "Processing NSE_FINNIFTY240709P23700, 5.csv in FINNIFTY with condition buy_signal_1...\n"
     ]
    },
    {
     "name": "stderr",
     "output_type": "stream",
     "text": [
      "C:\\temp\\ipykernel_12308\\1528594928.py:224: SettingWithCopyWarning: \n",
      "A value is trying to be set on a copy of a slice from a DataFrame.\n",
      "Try using .loc[row_indexer,col_indexer] = value instead\n",
      "\n",
      "See the caveats in the documentation: https://pandas.pydata.org/pandas-docs/stable/user_guide/indexing.html#returning-a-view-versus-a-copy\n",
      "  buy_signals_below_9_30['time_ist'] = pd.to_datetime(buy_signals_below_9_30['time'], unit='s') + timedelta(hours=5, minutes=30)\n"
     ]
    },
    {
     "name": "stdout",
     "output_type": "stream",
     "text": [
      "Processing NSE_FINNIFTY240709P23800, 5.csv in FINNIFTY with condition buy_signal_1...\n",
      "No buy signals found before 9:30 AM IST for NSE_FINNIFTY240709P23800, 5.csv. Skipping...\n",
      "Processing NSE_FINNIFTY240709P23900, 5.csv in FINNIFTY with condition buy_signal_1...\n",
      "No buy signals found before 9:30 AM IST for NSE_FINNIFTY240709P23900, 5.csv. Skipping...\n",
      "Processing NSE_FINNIFTY240709P24000, 5.csv in FINNIFTY with condition buy_signal_1...\n"
     ]
    },
    {
     "name": "stderr",
     "output_type": "stream",
     "text": [
      "C:\\temp\\ipykernel_12308\\1528594928.py:224: SettingWithCopyWarning: \n",
      "A value is trying to be set on a copy of a slice from a DataFrame.\n",
      "Try using .loc[row_indexer,col_indexer] = value instead\n",
      "\n",
      "See the caveats in the documentation: https://pandas.pydata.org/pandas-docs/stable/user_guide/indexing.html#returning-a-view-versus-a-copy\n",
      "  buy_signals_below_9_30['time_ist'] = pd.to_datetime(buy_signals_below_9_30['time'], unit='s') + timedelta(hours=5, minutes=30)\n",
      "C:\\temp\\ipykernel_12308\\1528594928.py:266: FutureWarning: The behavior of DataFrame concatenation with empty or all-NA entries is deprecated. In a future version, this will no longer exclude empty or all-NA columns when determining the result dtypes. To retain the old behavior, exclude the relevant entries before the concat operation.\n",
      "  combined_pnl_results_below_9_30 = pd.concat(pnl_results_below_9_30, ignore_index=True)\n",
      "C:\\temp\\ipykernel_12308\\1528594928.py:268: FutureWarning: The behavior of DataFrame concatenation with empty or all-NA entries is deprecated. In a future version, this will no longer exclude empty or all-NA columns when determining the result dtypes. To retain the old behavior, exclude the relevant entries before the concat operation.\n",
      "  combined_trade_results_below_9_30 = pd.concat(trade_results_combined_below_9_30, ignore_index=True)\n",
      "C:\\temp\\ipykernel_12308\\1528594928.py:269: FutureWarning: The behavior of DataFrame concatenation with empty or all-NA entries is deprecated. In a future version, this will no longer exclude empty or all-NA columns when determining the result dtypes. To retain the old behavior, exclude the relevant entries before the concat operation.\n",
      "  combined_all_results_below_9_30 = pd.concat(all_combined_results_below_9_30, ignore_index=True)\n"
     ]
    },
    {
     "name": "stdout",
     "output_type": "stream",
     "text": [
      "Processing NSE_FINNIFTY240702C23100, 5.csv in FINNIFTY with condition buy_signal_2...\n",
      "Warning: 'Buy Signal (VOLD above 0 and SOSI above 0)' column not found in the data. Skipping this file.\n",
      "No buy signals found before 9:30 AM IST for NSE_FINNIFTY240702C23100, 5.csv. Skipping...\n",
      "Processing NSE_FINNIFTY240702C23400, 5.csv in FINNIFTY with condition buy_signal_2...\n",
      "Warning: 'Buy Signal (VOLD above 0 and SOSI above 0)' column not found in the data. Skipping this file.\n",
      "No buy signals found before 9:30 AM IST for NSE_FINNIFTY240702C23400, 5.csv. Skipping...\n",
      "Processing NSE_FINNIFTY240702C23450, 5.csv in FINNIFTY with condition buy_signal_2...\n",
      "Warning: 'Buy Signal (VOLD above 0 and SOSI above 0)' column not found in the data. Skipping this file.\n",
      "No buy signals found before 9:30 AM IST for NSE_FINNIFTY240702C23450, 5.csv. Skipping...\n",
      "Processing NSE_FINNIFTY240702C23500, 5.csv in FINNIFTY with condition buy_signal_2...\n",
      "Warning: 'Buy Signal (VOLD above 0 and SOSI above 0)' column not found in the data. Skipping this file.\n",
      "No buy signals found before 9:30 AM IST for NSE_FINNIFTY240702C23500, 5.csv. Skipping...\n",
      "Processing NSE_FINNIFTY240702C23550, 5.csv in FINNIFTY with condition buy_signal_2...\n",
      "Warning: 'Buy Signal (VOLD above 0 and SOSI above 0)' column not found in the data. Skipping this file.\n",
      "No buy signals found before 9:30 AM IST for NSE_FINNIFTY240702C23550, 5.csv. Skipping...\n",
      "Processing NSE_FINNIFTY240702C23600, 5.csv in FINNIFTY with condition buy_signal_2...\n",
      "Warning: 'Buy Signal (VOLD above 0 and SOSI above 0)' column not found in the data. Skipping this file.\n",
      "No buy signals found before 9:30 AM IST for NSE_FINNIFTY240702C23600, 5.csv. Skipping...\n",
      "Processing NSE_FINNIFTY240702C23650, 5.csv in FINNIFTY with condition buy_signal_2...\n",
      "Warning: 'Buy Signal (VOLD above 0 and SOSI above 0)' column not found in the data. Skipping this file.\n",
      "No buy signals found before 9:30 AM IST for NSE_FINNIFTY240702C23650, 5.csv. Skipping...\n",
      "Processing NSE_FINNIFTY240702C23700, 5.csv in FINNIFTY with condition buy_signal_2...\n",
      "Warning: 'Buy Signal (VOLD above 0 and SOSI above 0)' column not found in the data. Skipping this file.\n",
      "No buy signals found before 9:30 AM IST for NSE_FINNIFTY240702C23700, 5.csv. Skipping...\n",
      "Processing NSE_FINNIFTY240702P23300, 5.csv in FINNIFTY with condition buy_signal_2...\n",
      "Warning: 'Buy Signal (VOLD above 0 and SOSI above 0)' column not found in the data. Skipping this file.\n",
      "No buy signals found before 9:30 AM IST for NSE_FINNIFTY240702P23300, 5.csv. Skipping...\n",
      "Processing NSE_FINNIFTY240702P23400, 5.csv in FINNIFTY with condition buy_signal_2...\n",
      "Warning: 'Buy Signal (VOLD above 0 and SOSI above 0)' column not found in the data. Skipping this file.\n",
      "No buy signals found before 9:30 AM IST for NSE_FINNIFTY240702P23400, 5.csv. Skipping...\n",
      "Processing NSE_FINNIFTY240702P23450, 5.csv in FINNIFTY with condition buy_signal_2...\n",
      "Warning: 'Buy Signal (VOLD above 0 and SOSI above 0)' column not found in the data. Skipping this file.\n",
      "No buy signals found before 9:30 AM IST for NSE_FINNIFTY240702P23450, 5.csv. Skipping...\n",
      "Processing NSE_FINNIFTY240702P23500, 5.csv in FINNIFTY with condition buy_signal_2...\n",
      "Warning: 'Buy Signal (VOLD above 0 and SOSI above 0)' column not found in the data. Skipping this file.\n",
      "No buy signals found before 9:30 AM IST for NSE_FINNIFTY240702P23500, 5.csv. Skipping...\n",
      "Processing NSE_FINNIFTY240702P23550, 5.csv in FINNIFTY with condition buy_signal_2...\n",
      "Warning: 'Buy Signal (VOLD above 0 and SOSI above 0)' column not found in the data. Skipping this file.\n",
      "No buy signals found before 9:30 AM IST for NSE_FINNIFTY240702P23550, 5.csv. Skipping...\n",
      "Processing NSE_FINNIFTY240702P23600, 5.csv in FINNIFTY with condition buy_signal_2...\n",
      "Warning: 'Buy Signal (VOLD above 0 and SOSI above 0)' column not found in the data. Skipping this file.\n",
      "No buy signals found before 9:30 AM IST for NSE_FINNIFTY240702P23600, 5.csv. Skipping...\n",
      "Processing NSE_FINNIFTY240702P23650, 5.csv in FINNIFTY with condition buy_signal_2...\n",
      "Warning: 'Buy Signal (VOLD above 0 and SOSI above 0)' column not found in the data. Skipping this file.\n",
      "No buy signals found before 9:30 AM IST for NSE_FINNIFTY240702P23650, 5.csv. Skipping...\n",
      "Processing NSE_FINNIFTY240702P23700, 5.csv in FINNIFTY with condition buy_signal_2...\n",
      "Warning: 'Buy Signal (VOLD above 0 and SOSI above 0)' column not found in the data. Skipping this file.\n",
      "No buy signals found before 9:30 AM IST for NSE_FINNIFTY240702P23700, 5.csv. Skipping...\n",
      "Processing NSE_FINNIFTY240702P23800, 5.csv in FINNIFTY with condition buy_signal_2...\n",
      "Warning: 'Buy Signal (VOLD above 0 and SOSI above 0)' column not found in the data. Skipping this file.\n",
      "No buy signals found before 9:30 AM IST for NSE_FINNIFTY240702P23800, 5.csv. Skipping...\n",
      "Processing NSE_FINNIFTY240709C23400, 5.csv in FINNIFTY with condition buy_signal_2...\n",
      "Warning: 'Buy Signal (VOLD above 0 and SOSI above 0)' column not found in the data. Skipping this file.\n",
      "No buy signals found before 9:30 AM IST for NSE_FINNIFTY240709C23400, 5.csv. Skipping...\n",
      "Processing NSE_FINNIFTY240709C23500, 5.csv in FINNIFTY with condition buy_signal_2...\n",
      "No trades were executed.\n",
      "No trades were executed.\n",
      "No trades were executed.\n",
      "No trades were executed.\n",
      "No trades were executed.\n"
     ]
    },
    {
     "name": "stderr",
     "output_type": "stream",
     "text": [
      "C:\\temp\\ipykernel_12308\\1528594928.py:224: SettingWithCopyWarning: \n",
      "A value is trying to be set on a copy of a slice from a DataFrame.\n",
      "Try using .loc[row_indexer,col_indexer] = value instead\n",
      "\n",
      "See the caveats in the documentation: https://pandas.pydata.org/pandas-docs/stable/user_guide/indexing.html#returning-a-view-versus-a-copy\n",
      "  buy_signals_below_9_30['time_ist'] = pd.to_datetime(buy_signals_below_9_30['time'], unit='s') + timedelta(hours=5, minutes=30)\n"
     ]
    },
    {
     "name": "stdout",
     "output_type": "stream",
     "text": [
      "Processing NSE_FINNIFTY240709C23600, 5.csv in FINNIFTY with condition buy_signal_2...\n",
      "Warning: 'Buy Signal (VOLD above 0 and SOSI above 0)' column not found in the data. Skipping this file.\n",
      "No buy signals found before 9:30 AM IST for NSE_FINNIFTY240709C23600, 5.csv. Skipping...\n",
      "Processing NSE_FINNIFTY240709C23700, 5.csv in FINNIFTY with condition buy_signal_2...\n",
      "Warning: 'Buy Signal (VOLD above 0 and SOSI above 0)' column not found in the data. Skipping this file.\n",
      "No buy signals found before 9:30 AM IST for NSE_FINNIFTY240709C23700, 5.csv. Skipping...\n",
      "Processing NSE_FINNIFTY240709C23800, 5.csv in FINNIFTY with condition buy_signal_2...\n",
      "Processing NSE_FINNIFTY240709C23900, 5.csv in FINNIFTY with condition buy_signal_2...\n"
     ]
    },
    {
     "name": "stderr",
     "output_type": "stream",
     "text": [
      "C:\\temp\\ipykernel_12308\\1528594928.py:224: SettingWithCopyWarning: \n",
      "A value is trying to be set on a copy of a slice from a DataFrame.\n",
      "Try using .loc[row_indexer,col_indexer] = value instead\n",
      "\n",
      "See the caveats in the documentation: https://pandas.pydata.org/pandas-docs/stable/user_guide/indexing.html#returning-a-view-versus-a-copy\n",
      "  buy_signals_below_9_30['time_ist'] = pd.to_datetime(buy_signals_below_9_30['time'], unit='s') + timedelta(hours=5, minutes=30)\n",
      "C:\\temp\\ipykernel_12308\\1528594928.py:224: SettingWithCopyWarning: \n",
      "A value is trying to be set on a copy of a slice from a DataFrame.\n",
      "Try using .loc[row_indexer,col_indexer] = value instead\n",
      "\n",
      "See the caveats in the documentation: https://pandas.pydata.org/pandas-docs/stable/user_guide/indexing.html#returning-a-view-versus-a-copy\n",
      "  buy_signals_below_9_30['time_ist'] = pd.to_datetime(buy_signals_below_9_30['time'], unit='s') + timedelta(hours=5, minutes=30)\n"
     ]
    },
    {
     "name": "stdout",
     "output_type": "stream",
     "text": [
      "Processing NSE_FINNIFTY240709C24000, 5.csv in FINNIFTY with condition buy_signal_2...\n",
      "Processing NSE_FINNIFTY240709P23400, 5.csv in FINNIFTY with condition buy_signal_2...\n",
      "Warning: 'Buy Signal (VOLD above 0 and SOSI above 0)' column not found in the data. Skipping this file.\n",
      "No buy signals found before 9:30 AM IST for NSE_FINNIFTY240709P23400, 5.csv. Skipping...\n",
      "Processing NSE_FINNIFTY240709P23450, 5.csv in FINNIFTY with condition buy_signal_2...\n"
     ]
    },
    {
     "name": "stderr",
     "output_type": "stream",
     "text": [
      "C:\\temp\\ipykernel_12308\\1528594928.py:224: SettingWithCopyWarning: \n",
      "A value is trying to be set on a copy of a slice from a DataFrame.\n",
      "Try using .loc[row_indexer,col_indexer] = value instead\n",
      "\n",
      "See the caveats in the documentation: https://pandas.pydata.org/pandas-docs/stable/user_guide/indexing.html#returning-a-view-versus-a-copy\n",
      "  buy_signals_below_9_30['time_ist'] = pd.to_datetime(buy_signals_below_9_30['time'], unit='s') + timedelta(hours=5, minutes=30)\n"
     ]
    },
    {
     "name": "stdout",
     "output_type": "stream",
     "text": [
      "Warning: 'Buy Signal (VOLD above 0 and SOSI above 0)' column not found in the data. Skipping this file.\n",
      "No buy signals found before 9:30 AM IST for NSE_FINNIFTY240709P23450, 5.csv. Skipping...\n",
      "Processing NSE_FINNIFTY240709P23500, 5.csv in FINNIFTY with condition buy_signal_2...\n",
      "Warning: 'Buy Signal (VOLD above 0 and SOSI above 0)' column not found in the data. Skipping this file.\n",
      "No buy signals found before 9:30 AM IST for NSE_FINNIFTY240709P23500, 5.csv. Skipping...\n",
      "Processing NSE_FINNIFTY240709P23600, 5.csv in FINNIFTY with condition buy_signal_2...\n",
      "Warning: 'Buy Signal (VOLD above 0 and SOSI above 0)' column not found in the data. Skipping this file.\n",
      "No buy signals found before 9:30 AM IST for NSE_FINNIFTY240709P23600, 5.csv. Skipping...\n",
      "Processing NSE_FINNIFTY240709P23700, 5.csv in FINNIFTY with condition buy_signal_2...\n"
     ]
    },
    {
     "name": "stderr",
     "output_type": "stream",
     "text": [
      "C:\\temp\\ipykernel_12308\\1528594928.py:224: SettingWithCopyWarning: \n",
      "A value is trying to be set on a copy of a slice from a DataFrame.\n",
      "Try using .loc[row_indexer,col_indexer] = value instead\n",
      "\n",
      "See the caveats in the documentation: https://pandas.pydata.org/pandas-docs/stable/user_guide/indexing.html#returning-a-view-versus-a-copy\n",
      "  buy_signals_below_9_30['time_ist'] = pd.to_datetime(buy_signals_below_9_30['time'], unit='s') + timedelta(hours=5, minutes=30)\n"
     ]
    },
    {
     "name": "stdout",
     "output_type": "stream",
     "text": [
      "Processing NSE_FINNIFTY240709P23800, 5.csv in FINNIFTY with condition buy_signal_2...\n",
      "No trades were executed.\n",
      "No trades were executed.\n",
      "No trades were executed.\n",
      "No trades were executed.\n",
      "No trades were executed.\n"
     ]
    },
    {
     "name": "stderr",
     "output_type": "stream",
     "text": [
      "C:\\temp\\ipykernel_12308\\1528594928.py:224: SettingWithCopyWarning: \n",
      "A value is trying to be set on a copy of a slice from a DataFrame.\n",
      "Try using .loc[row_indexer,col_indexer] = value instead\n",
      "\n",
      "See the caveats in the documentation: https://pandas.pydata.org/pandas-docs/stable/user_guide/indexing.html#returning-a-view-versus-a-copy\n",
      "  buy_signals_below_9_30['time_ist'] = pd.to_datetime(buy_signals_below_9_30['time'], unit='s') + timedelta(hours=5, minutes=30)\n"
     ]
    },
    {
     "name": "stdout",
     "output_type": "stream",
     "text": [
      "Processing NSE_FINNIFTY240709P23900, 5.csv in FINNIFTY with condition buy_signal_2...\n",
      "No buy signals found before 9:30 AM IST for NSE_FINNIFTY240709P23900, 5.csv. Skipping...\n",
      "Processing NSE_FINNIFTY240709P24000, 5.csv in FINNIFTY with condition buy_signal_2...\n"
     ]
    },
    {
     "name": "stderr",
     "output_type": "stream",
     "text": [
      "C:\\temp\\ipykernel_12308\\1528594928.py:224: SettingWithCopyWarning: \n",
      "A value is trying to be set on a copy of a slice from a DataFrame.\n",
      "Try using .loc[row_indexer,col_indexer] = value instead\n",
      "\n",
      "See the caveats in the documentation: https://pandas.pydata.org/pandas-docs/stable/user_guide/indexing.html#returning-a-view-versus-a-copy\n",
      "  buy_signals_below_9_30['time_ist'] = pd.to_datetime(buy_signals_below_9_30['time'], unit='s') + timedelta(hours=5, minutes=30)\n",
      "C:\\temp\\ipykernel_12308\\1528594928.py:266: FutureWarning: The behavior of DataFrame concatenation with empty or all-NA entries is deprecated. In a future version, this will no longer exclude empty or all-NA columns when determining the result dtypes. To retain the old behavior, exclude the relevant entries before the concat operation.\n",
      "  combined_pnl_results_below_9_30 = pd.concat(pnl_results_below_9_30, ignore_index=True)\n",
      "C:\\temp\\ipykernel_12308\\1528594928.py:268: FutureWarning: The behavior of DataFrame concatenation with empty or all-NA entries is deprecated. In a future version, this will no longer exclude empty or all-NA columns when determining the result dtypes. To retain the old behavior, exclude the relevant entries before the concat operation.\n",
      "  combined_trade_results_below_9_30 = pd.concat(trade_results_combined_below_9_30, ignore_index=True)\n",
      "C:\\temp\\ipykernel_12308\\1528594928.py:269: FutureWarning: The behavior of DataFrame concatenation with empty or all-NA entries is deprecated. In a future version, this will no longer exclude empty or all-NA columns when determining the result dtypes. To retain the old behavior, exclude the relevant entries before the concat operation.\n",
      "  combined_all_results_below_9_30 = pd.concat(all_combined_results_below_9_30, ignore_index=True)\n"
     ]
    },
    {
     "name": "stdout",
     "output_type": "stream",
     "text": [
      "Processing NSE_FINNIFTY240702C23100, 5.csv in FINNIFTY with condition combined_signal_1...\n",
      "Warning: 'Buy Signal (VOLD above 0 and SOSI above 0)' column not found in the data. Skipping this file.\n",
      "No buy signals found before 9:30 AM IST for NSE_FINNIFTY240702C23100, 5.csv. Skipping...\n",
      "Processing NSE_FINNIFTY240702C23400, 5.csv in FINNIFTY with condition combined_signal_1...\n",
      "Warning: 'Buy Signal (VOLD above 0 and SOSI above 0)' column not found in the data. Skipping this file.\n",
      "No buy signals found before 9:30 AM IST for NSE_FINNIFTY240702C23400, 5.csv. Skipping...\n",
      "Processing NSE_FINNIFTY240702C23450, 5.csv in FINNIFTY with condition combined_signal_1...\n",
      "Warning: 'Buy Signal (VOLD above 0 and SOSI above 0)' column not found in the data. Skipping this file.\n",
      "No buy signals found before 9:30 AM IST for NSE_FINNIFTY240702C23450, 5.csv. Skipping...\n",
      "Processing NSE_FINNIFTY240702C23500, 5.csv in FINNIFTY with condition combined_signal_1...\n",
      "Warning: 'Buy Signal (VOLD above 0 and SOSI above 0)' column not found in the data. Skipping this file.\n",
      "No buy signals found before 9:30 AM IST for NSE_FINNIFTY240702C23500, 5.csv. Skipping...\n",
      "Processing NSE_FINNIFTY240702C23550, 5.csv in FINNIFTY with condition combined_signal_1...\n",
      "Warning: 'Buy Signal (VOLD above 0 and SOSI above 0)' column not found in the data. Skipping this file.\n",
      "No buy signals found before 9:30 AM IST for NSE_FINNIFTY240702C23550, 5.csv. Skipping...\n",
      "Processing NSE_FINNIFTY240702C23600, 5.csv in FINNIFTY with condition combined_signal_1...\n",
      "Warning: 'Buy Signal (VOLD above 0 and SOSI above 0)' column not found in the data. Skipping this file.\n",
      "No buy signals found before 9:30 AM IST for NSE_FINNIFTY240702C23600, 5.csv. Skipping...\n",
      "Processing NSE_FINNIFTY240702C23650, 5.csv in FINNIFTY with condition combined_signal_1...\n",
      "Warning: 'Buy Signal (VOLD above 0 and SOSI above 0)' column not found in the data. Skipping this file.\n",
      "No buy signals found before 9:30 AM IST for NSE_FINNIFTY240702C23650, 5.csv. Skipping...\n",
      "Processing NSE_FINNIFTY240702C23700, 5.csv in FINNIFTY with condition combined_signal_1...\n",
      "Warning: 'Buy Signal (VOLD above 0 and SOSI above 0)' column not found in the data. Skipping this file.\n",
      "No buy signals found before 9:30 AM IST for NSE_FINNIFTY240702C23700, 5.csv. Skipping...\n",
      "Processing NSE_FINNIFTY240702P23300, 5.csv in FINNIFTY with condition combined_signal_1...\n",
      "Warning: 'Buy Signal (VOLD above 0 and SOSI above 0)' column not found in the data. Skipping this file.\n",
      "No buy signals found before 9:30 AM IST for NSE_FINNIFTY240702P23300, 5.csv. Skipping...\n",
      "Processing NSE_FINNIFTY240702P23400, 5.csv in FINNIFTY with condition combined_signal_1...\n",
      "Warning: 'Buy Signal (VOLD above 0 and SOSI above 0)' column not found in the data. Skipping this file.\n",
      "No buy signals found before 9:30 AM IST for NSE_FINNIFTY240702P23400, 5.csv. Skipping...\n",
      "Processing NSE_FINNIFTY240702P23450, 5.csv in FINNIFTY with condition combined_signal_1...\n",
      "Warning: 'Buy Signal (VOLD above 0 and SOSI above 0)' column not found in the data. Skipping this file.\n",
      "No buy signals found before 9:30 AM IST for NSE_FINNIFTY240702P23450, 5.csv. Skipping...\n",
      "Processing NSE_FINNIFTY240702P23500, 5.csv in FINNIFTY with condition combined_signal_1...\n",
      "Warning: 'Buy Signal (VOLD above 0 and SOSI above 0)' column not found in the data. Skipping this file.\n",
      "No buy signals found before 9:30 AM IST for NSE_FINNIFTY240702P23500, 5.csv. Skipping...\n",
      "Processing NSE_FINNIFTY240702P23550, 5.csv in FINNIFTY with condition combined_signal_1...\n",
      "Warning: 'Buy Signal (VOLD above 0 and SOSI above 0)' column not found in the data. Skipping this file.\n",
      "No buy signals found before 9:30 AM IST for NSE_FINNIFTY240702P23550, 5.csv. Skipping...\n",
      "Processing NSE_FINNIFTY240702P23600, 5.csv in FINNIFTY with condition combined_signal_1...\n",
      "Warning: 'Buy Signal (VOLD above 0 and SOSI above 0)' column not found in the data. Skipping this file.\n",
      "No buy signals found before 9:30 AM IST for NSE_FINNIFTY240702P23600, 5.csv. Skipping...\n",
      "Processing NSE_FINNIFTY240702P23650, 5.csv in FINNIFTY with condition combined_signal_1...\n",
      "Warning: 'Buy Signal (VOLD above 0 and SOSI above 0)' column not found in the data. Skipping this file.\n",
      "No buy signals found before 9:30 AM IST for NSE_FINNIFTY240702P23650, 5.csv. Skipping...\n",
      "Processing NSE_FINNIFTY240702P23700, 5.csv in FINNIFTY with condition combined_signal_1...\n",
      "Warning: 'Buy Signal (VOLD above 0 and SOSI above 0)' column not found in the data. Skipping this file.\n",
      "No buy signals found before 9:30 AM IST for NSE_FINNIFTY240702P23700, 5.csv. Skipping...\n",
      "Processing NSE_FINNIFTY240702P23800, 5.csv in FINNIFTY with condition combined_signal_1...\n",
      "Warning: 'Buy Signal (VOLD above 0 and SOSI above 0)' column not found in the data. Skipping this file.\n",
      "No buy signals found before 9:30 AM IST for NSE_FINNIFTY240702P23800, 5.csv. Skipping...\n",
      "Processing NSE_FINNIFTY240709C23400, 5.csv in FINNIFTY with condition combined_signal_1...\n",
      "Warning: 'Buy Signal (VOLD above 0 and SOSI above 0)' column not found in the data. Skipping this file.\n",
      "No buy signals found before 9:30 AM IST for NSE_FINNIFTY240709C23400, 5.csv. Skipping...\n",
      "Processing NSE_FINNIFTY240709C23500, 5.csv in FINNIFTY with condition combined_signal_1...\n"
     ]
    },
    {
     "name": "stderr",
     "output_type": "stream",
     "text": [
      "C:\\temp\\ipykernel_12308\\1528594928.py:224: SettingWithCopyWarning: \n",
      "A value is trying to be set on a copy of a slice from a DataFrame.\n",
      "Try using .loc[row_indexer,col_indexer] = value instead\n",
      "\n",
      "See the caveats in the documentation: https://pandas.pydata.org/pandas-docs/stable/user_guide/indexing.html#returning-a-view-versus-a-copy\n",
      "  buy_signals_below_9_30['time_ist'] = pd.to_datetime(buy_signals_below_9_30['time'], unit='s') + timedelta(hours=5, minutes=30)\n"
     ]
    },
    {
     "name": "stdout",
     "output_type": "stream",
     "text": [
      "No trades were executed.\n",
      "No trades were executed.\n",
      "No trades were executed.\n",
      "No trades were executed.\n",
      "No trades were executed.\n",
      "Processing NSE_FINNIFTY240709C23600, 5.csv in FINNIFTY with condition combined_signal_1...\n",
      "Warning: 'Buy Signal (VOLD above 0 and SOSI above 0)' column not found in the data. Skipping this file.\n",
      "No buy signals found before 9:30 AM IST for NSE_FINNIFTY240709C23600, 5.csv. Skipping...\n",
      "Processing NSE_FINNIFTY240709C23700, 5.csv in FINNIFTY with condition combined_signal_1...\n",
      "Warning: 'Buy Signal (VOLD above 0 and SOSI above 0)' column not found in the data. Skipping this file.\n",
      "No buy signals found before 9:30 AM IST for NSE_FINNIFTY240709C23700, 5.csv. Skipping...\n",
      "Processing NSE_FINNIFTY240709C23800, 5.csv in FINNIFTY with condition combined_signal_1...\n",
      "No buy signals found before 9:30 AM IST for NSE_FINNIFTY240709C23800, 5.csv. Skipping...\n",
      "Processing NSE_FINNIFTY240709C23900, 5.csv in FINNIFTY with condition combined_signal_1...\n",
      "Processing NSE_FINNIFTY240709C24000, 5.csv in FINNIFTY with condition combined_signal_1...\n"
     ]
    },
    {
     "name": "stderr",
     "output_type": "stream",
     "text": [
      "C:\\temp\\ipykernel_12308\\1528594928.py:224: SettingWithCopyWarning: \n",
      "A value is trying to be set on a copy of a slice from a DataFrame.\n",
      "Try using .loc[row_indexer,col_indexer] = value instead\n",
      "\n",
      "See the caveats in the documentation: https://pandas.pydata.org/pandas-docs/stable/user_guide/indexing.html#returning-a-view-versus-a-copy\n",
      "  buy_signals_below_9_30['time_ist'] = pd.to_datetime(buy_signals_below_9_30['time'], unit='s') + timedelta(hours=5, minutes=30)\n",
      "C:\\temp\\ipykernel_12308\\1528594928.py:224: SettingWithCopyWarning: \n",
      "A value is trying to be set on a copy of a slice from a DataFrame.\n",
      "Try using .loc[row_indexer,col_indexer] = value instead\n",
      "\n",
      "See the caveats in the documentation: https://pandas.pydata.org/pandas-docs/stable/user_guide/indexing.html#returning-a-view-versus-a-copy\n",
      "  buy_signals_below_9_30['time_ist'] = pd.to_datetime(buy_signals_below_9_30['time'], unit='s') + timedelta(hours=5, minutes=30)\n"
     ]
    },
    {
     "name": "stdout",
     "output_type": "stream",
     "text": [
      "Processing NSE_FINNIFTY240709P23400, 5.csv in FINNIFTY with condition combined_signal_1...\n",
      "Warning: 'Buy Signal (VOLD above 0 and SOSI above 0)' column not found in the data. Skipping this file.\n",
      "No buy signals found before 9:30 AM IST for NSE_FINNIFTY240709P23400, 5.csv. Skipping...\n",
      "Processing NSE_FINNIFTY240709P23450, 5.csv in FINNIFTY with condition combined_signal_1...\n",
      "Warning: 'Buy Signal (VOLD above 0 and SOSI above 0)' column not found in the data. Skipping this file.\n",
      "No buy signals found before 9:30 AM IST for NSE_FINNIFTY240709P23450, 5.csv. Skipping...\n",
      "Processing NSE_FINNIFTY240709P23500, 5.csv in FINNIFTY with condition combined_signal_1...\n",
      "Warning: 'Buy Signal (VOLD above 0 and SOSI above 0)' column not found in the data. Skipping this file.\n",
      "No buy signals found before 9:30 AM IST for NSE_FINNIFTY240709P23500, 5.csv. Skipping...\n",
      "Processing NSE_FINNIFTY240709P23600, 5.csv in FINNIFTY with condition combined_signal_1...\n",
      "Warning: 'Buy Signal (VOLD above 0 and SOSI above 0)' column not found in the data. Skipping this file.\n",
      "No buy signals found before 9:30 AM IST for NSE_FINNIFTY240709P23600, 5.csv. Skipping...\n",
      "Processing NSE_FINNIFTY240709P23700, 5.csv in FINNIFTY with condition combined_signal_1...\n"
     ]
    },
    {
     "name": "stderr",
     "output_type": "stream",
     "text": [
      "C:\\temp\\ipykernel_12308\\1528594928.py:224: SettingWithCopyWarning: \n",
      "A value is trying to be set on a copy of a slice from a DataFrame.\n",
      "Try using .loc[row_indexer,col_indexer] = value instead\n",
      "\n",
      "See the caveats in the documentation: https://pandas.pydata.org/pandas-docs/stable/user_guide/indexing.html#returning-a-view-versus-a-copy\n",
      "  buy_signals_below_9_30['time_ist'] = pd.to_datetime(buy_signals_below_9_30['time'], unit='s') + timedelta(hours=5, minutes=30)\n"
     ]
    },
    {
     "name": "stdout",
     "output_type": "stream",
     "text": [
      "Processing NSE_FINNIFTY240709P23800, 5.csv in FINNIFTY with condition combined_signal_1...\n",
      "No buy signals found before 9:30 AM IST for NSE_FINNIFTY240709P23800, 5.csv. Skipping...\n",
      "Processing NSE_FINNIFTY240709P23900, 5.csv in FINNIFTY with condition combined_signal_1...\n",
      "No buy signals found before 9:30 AM IST for NSE_FINNIFTY240709P23900, 5.csv. Skipping...\n",
      "Processing NSE_FINNIFTY240709P24000, 5.csv in FINNIFTY with condition combined_signal_1...\n",
      "No buy signals found before 9:30 AM IST for NSE_FINNIFTY240709P24000, 5.csv. Skipping...\n"
     ]
    },
    {
     "name": "stderr",
     "output_type": "stream",
     "text": [
      "C:\\temp\\ipykernel_12308\\1528594928.py:266: FutureWarning: The behavior of DataFrame concatenation with empty or all-NA entries is deprecated. In a future version, this will no longer exclude empty or all-NA columns when determining the result dtypes. To retain the old behavior, exclude the relevant entries before the concat operation.\n",
      "  combined_pnl_results_below_9_30 = pd.concat(pnl_results_below_9_30, ignore_index=True)\n",
      "C:\\temp\\ipykernel_12308\\1528594928.py:268: FutureWarning: The behavior of DataFrame concatenation with empty or all-NA entries is deprecated. In a future version, this will no longer exclude empty or all-NA columns when determining the result dtypes. To retain the old behavior, exclude the relevant entries before the concat operation.\n",
      "  combined_trade_results_below_9_30 = pd.concat(trade_results_combined_below_9_30, ignore_index=True)\n",
      "C:\\temp\\ipykernel_12308\\1528594928.py:269: FutureWarning: The behavior of DataFrame concatenation with empty or all-NA entries is deprecated. In a future version, this will no longer exclude empty or all-NA columns when determining the result dtypes. To retain the old behavior, exclude the relevant entries before the concat operation.\n",
      "  combined_all_results_below_9_30 = pd.concat(all_combined_results_below_9_30, ignore_index=True)\n"
     ]
    },
    {
     "name": "stdout",
     "output_type": "stream",
     "text": [
      "Processing NSE_FINNIFTY240702C23100, 5.csv in FINNIFTY with condition combined_signal_2...\n",
      "Warning: 'Buy Signal (VOLD above 0 and SOSI above 0)' column not found in the data. Skipping this file.\n",
      "No buy signals found before 9:30 AM IST for NSE_FINNIFTY240702C23100, 5.csv. Skipping...\n",
      "Processing NSE_FINNIFTY240702C23400, 5.csv in FINNIFTY with condition combined_signal_2...\n",
      "Warning: 'Buy Signal (VOLD above 0 and SOSI above 0)' column not found in the data. Skipping this file.\n",
      "No buy signals found before 9:30 AM IST for NSE_FINNIFTY240702C23400, 5.csv. Skipping...\n",
      "Processing NSE_FINNIFTY240702C23450, 5.csv in FINNIFTY with condition combined_signal_2...\n",
      "Warning: 'Buy Signal (VOLD above 0 and SOSI above 0)' column not found in the data. Skipping this file.\n",
      "No buy signals found before 9:30 AM IST for NSE_FINNIFTY240702C23450, 5.csv. Skipping...\n",
      "Processing NSE_FINNIFTY240702C23500, 5.csv in FINNIFTY with condition combined_signal_2...\n",
      "Warning: 'Buy Signal (VOLD above 0 and SOSI above 0)' column not found in the data. Skipping this file.\n",
      "No buy signals found before 9:30 AM IST for NSE_FINNIFTY240702C23500, 5.csv. Skipping...\n",
      "Processing NSE_FINNIFTY240702C23550, 5.csv in FINNIFTY with condition combined_signal_2...\n",
      "Warning: 'Buy Signal (VOLD above 0 and SOSI above 0)' column not found in the data. Skipping this file.\n",
      "No buy signals found before 9:30 AM IST for NSE_FINNIFTY240702C23550, 5.csv. Skipping...\n",
      "Processing NSE_FINNIFTY240702C23600, 5.csv in FINNIFTY with condition combined_signal_2...\n",
      "Warning: 'Buy Signal (VOLD above 0 and SOSI above 0)' column not found in the data. Skipping this file.\n",
      "No buy signals found before 9:30 AM IST for NSE_FINNIFTY240702C23600, 5.csv. Skipping...\n",
      "Processing NSE_FINNIFTY240702C23650, 5.csv in FINNIFTY with condition combined_signal_2...\n",
      "Warning: 'Buy Signal (VOLD above 0 and SOSI above 0)' column not found in the data. Skipping this file.\n",
      "No buy signals found before 9:30 AM IST for NSE_FINNIFTY240702C23650, 5.csv. Skipping...\n",
      "Processing NSE_FINNIFTY240702C23700, 5.csv in FINNIFTY with condition combined_signal_2...\n",
      "Warning: 'Buy Signal (VOLD above 0 and SOSI above 0)' column not found in the data. Skipping this file.\n",
      "No buy signals found before 9:30 AM IST for NSE_FINNIFTY240702C23700, 5.csv. Skipping...\n",
      "Processing NSE_FINNIFTY240702P23300, 5.csv in FINNIFTY with condition combined_signal_2...\n",
      "Warning: 'Buy Signal (VOLD above 0 and SOSI above 0)' column not found in the data. Skipping this file.\n",
      "No buy signals found before 9:30 AM IST for NSE_FINNIFTY240702P23300, 5.csv. Skipping...\n",
      "Processing NSE_FINNIFTY240702P23400, 5.csv in FINNIFTY with condition combined_signal_2...\n",
      "Warning: 'Buy Signal (VOLD above 0 and SOSI above 0)' column not found in the data. Skipping this file.\n",
      "No buy signals found before 9:30 AM IST for NSE_FINNIFTY240702P23400, 5.csv. Skipping...\n",
      "Processing NSE_FINNIFTY240702P23450, 5.csv in FINNIFTY with condition combined_signal_2...\n",
      "Warning: 'Buy Signal (VOLD above 0 and SOSI above 0)' column not found in the data. Skipping this file.\n",
      "No buy signals found before 9:30 AM IST for NSE_FINNIFTY240702P23450, 5.csv. Skipping...\n",
      "Processing NSE_FINNIFTY240702P23500, 5.csv in FINNIFTY with condition combined_signal_2...\n",
      "Warning: 'Buy Signal (VOLD above 0 and SOSI above 0)' column not found in the data. Skipping this file.\n",
      "No buy signals found before 9:30 AM IST for NSE_FINNIFTY240702P23500, 5.csv. Skipping...\n",
      "Processing NSE_FINNIFTY240702P23550, 5.csv in FINNIFTY with condition combined_signal_2...\n",
      "Warning: 'Buy Signal (VOLD above 0 and SOSI above 0)' column not found in the data. Skipping this file.\n",
      "No buy signals found before 9:30 AM IST for NSE_FINNIFTY240702P23550, 5.csv. Skipping...\n",
      "Processing NSE_FINNIFTY240702P23600, 5.csv in FINNIFTY with condition combined_signal_2...\n",
      "Warning: 'Buy Signal (VOLD above 0 and SOSI above 0)' column not found in the data. Skipping this file.\n",
      "No buy signals found before 9:30 AM IST for NSE_FINNIFTY240702P23600, 5.csv. Skipping...\n",
      "Processing NSE_FINNIFTY240702P23650, 5.csv in FINNIFTY with condition combined_signal_2...\n",
      "Warning: 'Buy Signal (VOLD above 0 and SOSI above 0)' column not found in the data. Skipping this file.\n",
      "No buy signals found before 9:30 AM IST for NSE_FINNIFTY240702P23650, 5.csv. Skipping...\n",
      "Processing NSE_FINNIFTY240702P23700, 5.csv in FINNIFTY with condition combined_signal_2...\n",
      "Warning: 'Buy Signal (VOLD above 0 and SOSI above 0)' column not found in the data. Skipping this file.\n",
      "No buy signals found before 9:30 AM IST for NSE_FINNIFTY240702P23700, 5.csv. Skipping...\n",
      "Processing NSE_FINNIFTY240702P23800, 5.csv in FINNIFTY with condition combined_signal_2...\n",
      "Warning: 'Buy Signal (VOLD above 0 and SOSI above 0)' column not found in the data. Skipping this file.\n",
      "No buy signals found before 9:30 AM IST for NSE_FINNIFTY240702P23800, 5.csv. Skipping...\n",
      "Processing NSE_FINNIFTY240709C23400, 5.csv in FINNIFTY with condition combined_signal_2...\n",
      "Warning: 'Buy Signal (VOLD above 0 and SOSI above 0)' column not found in the data. Skipping this file.\n",
      "No buy signals found before 9:30 AM IST for NSE_FINNIFTY240709C23400, 5.csv. Skipping...\n",
      "Processing NSE_FINNIFTY240709C23500, 5.csv in FINNIFTY with condition combined_signal_2...\n",
      "No trades were executed.\n",
      "No trades were executed.\n",
      "No trades were executed.\n",
      "No trades were executed.\n",
      "No trades were executed.\n"
     ]
    },
    {
     "name": "stderr",
     "output_type": "stream",
     "text": [
      "C:\\temp\\ipykernel_12308\\1528594928.py:224: SettingWithCopyWarning: \n",
      "A value is trying to be set on a copy of a slice from a DataFrame.\n",
      "Try using .loc[row_indexer,col_indexer] = value instead\n",
      "\n",
      "See the caveats in the documentation: https://pandas.pydata.org/pandas-docs/stable/user_guide/indexing.html#returning-a-view-versus-a-copy\n",
      "  buy_signals_below_9_30['time_ist'] = pd.to_datetime(buy_signals_below_9_30['time'], unit='s') + timedelta(hours=5, minutes=30)\n"
     ]
    },
    {
     "name": "stdout",
     "output_type": "stream",
     "text": [
      "Processing NSE_FINNIFTY240709C23600, 5.csv in FINNIFTY with condition combined_signal_2...\n",
      "Warning: 'Buy Signal (VOLD above 0 and SOSI above 0)' column not found in the data. Skipping this file.\n",
      "No buy signals found before 9:30 AM IST for NSE_FINNIFTY240709C23600, 5.csv. Skipping...\n",
      "Processing NSE_FINNIFTY240709C23700, 5.csv in FINNIFTY with condition combined_signal_2...\n",
      "Warning: 'Buy Signal (VOLD above 0 and SOSI above 0)' column not found in the data. Skipping this file.\n",
      "No buy signals found before 9:30 AM IST for NSE_FINNIFTY240709C23700, 5.csv. Skipping...\n",
      "Processing NSE_FINNIFTY240709C23800, 5.csv in FINNIFTY with condition combined_signal_2...\n",
      "No buy signals found before 9:30 AM IST for NSE_FINNIFTY240709C23800, 5.csv. Skipping...\n",
      "Processing NSE_FINNIFTY240709C23900, 5.csv in FINNIFTY with condition combined_signal_2...\n"
     ]
    },
    {
     "name": "stderr",
     "output_type": "stream",
     "text": [
      "C:\\temp\\ipykernel_12308\\1528594928.py:224: SettingWithCopyWarning: \n",
      "A value is trying to be set on a copy of a slice from a DataFrame.\n",
      "Try using .loc[row_indexer,col_indexer] = value instead\n",
      "\n",
      "See the caveats in the documentation: https://pandas.pydata.org/pandas-docs/stable/user_guide/indexing.html#returning-a-view-versus-a-copy\n",
      "  buy_signals_below_9_30['time_ist'] = pd.to_datetime(buy_signals_below_9_30['time'], unit='s') + timedelta(hours=5, minutes=30)\n",
      "C:\\temp\\ipykernel_12308\\1528594928.py:224: SettingWithCopyWarning: \n",
      "A value is trying to be set on a copy of a slice from a DataFrame.\n",
      "Try using .loc[row_indexer,col_indexer] = value instead\n",
      "\n",
      "See the caveats in the documentation: https://pandas.pydata.org/pandas-docs/stable/user_guide/indexing.html#returning-a-view-versus-a-copy\n",
      "  buy_signals_below_9_30['time_ist'] = pd.to_datetime(buy_signals_below_9_30['time'], unit='s') + timedelta(hours=5, minutes=30)\n"
     ]
    },
    {
     "name": "stdout",
     "output_type": "stream",
     "text": [
      "Processing NSE_FINNIFTY240709C24000, 5.csv in FINNIFTY with condition combined_signal_2...\n",
      "Processing NSE_FINNIFTY240709P23400, 5.csv in FINNIFTY with condition combined_signal_2...\n",
      "Warning: 'Buy Signal (VOLD above 0 and SOSI above 0)' column not found in the data. Skipping this file.\n",
      "No buy signals found before 9:30 AM IST for NSE_FINNIFTY240709P23400, 5.csv. Skipping...\n",
      "Processing NSE_FINNIFTY240709P23450, 5.csv in FINNIFTY with condition combined_signal_2...\n",
      "Warning: 'Buy Signal (VOLD above 0 and SOSI above 0)' column not found in the data. Skipping this file.\n",
      "No buy signals found before 9:30 AM IST for NSE_FINNIFTY240709P23450, 5.csv. Skipping...\n",
      "Processing NSE_FINNIFTY240709P23500, 5.csv in FINNIFTY with condition combined_signal_2...\n",
      "Warning: 'Buy Signal (VOLD above 0 and SOSI above 0)' column not found in the data. Skipping this file.\n",
      "No buy signals found before 9:30 AM IST for NSE_FINNIFTY240709P23500, 5.csv. Skipping...\n",
      "Processing NSE_FINNIFTY240709P23600, 5.csv in FINNIFTY with condition combined_signal_2...\n",
      "Warning: 'Buy Signal (VOLD above 0 and SOSI above 0)' column not found in the data. Skipping this file.\n",
      "No buy signals found before 9:30 AM IST for NSE_FINNIFTY240709P23600, 5.csv. Skipping...\n",
      "Processing NSE_FINNIFTY240709P23700, 5.csv in FINNIFTY with condition combined_signal_2...\n"
     ]
    },
    {
     "name": "stderr",
     "output_type": "stream",
     "text": [
      "C:\\temp\\ipykernel_12308\\1528594928.py:224: SettingWithCopyWarning: \n",
      "A value is trying to be set on a copy of a slice from a DataFrame.\n",
      "Try using .loc[row_indexer,col_indexer] = value instead\n",
      "\n",
      "See the caveats in the documentation: https://pandas.pydata.org/pandas-docs/stable/user_guide/indexing.html#returning-a-view-versus-a-copy\n",
      "  buy_signals_below_9_30['time_ist'] = pd.to_datetime(buy_signals_below_9_30['time'], unit='s') + timedelta(hours=5, minutes=30)\n"
     ]
    },
    {
     "name": "stdout",
     "output_type": "stream",
     "text": [
      "Processing NSE_FINNIFTY240709P23800, 5.csv in FINNIFTY with condition combined_signal_2...\n",
      "No buy signals found before 9:30 AM IST for NSE_FINNIFTY240709P23800, 5.csv. Skipping...\n",
      "Processing NSE_FINNIFTY240709P23900, 5.csv in FINNIFTY with condition combined_signal_2...\n",
      "No buy signals found before 9:30 AM IST for NSE_FINNIFTY240709P23900, 5.csv. Skipping...\n",
      "Processing NSE_FINNIFTY240709P24000, 5.csv in FINNIFTY with condition combined_signal_2...\n",
      "No trades were executed.\n",
      "No trades were executed.\n",
      "No trades were executed.\n",
      "No trades were executed.\n",
      "No trades were executed.\n"
     ]
    },
    {
     "name": "stderr",
     "output_type": "stream",
     "text": [
      "C:\\temp\\ipykernel_12308\\1528594928.py:224: SettingWithCopyWarning: \n",
      "A value is trying to be set on a copy of a slice from a DataFrame.\n",
      "Try using .loc[row_indexer,col_indexer] = value instead\n",
      "\n",
      "See the caveats in the documentation: https://pandas.pydata.org/pandas-docs/stable/user_guide/indexing.html#returning-a-view-versus-a-copy\n",
      "  buy_signals_below_9_30['time_ist'] = pd.to_datetime(buy_signals_below_9_30['time'], unit='s') + timedelta(hours=5, minutes=30)\n",
      "C:\\temp\\ipykernel_12308\\1528594928.py:266: FutureWarning: The behavior of DataFrame concatenation with empty or all-NA entries is deprecated. In a future version, this will no longer exclude empty or all-NA columns when determining the result dtypes. To retain the old behavior, exclude the relevant entries before the concat operation.\n",
      "  combined_pnl_results_below_9_30 = pd.concat(pnl_results_below_9_30, ignore_index=True)\n",
      "C:\\temp\\ipykernel_12308\\1528594928.py:268: FutureWarning: The behavior of DataFrame concatenation with empty or all-NA entries is deprecated. In a future version, this will no longer exclude empty or all-NA columns when determining the result dtypes. To retain the old behavior, exclude the relevant entries before the concat operation.\n",
      "  combined_trade_results_below_9_30 = pd.concat(trade_results_combined_below_9_30, ignore_index=True)\n",
      "C:\\temp\\ipykernel_12308\\1528594928.py:269: FutureWarning: The behavior of DataFrame concatenation with empty or all-NA entries is deprecated. In a future version, this will no longer exclude empty or all-NA columns when determining the result dtypes. To retain the old behavior, exclude the relevant entries before the concat operation.\n",
      "  combined_all_results_below_9_30 = pd.concat(all_combined_results_below_9_30, ignore_index=True)\n"
     ]
    },
    {
     "name": "stdout",
     "output_type": "stream",
     "text": [
      "Processing BSE_BSX240628C79200, 5.csv in SENSEX with condition buy_signal_1...\n",
      "Warning: 'Buy Signal (VOLD above 0 and SOSI above 0)' column not found in the data. Skipping this file.\n",
      "No buy signals found before 9:30 AM IST for BSE_BSX240628C79200, 5.csv. Skipping...\n",
      "Processing BSE_BSX240628C79300, 5.csv in SENSEX with condition buy_signal_1...\n",
      "Warning: 'Buy Signal (VOLD above 0 and SOSI above 0)' column not found in the data. Skipping this file.\n",
      "No buy signals found before 9:30 AM IST for BSE_BSX240628C79300, 5.csv. Skipping...\n",
      "Processing BSE_BSX240628C79500, 5.csv in SENSEX with condition buy_signal_1...\n",
      "Warning: 'Buy Signal (VOLD above 0 and SOSI above 0)' column not found in the data. Skipping this file.\n",
      "No buy signals found before 9:30 AM IST for BSE_BSX240628C79500, 5.csv. Skipping...\n",
      "Processing BSE_BSX240628P79000, 5.csv in SENSEX with condition buy_signal_1...\n",
      "Warning: 'Buy Signal (VOLD above 0 and SOSI above 0)' column not found in the data. Skipping this file.\n",
      "No buy signals found before 9:30 AM IST for BSE_BSX240628P79000, 5.csv. Skipping...\n",
      "Processing BSE_BSX240628P79200, 5.csv in SENSEX with condition buy_signal_1...\n",
      "Warning: 'Buy Signal (VOLD above 0 and SOSI above 0)' column not found in the data. Skipping this file.\n",
      "No buy signals found before 9:30 AM IST for BSE_BSX240628P79200, 5.csv. Skipping...\n",
      "Processing BSE_BSX240628P79300, 5.csv in SENSEX with condition buy_signal_1...\n",
      "Warning: 'Buy Signal (VOLD above 0 and SOSI above 0)' column not found in the data. Skipping this file.\n",
      "No buy signals found before 9:30 AM IST for BSE_BSX240628P79300, 5.csv. Skipping...\n",
      "Processing BSE_BSX240628P79500, 5.csv in SENSEX with condition buy_signal_1...\n",
      "Warning: 'Buy Signal (VOLD above 0 and SOSI above 0)' column not found in the data. Skipping this file.\n",
      "No buy signals found before 9:30 AM IST for BSE_BSX240628P79500, 5.csv. Skipping...\n",
      "Processing BSE_BSX240705C80000, 5.csv in SENSEX with condition buy_signal_1...\n",
      "No trades were executed.\n",
      "No trades were executed.\n",
      "No trades were executed.\n",
      "No trades were executed.\n",
      "No trades were executed.\n"
     ]
    },
    {
     "name": "stderr",
     "output_type": "stream",
     "text": [
      "C:\\temp\\ipykernel_12308\\1528594928.py:224: SettingWithCopyWarning: \n",
      "A value is trying to be set on a copy of a slice from a DataFrame.\n",
      "Try using .loc[row_indexer,col_indexer] = value instead\n",
      "\n",
      "See the caveats in the documentation: https://pandas.pydata.org/pandas-docs/stable/user_guide/indexing.html#returning-a-view-versus-a-copy\n",
      "  buy_signals_below_9_30['time_ist'] = pd.to_datetime(buy_signals_below_9_30['time'], unit='s') + timedelta(hours=5, minutes=30)\n",
      "C:\\temp\\ipykernel_12308\\1528594928.py:224: SettingWithCopyWarning: \n",
      "A value is trying to be set on a copy of a slice from a DataFrame.\n",
      "Try using .loc[row_indexer,col_indexer] = value instead\n",
      "\n",
      "See the caveats in the documentation: https://pandas.pydata.org/pandas-docs/stable/user_guide/indexing.html#returning-a-view-versus-a-copy\n",
      "  buy_signals_below_9_30['time_ist'] = pd.to_datetime(buy_signals_below_9_30['time'], unit='s') + timedelta(hours=5, minutes=30)\n",
      "C:\\temp\\ipykernel_12308\\1528594928.py:224: SettingWithCopyWarning: \n",
      "A value is trying to be set on a copy of a slice from a DataFrame.\n",
      "Try using .loc[row_indexer,col_indexer] = value instead\n",
      "\n",
      "See the caveats in the documentation: https://pandas.pydata.org/pandas-docs/stable/user_guide/indexing.html#returning-a-view-versus-a-copy\n",
      "  buy_signals_below_9_30['time_ist'] = pd.to_datetime(buy_signals_below_9_30['time'], unit='s') + timedelta(hours=5, minutes=30)\n"
     ]
    },
    {
     "name": "stdout",
     "output_type": "stream",
     "text": [
      "Processing BSE_BSX240705C80100, 5.csv in SENSEX with condition buy_signal_1...\n",
      "No trades were executed.\n",
      "No trades were executed.\n",
      "No trades were executed.\n",
      "No trades were executed.\n",
      "No trades were executed.\n",
      "Processing BSE_BSX240705C80200, 5.csv in SENSEX with condition buy_signal_1...\n",
      "Processing BSE_BSX240705C80300, 5.csv in SENSEX with condition buy_signal_1...\n",
      "No buy signals found before 9:30 AM IST for BSE_BSX240705C80300, 5.csv. Skipping...\n",
      "Processing BSE_BSX240705C80500, 5.csv in SENSEX with condition buy_signal_1...\n",
      "No buy signals found before 9:30 AM IST for BSE_BSX240705C80500, 5.csv. Skipping...\n",
      "Processing BSE_BSX240705P79500, 5.csv in SENSEX with condition buy_signal_1...\n",
      "No trades were executed.\n",
      "No trades were executed.\n",
      "No trades were executed.\n",
      "No trades were executed.\n",
      "No trades were executed.\n",
      "Processing BSE_BSX240705P80000, 5.csv in SENSEX with condition buy_signal_1...\n",
      "No trades were executed.\n",
      "No trades were executed.\n",
      "No trades were executed.\n",
      "No trades were executed.\n",
      "No trades were executed.\n"
     ]
    },
    {
     "name": "stderr",
     "output_type": "stream",
     "text": [
      "C:\\temp\\ipykernel_12308\\1528594928.py:224: SettingWithCopyWarning: \n",
      "A value is trying to be set on a copy of a slice from a DataFrame.\n",
      "Try using .loc[row_indexer,col_indexer] = value instead\n",
      "\n",
      "See the caveats in the documentation: https://pandas.pydata.org/pandas-docs/stable/user_guide/indexing.html#returning-a-view-versus-a-copy\n",
      "  buy_signals_below_9_30['time_ist'] = pd.to_datetime(buy_signals_below_9_30['time'], unit='s') + timedelta(hours=5, minutes=30)\n",
      "C:\\temp\\ipykernel_12308\\1528594928.py:224: SettingWithCopyWarning: \n",
      "A value is trying to be set on a copy of a slice from a DataFrame.\n",
      "Try using .loc[row_indexer,col_indexer] = value instead\n",
      "\n",
      "See the caveats in the documentation: https://pandas.pydata.org/pandas-docs/stable/user_guide/indexing.html#returning-a-view-versus-a-copy\n",
      "  buy_signals_below_9_30['time_ist'] = pd.to_datetime(buy_signals_below_9_30['time'], unit='s') + timedelta(hours=5, minutes=30)\n",
      "C:\\temp\\ipykernel_12308\\1528594928.py:266: FutureWarning: The behavior of DataFrame concatenation with empty or all-NA entries is deprecated. In a future version, this will no longer exclude empty or all-NA columns when determining the result dtypes. To retain the old behavior, exclude the relevant entries before the concat operation.\n",
      "  combined_pnl_results_below_9_30 = pd.concat(pnl_results_below_9_30, ignore_index=True)\n",
      "C:\\temp\\ipykernel_12308\\1528594928.py:268: FutureWarning: The behavior of DataFrame concatenation with empty or all-NA entries is deprecated. In a future version, this will no longer exclude empty or all-NA columns when determining the result dtypes. To retain the old behavior, exclude the relevant entries before the concat operation.\n",
      "  combined_trade_results_below_9_30 = pd.concat(trade_results_combined_below_9_30, ignore_index=True)\n",
      "C:\\temp\\ipykernel_12308\\1528594928.py:269: FutureWarning: The behavior of DataFrame concatenation with empty or all-NA entries is deprecated. In a future version, this will no longer exclude empty or all-NA columns when determining the result dtypes. To retain the old behavior, exclude the relevant entries before the concat operation.\n",
      "  combined_all_results_below_9_30 = pd.concat(all_combined_results_below_9_30, ignore_index=True)\n"
     ]
    },
    {
     "name": "stdout",
     "output_type": "stream",
     "text": [
      "Processing BSE_BSX240705P80200, 5.csv in SENSEX with condition buy_signal_1...\n",
      "No buy signals found before 9:30 AM IST for BSE_BSX240705P80200, 5.csv. Skipping...\n",
      "Processing BSE_BSX240628C79200, 5.csv in SENSEX with condition buy_signal_2...\n",
      "Warning: 'Buy Signal (VOLD above 0 and SOSI above 0)' column not found in the data. Skipping this file.\n",
      "No buy signals found before 9:30 AM IST for BSE_BSX240628C79200, 5.csv. Skipping...\n",
      "Processing BSE_BSX240628C79300, 5.csv in SENSEX with condition buy_signal_2...\n",
      "Warning: 'Buy Signal (VOLD above 0 and SOSI above 0)' column not found in the data. Skipping this file.\n",
      "No buy signals found before 9:30 AM IST for BSE_BSX240628C79300, 5.csv. Skipping...\n",
      "Processing BSE_BSX240628C79500, 5.csv in SENSEX with condition buy_signal_2...\n",
      "Warning: 'Buy Signal (VOLD above 0 and SOSI above 0)' column not found in the data. Skipping this file.\n",
      "No buy signals found before 9:30 AM IST for BSE_BSX240628C79500, 5.csv. Skipping...\n",
      "Processing BSE_BSX240628P79000, 5.csv in SENSEX with condition buy_signal_2...\n",
      "Warning: 'Buy Signal (VOLD above 0 and SOSI above 0)' column not found in the data. Skipping this file.\n",
      "No buy signals found before 9:30 AM IST for BSE_BSX240628P79000, 5.csv. Skipping...\n",
      "Processing BSE_BSX240628P79200, 5.csv in SENSEX with condition buy_signal_2...\n",
      "Warning: 'Buy Signal (VOLD above 0 and SOSI above 0)' column not found in the data. Skipping this file.\n",
      "No buy signals found before 9:30 AM IST for BSE_BSX240628P79200, 5.csv. Skipping...\n",
      "Processing BSE_BSX240628P79300, 5.csv in SENSEX with condition buy_signal_2...\n",
      "Warning: 'Buy Signal (VOLD above 0 and SOSI above 0)' column not found in the data. Skipping this file.\n",
      "No buy signals found before 9:30 AM IST for BSE_BSX240628P79300, 5.csv. Skipping...\n",
      "Processing BSE_BSX240628P79500, 5.csv in SENSEX with condition buy_signal_2...\n",
      "Warning: 'Buy Signal (VOLD above 0 and SOSI above 0)' column not found in the data. Skipping this file.\n",
      "No buy signals found before 9:30 AM IST for BSE_BSX240628P79500, 5.csv. Skipping...\n",
      "Processing BSE_BSX240705C80000, 5.csv in SENSEX with condition buy_signal_2...\n"
     ]
    },
    {
     "name": "stderr",
     "output_type": "stream",
     "text": [
      "C:\\temp\\ipykernel_12308\\1528594928.py:224: SettingWithCopyWarning: \n",
      "A value is trying to be set on a copy of a slice from a DataFrame.\n",
      "Try using .loc[row_indexer,col_indexer] = value instead\n",
      "\n",
      "See the caveats in the documentation: https://pandas.pydata.org/pandas-docs/stable/user_guide/indexing.html#returning-a-view-versus-a-copy\n",
      "  buy_signals_below_9_30['time_ist'] = pd.to_datetime(buy_signals_below_9_30['time'], unit='s') + timedelta(hours=5, minutes=30)\n"
     ]
    },
    {
     "name": "stdout",
     "output_type": "stream",
     "text": [
      "No trades were executed.\n",
      "No trades were executed.\n",
      "No trades were executed.\n",
      "No trades were executed.\n",
      "No trades were executed.\n",
      "Processing BSE_BSX240705C80100, 5.csv in SENSEX with condition buy_signal_2...\n"
     ]
    },
    {
     "name": "stderr",
     "output_type": "stream",
     "text": [
      "C:\\temp\\ipykernel_12308\\1528594928.py:224: SettingWithCopyWarning: \n",
      "A value is trying to be set on a copy of a slice from a DataFrame.\n",
      "Try using .loc[row_indexer,col_indexer] = value instead\n",
      "\n",
      "See the caveats in the documentation: https://pandas.pydata.org/pandas-docs/stable/user_guide/indexing.html#returning-a-view-versus-a-copy\n",
      "  buy_signals_below_9_30['time_ist'] = pd.to_datetime(buy_signals_below_9_30['time'], unit='s') + timedelta(hours=5, minutes=30)\n"
     ]
    },
    {
     "name": "stdout",
     "output_type": "stream",
     "text": [
      "No trades were executed.\n",
      "No trades were executed.\n",
      "No trades were executed.\n",
      "No trades were executed.\n",
      "No trades were executed.\n",
      "Processing BSE_BSX240705C80200, 5.csv in SENSEX with condition buy_signal_2...\n"
     ]
    },
    {
     "name": "stderr",
     "output_type": "stream",
     "text": [
      "C:\\temp\\ipykernel_12308\\1528594928.py:224: SettingWithCopyWarning: \n",
      "A value is trying to be set on a copy of a slice from a DataFrame.\n",
      "Try using .loc[row_indexer,col_indexer] = value instead\n",
      "\n",
      "See the caveats in the documentation: https://pandas.pydata.org/pandas-docs/stable/user_guide/indexing.html#returning-a-view-versus-a-copy\n",
      "  buy_signals_below_9_30['time_ist'] = pd.to_datetime(buy_signals_below_9_30['time'], unit='s') + timedelta(hours=5, minutes=30)\n"
     ]
    },
    {
     "name": "stdout",
     "output_type": "stream",
     "text": [
      "No trades were executed.\n",
      "No trades were executed.\n",
      "No trades were executed.\n",
      "No trades were executed.\n",
      "No trades were executed.\n",
      "Processing BSE_BSX240705C80300, 5.csv in SENSEX with condition buy_signal_2...\n"
     ]
    },
    {
     "name": "stderr",
     "output_type": "stream",
     "text": [
      "C:\\temp\\ipykernel_12308\\1528594928.py:224: SettingWithCopyWarning: \n",
      "A value is trying to be set on a copy of a slice from a DataFrame.\n",
      "Try using .loc[row_indexer,col_indexer] = value instead\n",
      "\n",
      "See the caveats in the documentation: https://pandas.pydata.org/pandas-docs/stable/user_guide/indexing.html#returning-a-view-versus-a-copy\n",
      "  buy_signals_below_9_30['time_ist'] = pd.to_datetime(buy_signals_below_9_30['time'], unit='s') + timedelta(hours=5, minutes=30)\n",
      "C:\\temp\\ipykernel_12308\\1528594928.py:224: SettingWithCopyWarning: \n",
      "A value is trying to be set on a copy of a slice from a DataFrame.\n",
      "Try using .loc[row_indexer,col_indexer] = value instead\n",
      "\n",
      "See the caveats in the documentation: https://pandas.pydata.org/pandas-docs/stable/user_guide/indexing.html#returning-a-view-versus-a-copy\n",
      "  buy_signals_below_9_30['time_ist'] = pd.to_datetime(buy_signals_below_9_30['time'], unit='s') + timedelta(hours=5, minutes=30)\n"
     ]
    },
    {
     "name": "stdout",
     "output_type": "stream",
     "text": [
      "No trades were executed.\n",
      "No trades were executed.\n",
      "No trades were executed.\n",
      "No trades were executed.\n",
      "No trades were executed.\n",
      "Processing BSE_BSX240705C80500, 5.csv in SENSEX with condition buy_signal_2...\n",
      "No buy signals found before 9:30 AM IST for BSE_BSX240705C80500, 5.csv. Skipping...\n",
      "Processing BSE_BSX240705P79500, 5.csv in SENSEX with condition buy_signal_2...\n",
      "Processing BSE_BSX240705P80000, 5.csv in SENSEX with condition buy_signal_2...\n"
     ]
    },
    {
     "name": "stderr",
     "output_type": "stream",
     "text": [
      "C:\\temp\\ipykernel_12308\\1528594928.py:224: SettingWithCopyWarning: \n",
      "A value is trying to be set on a copy of a slice from a DataFrame.\n",
      "Try using .loc[row_indexer,col_indexer] = value instead\n",
      "\n",
      "See the caveats in the documentation: https://pandas.pydata.org/pandas-docs/stable/user_guide/indexing.html#returning-a-view-versus-a-copy\n",
      "  buy_signals_below_9_30['time_ist'] = pd.to_datetime(buy_signals_below_9_30['time'], unit='s') + timedelta(hours=5, minutes=30)\n"
     ]
    },
    {
     "name": "stdout",
     "output_type": "stream",
     "text": [
      "Processing BSE_BSX240705P80200, 5.csv in SENSEX with condition buy_signal_2...\n",
      "No trades were executed.\n",
      "No trades were executed.\n",
      "No trades were executed.\n",
      "No trades were executed.\n",
      "No trades were executed.\n"
     ]
    },
    {
     "name": "stderr",
     "output_type": "stream",
     "text": [
      "C:\\temp\\ipykernel_12308\\1528594928.py:224: SettingWithCopyWarning: \n",
      "A value is trying to be set on a copy of a slice from a DataFrame.\n",
      "Try using .loc[row_indexer,col_indexer] = value instead\n",
      "\n",
      "See the caveats in the documentation: https://pandas.pydata.org/pandas-docs/stable/user_guide/indexing.html#returning-a-view-versus-a-copy\n",
      "  buy_signals_below_9_30['time_ist'] = pd.to_datetime(buy_signals_below_9_30['time'], unit='s') + timedelta(hours=5, minutes=30)\n",
      "C:\\temp\\ipykernel_12308\\1528594928.py:266: FutureWarning: The behavior of DataFrame concatenation with empty or all-NA entries is deprecated. In a future version, this will no longer exclude empty or all-NA columns when determining the result dtypes. To retain the old behavior, exclude the relevant entries before the concat operation.\n",
      "  combined_pnl_results_below_9_30 = pd.concat(pnl_results_below_9_30, ignore_index=True)\n",
      "C:\\temp\\ipykernel_12308\\1528594928.py:268: FutureWarning: The behavior of DataFrame concatenation with empty or all-NA entries is deprecated. In a future version, this will no longer exclude empty or all-NA columns when determining the result dtypes. To retain the old behavior, exclude the relevant entries before the concat operation.\n",
      "  combined_trade_results_below_9_30 = pd.concat(trade_results_combined_below_9_30, ignore_index=True)\n",
      "C:\\temp\\ipykernel_12308\\1528594928.py:269: FutureWarning: The behavior of DataFrame concatenation with empty or all-NA entries is deprecated. In a future version, this will no longer exclude empty or all-NA columns when determining the result dtypes. To retain the old behavior, exclude the relevant entries before the concat operation.\n",
      "  combined_all_results_below_9_30 = pd.concat(all_combined_results_below_9_30, ignore_index=True)\n"
     ]
    },
    {
     "name": "stdout",
     "output_type": "stream",
     "text": [
      "Processing BSE_BSX240628C79200, 5.csv in SENSEX with condition combined_signal_1...\n",
      "Warning: 'Buy Signal (VOLD above 0 and SOSI above 0)' column not found in the data. Skipping this file.\n",
      "No buy signals found before 9:30 AM IST for BSE_BSX240628C79200, 5.csv. Skipping...\n",
      "Processing BSE_BSX240628C79300, 5.csv in SENSEX with condition combined_signal_1...\n",
      "Warning: 'Buy Signal (VOLD above 0 and SOSI above 0)' column not found in the data. Skipping this file.\n",
      "No buy signals found before 9:30 AM IST for BSE_BSX240628C79300, 5.csv. Skipping...\n",
      "Processing BSE_BSX240628C79500, 5.csv in SENSEX with condition combined_signal_1...\n",
      "Warning: 'Buy Signal (VOLD above 0 and SOSI above 0)' column not found in the data. Skipping this file.\n",
      "No buy signals found before 9:30 AM IST for BSE_BSX240628C79500, 5.csv. Skipping...\n",
      "Processing BSE_BSX240628P79000, 5.csv in SENSEX with condition combined_signal_1...\n",
      "Warning: 'Buy Signal (VOLD above 0 and SOSI above 0)' column not found in the data. Skipping this file.\n",
      "No buy signals found before 9:30 AM IST for BSE_BSX240628P79000, 5.csv. Skipping...\n",
      "Processing BSE_BSX240628P79200, 5.csv in SENSEX with condition combined_signal_1...\n",
      "Warning: 'Buy Signal (VOLD above 0 and SOSI above 0)' column not found in the data. Skipping this file.\n",
      "No buy signals found before 9:30 AM IST for BSE_BSX240628P79200, 5.csv. Skipping...\n",
      "Processing BSE_BSX240628P79300, 5.csv in SENSEX with condition combined_signal_1...\n",
      "Warning: 'Buy Signal (VOLD above 0 and SOSI above 0)' column not found in the data. Skipping this file.\n",
      "No buy signals found before 9:30 AM IST for BSE_BSX240628P79300, 5.csv. Skipping...\n",
      "Processing BSE_BSX240628P79500, 5.csv in SENSEX with condition combined_signal_1...\n",
      "Warning: 'Buy Signal (VOLD above 0 and SOSI above 0)' column not found in the data. Skipping this file.\n",
      "No buy signals found before 9:30 AM IST for BSE_BSX240628P79500, 5.csv. Skipping...\n",
      "Processing BSE_BSX240705C80000, 5.csv in SENSEX with condition combined_signal_1...\n",
      "No buy signals found before 9:30 AM IST for BSE_BSX240705C80000, 5.csv. Skipping...\n",
      "Processing BSE_BSX240705C80100, 5.csv in SENSEX with condition combined_signal_1...\n",
      "No buy signals found before 9:30 AM IST for BSE_BSX240705C80100, 5.csv. Skipping...\n",
      "Processing BSE_BSX240705C80200, 5.csv in SENSEX with condition combined_signal_1...\n",
      "No buy signals found before 9:30 AM IST for BSE_BSX240705C80200, 5.csv. Skipping...\n",
      "Processing BSE_BSX240705C80300, 5.csv in SENSEX with condition combined_signal_1...\n",
      "No buy signals found before 9:30 AM IST for BSE_BSX240705C80300, 5.csv. Skipping...\n",
      "Processing BSE_BSX240705C80500, 5.csv in SENSEX with condition combined_signal_1...\n",
      "No buy signals found before 9:30 AM IST for BSE_BSX240705C80500, 5.csv. Skipping...\n",
      "Processing BSE_BSX240705P79500, 5.csv in SENSEX with condition combined_signal_1...\n",
      "No trades were executed.\n",
      "No trades were executed.\n",
      "No trades were executed.\n",
      "No trades were executed.\n",
      "No trades were executed.\n",
      "Processing BSE_BSX240705P80000, 5.csv in SENSEX with condition combined_signal_1...\n",
      "No trades were executed.\n",
      "No trades were executed.\n",
      "No trades were executed.\n",
      "No trades were executed.\n",
      "No trades were executed.\n"
     ]
    },
    {
     "name": "stderr",
     "output_type": "stream",
     "text": [
      "C:\\temp\\ipykernel_12308\\1528594928.py:224: SettingWithCopyWarning: \n",
      "A value is trying to be set on a copy of a slice from a DataFrame.\n",
      "Try using .loc[row_indexer,col_indexer] = value instead\n",
      "\n",
      "See the caveats in the documentation: https://pandas.pydata.org/pandas-docs/stable/user_guide/indexing.html#returning-a-view-versus-a-copy\n",
      "  buy_signals_below_9_30['time_ist'] = pd.to_datetime(buy_signals_below_9_30['time'], unit='s') + timedelta(hours=5, minutes=30)\n",
      "C:\\temp\\ipykernel_12308\\1528594928.py:224: SettingWithCopyWarning: \n",
      "A value is trying to be set on a copy of a slice from a DataFrame.\n",
      "Try using .loc[row_indexer,col_indexer] = value instead\n",
      "\n",
      "See the caveats in the documentation: https://pandas.pydata.org/pandas-docs/stable/user_guide/indexing.html#returning-a-view-versus-a-copy\n",
      "  buy_signals_below_9_30['time_ist'] = pd.to_datetime(buy_signals_below_9_30['time'], unit='s') + timedelta(hours=5, minutes=30)\n"
     ]
    },
    {
     "name": "stdout",
     "output_type": "stream",
     "text": [
      "Processing BSE_BSX240705P80200, 5.csv in SENSEX with condition combined_signal_1...\n",
      "No buy signals found before 9:30 AM IST for BSE_BSX240705P80200, 5.csv. Skipping...\n"
     ]
    },
    {
     "ename": "ValueError",
     "evalue": "attempt to get argmax of an empty sequence",
     "output_type": "error",
     "traceback": [
      "\u001b[1;31m---------------------------------------------------------------------------\u001b[0m",
      "\u001b[1;31mValueError\u001b[0m                                Traceback (most recent call last)",
      "Cell \u001b[1;32mIn[2], line 278\u001b[0m\n\u001b[0;32m    275\u001b[0m combined_trade_results_below_9_30\u001b[38;5;241m.\u001b[39mto_csv(\u001b[38;5;124mf\u001b[39m\u001b[38;5;124m'\u001b[39m\u001b[38;5;132;01m{\u001b[39;00moutput_dir_below_9_30\u001b[38;5;132;01m}\u001b[39;00m\u001b[38;5;124m/\u001b[39m\u001b[38;5;132;01m{\u001b[39;00mfolder_name\u001b[38;5;132;01m}\u001b[39;00m\u001b[38;5;124m_trade_results.csv\u001b[39m\u001b[38;5;124m'\u001b[39m, index\u001b[38;5;241m=\u001b[39m\u001b[38;5;28;01mFalse\u001b[39;00m)\n\u001b[0;32m    276\u001b[0m combined_all_results_below_9_30\u001b[38;5;241m.\u001b[39mto_csv(\u001b[38;5;124mf\u001b[39m\u001b[38;5;124m'\u001b[39m\u001b[38;5;132;01m{\u001b[39;00moutput_dir_below_9_30\u001b[38;5;132;01m}\u001b[39;00m\u001b[38;5;124m/\u001b[39m\u001b[38;5;132;01m{\u001b[39;00mfolder_name\u001b[38;5;132;01m}\u001b[39;00m\u001b[38;5;124m_all_combined_results.csv\u001b[39m\u001b[38;5;124m'\u001b[39m, index\u001b[38;5;241m=\u001b[39m\u001b[38;5;28;01mFalse\u001b[39;00m)\n\u001b[1;32m--> 278\u001b[0m best_combination_below_9_30 \u001b[38;5;241m=\u001b[39m combined_pnl_results_below_9_30\u001b[38;5;241m.\u001b[39mloc[\u001b[43mcombined_pnl_results_below_9_30\u001b[49m\u001b[43m[\u001b[49m\u001b[38;5;124;43m'\u001b[39;49m\u001b[38;5;124;43mTotal Profit\u001b[39;49m\u001b[38;5;124;43m'\u001b[39;49m\u001b[43m]\u001b[49m\u001b[38;5;241;43m.\u001b[39;49m\u001b[43midxmax\u001b[49m\u001b[43m(\u001b[49m\u001b[43m)\u001b[49m]\n\u001b[0;32m    279\u001b[0m best_combination_df_below_9_30 \u001b[38;5;241m=\u001b[39m pd\u001b[38;5;241m.\u001b[39mDataFrame([best_combination_below_9_30])\n\u001b[0;32m    280\u001b[0m best_combination_df_below_9_30\u001b[38;5;241m.\u001b[39mto_csv(\u001b[38;5;124mf\u001b[39m\u001b[38;5;124m'\u001b[39m\u001b[38;5;132;01m{\u001b[39;00moutput_dir_below_9_30\u001b[38;5;132;01m}\u001b[39;00m\u001b[38;5;124m/\u001b[39m\u001b[38;5;132;01m{\u001b[39;00mfolder_name\u001b[38;5;132;01m}\u001b[39;00m\u001b[38;5;124m_best_combination.csv\u001b[39m\u001b[38;5;124m'\u001b[39m, index\u001b[38;5;241m=\u001b[39m\u001b[38;5;28;01mFalse\u001b[39;00m)\n",
      "File \u001b[1;32me:\\Python\\Lib\\site-packages\\pandas\\core\\series.py:2761\u001b[0m, in \u001b[0;36mSeries.idxmax\u001b[1;34m(self, axis, skipna, *args, **kwargs)\u001b[0m\n\u001b[0;32m   2756\u001b[0m \u001b[38;5;28;01mwith\u001b[39;00m warnings\u001b[38;5;241m.\u001b[39mcatch_warnings():\n\u001b[0;32m   2757\u001b[0m     \u001b[38;5;66;03m# TODO(3.0): this catching/filtering can be removed\u001b[39;00m\n\u001b[0;32m   2758\u001b[0m     \u001b[38;5;66;03m# ignore warning produced by argmax since we will issue a different\u001b[39;00m\n\u001b[0;32m   2759\u001b[0m     \u001b[38;5;66;03m#  warning for argmax\u001b[39;00m\n\u001b[0;32m   2760\u001b[0m     warnings\u001b[38;5;241m.\u001b[39msimplefilter(\u001b[38;5;124m\"\u001b[39m\u001b[38;5;124mignore\u001b[39m\u001b[38;5;124m\"\u001b[39m)\n\u001b[1;32m-> 2761\u001b[0m     i \u001b[38;5;241m=\u001b[39m \u001b[38;5;28;43mself\u001b[39;49m\u001b[38;5;241;43m.\u001b[39;49m\u001b[43margmax\u001b[49m\u001b[43m(\u001b[49m\u001b[43maxis\u001b[49m\u001b[43m,\u001b[49m\u001b[43m \u001b[49m\u001b[43mskipna\u001b[49m\u001b[43m,\u001b[49m\u001b[43m \u001b[49m\u001b[38;5;241;43m*\u001b[39;49m\u001b[43margs\u001b[49m\u001b[43m,\u001b[49m\u001b[43m \u001b[49m\u001b[38;5;241;43m*\u001b[39;49m\u001b[38;5;241;43m*\u001b[39;49m\u001b[43mkwargs\u001b[49m\u001b[43m)\u001b[49m\n\u001b[0;32m   2763\u001b[0m \u001b[38;5;28;01mif\u001b[39;00m i \u001b[38;5;241m==\u001b[39m \u001b[38;5;241m-\u001b[39m\u001b[38;5;241m1\u001b[39m:\n\u001b[0;32m   2764\u001b[0m     \u001b[38;5;66;03m# GH#43587 give correct NA value for Index.\u001b[39;00m\n\u001b[0;32m   2765\u001b[0m     warnings\u001b[38;5;241m.\u001b[39mwarn(\n\u001b[0;32m   2766\u001b[0m         \u001b[38;5;124mf\u001b[39m\u001b[38;5;124m\"\u001b[39m\u001b[38;5;124mThe behavior of \u001b[39m\u001b[38;5;132;01m{\u001b[39;00m\u001b[38;5;28mtype\u001b[39m(\u001b[38;5;28mself\u001b[39m)\u001b[38;5;241m.\u001b[39m\u001b[38;5;18m__name__\u001b[39m\u001b[38;5;132;01m}\u001b[39;00m\u001b[38;5;124m.idxmax with all-NA \u001b[39m\u001b[38;5;124m\"\u001b[39m\n\u001b[0;32m   2767\u001b[0m         \u001b[38;5;124m\"\u001b[39m\u001b[38;5;124mvalues, or any-NA and skipna=False, is deprecated. In a future \u001b[39m\u001b[38;5;124m\"\u001b[39m\n\u001b[1;32m   (...)\u001b[0m\n\u001b[0;32m   2770\u001b[0m         stacklevel\u001b[38;5;241m=\u001b[39mfind_stack_level(),\n\u001b[0;32m   2771\u001b[0m     )\n",
      "File \u001b[1;32me:\\Python\\Lib\\site-packages\\pandas\\core\\base.py:751\u001b[0m, in \u001b[0;36mIndexOpsMixin.argmax\u001b[1;34m(self, axis, skipna, *args, **kwargs)\u001b[0m\n\u001b[0;32m    749\u001b[0m         \u001b[38;5;28;01mreturn\u001b[39;00m delegate\u001b[38;5;241m.\u001b[39margmax()\n\u001b[0;32m    750\u001b[0m \u001b[38;5;28;01melse\u001b[39;00m:\n\u001b[1;32m--> 751\u001b[0m     result \u001b[38;5;241m=\u001b[39m \u001b[43mnanops\u001b[49m\u001b[38;5;241;43m.\u001b[39;49m\u001b[43mnanargmax\u001b[49m\u001b[43m(\u001b[49m\u001b[43mdelegate\u001b[49m\u001b[43m,\u001b[49m\u001b[43m \u001b[49m\u001b[43mskipna\u001b[49m\u001b[38;5;241;43m=\u001b[39;49m\u001b[43mskipna\u001b[49m\u001b[43m)\u001b[49m\n\u001b[0;32m    752\u001b[0m     \u001b[38;5;28;01mif\u001b[39;00m result \u001b[38;5;241m==\u001b[39m \u001b[38;5;241m-\u001b[39m\u001b[38;5;241m1\u001b[39m:\n\u001b[0;32m    753\u001b[0m         warnings\u001b[38;5;241m.\u001b[39mwarn(\n\u001b[0;32m    754\u001b[0m             \u001b[38;5;124mf\u001b[39m\u001b[38;5;124m\"\u001b[39m\u001b[38;5;124mThe behavior of \u001b[39m\u001b[38;5;132;01m{\u001b[39;00m\u001b[38;5;28mtype\u001b[39m(\u001b[38;5;28mself\u001b[39m)\u001b[38;5;241m.\u001b[39m\u001b[38;5;18m__name__\u001b[39m\u001b[38;5;132;01m}\u001b[39;00m\u001b[38;5;124m.argmax/argmin \u001b[39m\u001b[38;5;124m\"\u001b[39m\n\u001b[0;32m    755\u001b[0m             \u001b[38;5;124m\"\u001b[39m\u001b[38;5;124mwith skipna=False and NAs, or with all-NAs is deprecated. \u001b[39m\u001b[38;5;124m\"\u001b[39m\n\u001b[1;32m   (...)\u001b[0m\n\u001b[0;32m    758\u001b[0m             stacklevel\u001b[38;5;241m=\u001b[39mfind_stack_level(),\n\u001b[0;32m    759\u001b[0m         )\n",
      "File \u001b[1;32me:\\Python\\Lib\\site-packages\\pandas\\core\\nanops.py:1148\u001b[0m, in \u001b[0;36mnanargmax\u001b[1;34m(values, axis, skipna, mask)\u001b[0m\n\u001b[0;32m   1116\u001b[0m \u001b[38;5;250m\u001b[39m\u001b[38;5;124;03m\"\"\"\u001b[39;00m\n\u001b[0;32m   1117\u001b[0m \u001b[38;5;124;03mParameters\u001b[39;00m\n\u001b[0;32m   1118\u001b[0m \u001b[38;5;124;03m----------\u001b[39;00m\n\u001b[1;32m   (...)\u001b[0m\n\u001b[0;32m   1145\u001b[0m \u001b[38;5;124;03marray([2, 2, 1, 1])\u001b[39;00m\n\u001b[0;32m   1146\u001b[0m \u001b[38;5;124;03m\"\"\"\u001b[39;00m\n\u001b[0;32m   1147\u001b[0m values, mask \u001b[38;5;241m=\u001b[39m _get_values(values, \u001b[38;5;28;01mTrue\u001b[39;00m, fill_value_typ\u001b[38;5;241m=\u001b[39m\u001b[38;5;124m\"\u001b[39m\u001b[38;5;124m-inf\u001b[39m\u001b[38;5;124m\"\u001b[39m, mask\u001b[38;5;241m=\u001b[39mmask)\n\u001b[1;32m-> 1148\u001b[0m result \u001b[38;5;241m=\u001b[39m values\u001b[38;5;241m.\u001b[39margmax(axis)\n\u001b[0;32m   1149\u001b[0m \u001b[38;5;66;03m# error: Argument 1 to \"_maybe_arg_null_out\" has incompatible type \"Any |\u001b[39;00m\n\u001b[0;32m   1150\u001b[0m \u001b[38;5;66;03m# signedinteger[Any]\"; expected \"ndarray[Any, Any]\"\u001b[39;00m\n\u001b[0;32m   1151\u001b[0m result \u001b[38;5;241m=\u001b[39m _maybe_arg_null_out(result, axis, mask, skipna)  \u001b[38;5;66;03m# type: ignore[arg-type]\u001b[39;00m\n",
      "\u001b[1;31mValueError\u001b[0m: attempt to get argmax of an empty sequence"
     ]
    }
   ],
   "source": [
    "import os\n",
    "import pandas as pd\n",
    "import matplotlib.pyplot as plt\n",
    "import seaborn as sns\n",
    "from datetime import datetime, timedelta\n",
    "\n",
    "# Function to filter buy signals based on new conditions\n",
    "def filter_signals(data, condition):\n",
    "    required_columns = ['Buy Signal (VOLD above 0 and SOSI above 0)', 'Buy Signal (SOSI above VOLD and VOLD above 0)', 'PTR (Potential Trend Reversal)']\n",
    "    for col in required_columns:\n",
    "        if col not in data.columns:\n",
    "            print(f\"Warning: '{col}' column not found in the data. Skipping this file.\")\n",
    "            return None\n",
    "\n",
    "    if condition == 'buy_signal_1':\n",
    "        buy_signals = data[(data['Buy Signal (VOLD above 0 and SOSI above 0)'] == True)]\n",
    "    elif condition == 'buy_signal_2':\n",
    "        buy_signals = data[(data['Buy Signal (SOSI above VOLD and VOLD above 0)'] == True)]\n",
    "    elif condition == 'combined_signal_1':\n",
    "        buy_signals = data[(data['PTR (Potential Trend Reversal)'] == True) & (data['Buy Signal (VOLD above 0 and SOSI above 0)'] == True)]\n",
    "    elif condition == 'combined_signal_2':\n",
    "        buy_signals = data[(data['PTR (Potential Trend Reversal)'] == True) & (data['Buy Signal (SOSI above VOLD and VOLD above 0)'] == True)]\n",
    "    \n",
    "    return buy_signals\n",
    "\n",
    "# Function to calculate charges\n",
    "def calculate_charges(entry_price, exit_price, quantity):\n",
    "    brokerage = 40  # total brokerage for one complete buy and sell\n",
    "    stt_ctt = 0.00125 * exit_price * quantity\n",
    "    transaction_charges = 0.000495 * (entry_price + exit_price) * quantity\n",
    "    gst = 0.18 * (brokerage + transaction_charges)\n",
    "    sebi_charges = 10 / 10**7 * (entry_price + exit_price) * quantity\n",
    "    stamp_charges = 0.00003 * entry_price * quantity\n",
    "    total_charges = brokerage + stt_ctt + transaction_charges + gst + sebi_charges + stamp_charges\n",
    "    return total_charges\n",
    "\n",
    "# Function to simulate day trades with error margin\n",
    "def simulate_day_trades(buy_signals, minute_data, symbol, profit_target=0.02, stop_loss=0.01, min_stop_loss=0.005, error_margin=0.01, carry_over=False):\n",
    "    results = []\n",
    "\n",
    "    for index, buy_signal in buy_signals.iterrows():\n",
    "        entry_price = buy_signal['close'] * (1 + error_margin)  # Adjust entry price with error margin\n",
    "        entry_time = buy_signal['time'] + 300  # Add 5 minutes to the buy signal time to get the entry time\n",
    "        \n",
    "        # Convert entry_time from epoch to datetime\n",
    "        entry_datetime = pd.to_datetime(entry_time, unit='s')\n",
    "        entry_datetime_ist = entry_datetime + timedelta(hours=5, minutes=30)  # Convert to IST\n",
    "        \n",
    "        profit_price = entry_price * (1 + float(profit_target))\n",
    "        stop_price = entry_price * (1 - max(float(stop_loss), min_stop_loss))  # Ensure stop loss is at least min_stop_loss\n",
    "        \n",
    "        trade_result = {\n",
    "            'signal_time': buy_signal['time'],\n",
    "            'entry_time': entry_time,\n",
    "            'entry_price': entry_price,\n",
    "            'Target Profit': profit_target,\n",
    "            'Stop Loss': stop_loss,\n",
    "            'Profit Price': profit_price,\n",
    "            'Stop Price': stop_price,\n",
    "            'exit_time': None,\n",
    "            'exit_price': None,\n",
    "            'charges': None,\n",
    "            'profit_before_charges': None,\n",
    "            'profit': None,\n",
    "            'exit_reason': None,\n",
    "            'SOSI': buy_signal.get('SOSI'),\n",
    "            'Normalized VOLD Ratio': buy_signal.get('Normalized VOLD Ratio'),\n",
    "            'Normalized Theta': buy_signal.get('Normalized Theta')\n",
    "        }\n",
    "        \n",
    "        # Filter subsequent data for the same day only\n",
    "        trade_date = pd.to_datetime(entry_time, unit='s').date()\n",
    "        subsequent_data = minute_data[(minute_data['time'] > entry_time) & \n",
    "                                      (pd.to_datetime(minute_data['time'], unit='s').dt.date == trade_date)]\n",
    "        \n",
    "        for _, row in subsequent_data.iterrows():\n",
    "            if row['high'] >= profit_price:\n",
    "                trade_result['exit_time'] = row['time']\n",
    "                trade_result['exit_price'] = profit_price\n",
    "                trade_result['exit_reason'] = 'Target Hit'\n",
    "                break\n",
    "            if row['low'] <= stop_price:\n",
    "                trade_result['exit_time'] = row['time']\n",
    "                trade_result['exit_price'] = stop_price\n",
    "                trade_result['exit_reason'] = 'Stop Loss Hit'\n",
    "                break\n",
    "            if carry_over and 'Normalized VOLD Ratio' in row and row['Normalized VOLD Ratio'] < 0:\n",
    "                trade_result['exit_time'] = row['time']\n",
    "                trade_result['exit_price'] = row['close']\n",
    "                trade_result['exit_reason'] = 'VOLD Cross Below 0'\n",
    "                break\n",
    "        else:\n",
    "            # If no target or stop loss hit, exit at the last price of the day\n",
    "            trade_result['exit_reason'] = 'End of Day Exit'\n",
    "            if not subsequent_data.empty:\n",
    "                last_row = subsequent_data.iloc[-1]\n",
    "                trade_result['exit_time'] = last_row['time']\n",
    "                trade_result['exit_price'] = last_row['close']\n",
    "        \n",
    "        if trade_result['exit_price'] is not None:\n",
    "            quantity = 25 if 'NIFTY' in symbol else 15 if 'BANKNIFTY' in symbol else 40 if 'FINNIFTY' in symbol else 10\n",
    "            gross_profit = (trade_result['exit_price'] - trade_result['entry_price']) * quantity\n",
    "            charges = calculate_charges(trade_result['entry_price'], trade_result['exit_price'], quantity)\n",
    "            net_profit = gross_profit - charges\n",
    "            trade_result['charges'] = charges\n",
    "            trade_result['profit_before_charges'] = gross_profit\n",
    "            trade_result['profit'] = net_profit\n",
    "\n",
    "        results.append(trade_result)\n",
    "    \n",
    "    results_df = pd.DataFrame(results)\n",
    "    \n",
    "    if results_df.empty:\n",
    "        print(\"No trades were executed.\")\n",
    "        return pd.DataFrame(columns=['signal_time', 'entry_time', 'entry_price', 'Target Profit', 'Stop Loss', \n",
    "                                     'Profit Price', 'Stop Price', 'exit_time', 'exit_price', 'charges', \n",
    "                                     'profit_before_charges', 'profit', 'exit_reason', 'SOSI', \n",
    "                                     'Normalized VOLD Ratio', 'Normalized Theta'])\n",
    "    \n",
    "    return results_df.dropna(subset=['entry_price'])\n",
    "\n",
    "# Function to analyze profit and stop loss percentages\n",
    "def analyze_profit_and_stop_loss(buy_signals, minute_data, folder_name, profit_percentages, stop_loss_percentages, min_stop_loss=0.005, error_margin=0.01, carry_over=False):\n",
    "    analysis_results = []\n",
    "    finalresults = []\n",
    "    for profit_target in profit_percentages:\n",
    "        for stop_loss in stop_loss_percentages:\n",
    "            trade_results = simulate_day_trades(buy_signals, minute_data, folder_name, profit_target, stop_loss, min_stop_loss, error_margin, carry_over=carry_over)\n",
    "            if not trade_results.empty:\n",
    "                total_profit = trade_results['profit'].sum()\n",
    "                charges = trade_results['charges'].sum()\n",
    "                trade_time=trade_results['signal_time']\n",
    "                profit_before_charges = trade_results['profit_before_charges'].sum()\n",
    "                analysis_results.append((trade_time,profit_target, stop_loss, charges, profit_before_charges, total_profit))\n",
    "                finalresults.append(trade_results)\n",
    "    # Combine all trade results into a single DataFrame\n",
    "    if finalresults:\n",
    "        combined_trade_results = pd.concat(finalresults, ignore_index=True)\n",
    "    else:\n",
    "        combined_trade_results = pd.DataFrame(columns=['signal_time', 'entry_time', 'entry_price', 'Target Profit', \n",
    "                                                       'Stop Loss', 'Profit Price', 'Stop Price', 'exit_time', \n",
    "                                                       'exit_price', 'charges', 'profit_before_charges', 'profit', \n",
    "                                                       'exit_reason', 'SOSI', 'Normalized VOLD Ratio', 'Normalized Theta'])\n",
    " \n",
    "    return pd.DataFrame(analysis_results, columns=['Signal Time','Profit Target', 'Stop Loss', 'Charges', 'Profit Before Charges', 'Total Profit']), combined_trade_results\n",
    "\n",
    "# Function to summarize trade results\n",
    "def summarize_trade_results(trade_results):\n",
    "    total_trades = len(trade_results)\n",
    "    target_hit = len(trade_results[trade_results['exit_reason'] == 'Target Hit'])\n",
    "    stop_loss_hit = len(trade_results[trade_results['exit_reason'] == 'Stop Loss Hit'])\n",
    "    end_of_day_exit = len(trade_results[trade_results['exit_reason'] == 'End of Day Exit'])\n",
    "    max_drawdown = trade_results['profit'].min() if not trade_results.empty else 0\n",
    "    summary = {\n",
    "        'Total Trades': total_trades,\n",
    "        'Target Hit': target_hit,\n",
    "        'Stop Loss Hit': stop_loss_hit,\n",
    "        'End of Day Exit': end_of_day_exit,\n",
    "        'Max Drawdown': max_drawdown\n",
    "    }\n",
    "    return summary\n",
    "\n",
    "# Define profit percentages and stop loss percentages to analyze\n",
    "profit_percentages = [i / 100 for i in range(1, 6)]\n",
    "stop_loss_percentages = [i / 100 for i in range(1, 2)]\n",
    "profit_percentages_carryover = [i / 100 for i in range(1, 8)]\n",
    "stop_loss_percentages_carryover = [i / 100 for i in range(1, 2)]\n",
    "\n",
    "# Directories containing the data\n",
    "directories = ['June 2024/NIFTY', 'June 2024/BANKNIFTY', 'June 2024/FINNIFTY','June 2024/SENSEX']  # Change the directories as needed\n",
    "\n",
    "# Function to check if the date is within the week of expiration\n",
    "def is_within_expiry_week(expiry_date, timestamp, folder_name, days_before_expiry=5):\n",
    "    # Assuming the date is the 7th to 12th characters in the string\n",
    "    if folder_name == 'NIFTY':\n",
    "        date_part = expiry_date[9:15]\n",
    "    if folder_name == 'BANKNIFTY':\n",
    "        date_part = expiry_date[13:19]\n",
    "    if folder_name == 'FINNIFTY':\n",
    "        date_part = expiry_date[12:18]\n",
    "    if folder_name == 'SENSEX':\n",
    "        date_part = expiry_date[7:13]\n",
    "    \n",
    "    expiry_datetime = pd.to_datetime(date_part, format='%y%m%d')\n",
    "    signal_datetime = pd.to_datetime(timestamp, unit='s')\n",
    "    return (expiry_datetime - signal_datetime).days <= days_before_expiry\n",
    "\n",
    "# Process each directory\n",
    "for directory in directories:\n",
    "    for condition in ['buy_signal_1', 'buy_signal_2', 'combined_signal_1', 'combined_signal_2']:\n",
    "        pnl_results_below_9_30 = []\n",
    "        pnl_results_eod = []\n",
    "        pnl_results_carry_over = []\n",
    "        trade_results_combined_below_9_30 = []\n",
    "        trade_results_combined_eod = []\n",
    "        trade_results_combined_carry_over = []\n",
    "        all_combined_results_below_9_30 = []\n",
    "        all_combined_results_eod = []\n",
    "        all_combined_results_carry_over = []\n",
    "        folder_name = os.path.basename(directory)\n",
    "        for subdir, _, files in os.walk(directory):\n",
    "            if subdir == directory:\n",
    "                continue  # Skip the top-level directory itself\n",
    "            for filename in files:\n",
    "                if ', 5.csv' in filename:\n",
    "                    minute_5_path = os.path.join(subdir, filename)\n",
    "                    minute_1_path = minute_5_path.replace(', 5.csv', ', 1.csv')\n",
    "                    \n",
    "                    if os.path.exists(minute_1_path):\n",
    "                        print(f\"Processing {filename} in {folder_name} with condition {condition}...\")\n",
    "                        \n",
    "                        # Extract expiry date from filename\n",
    "                        expiry_date = filename.split(' ')[0].split(',')[0]\n",
    "                        \n",
    "                        # Load the CSV files\n",
    "                        minute_data_5 = pd.read_csv(minute_5_path)\n",
    "                        minute_data_1 = pd.read_csv(minute_1_path)\n",
    "                        \n",
    "                        # Scenario 1: Filter buy signals before 9:30 AM IST\n",
    "                        buy_signals_below_9_30 = filter_signals(minute_data_5, condition)\n",
    "                        if buy_signals_below_9_30 is None or buy_signals_below_9_30.empty:\n",
    "                            print(f\"No buy signals found before 9:30 AM IST for {filename}. Skipping...\")\n",
    "                            continue\n",
    "                        buy_signals_below_9_30['time_ist'] = pd.to_datetime(buy_signals_below_9_30['time'], unit='s') + timedelta(hours=5, minutes=30)\n",
    "                        buy_signals_below_9_30 = buy_signals_below_9_30[buy_signals_below_9_30['time_ist'].dt.time <= datetime.strptime('09:30:00', '%H:%M:%S').time()]\n",
    "\n",
    "                        # Scenario 2: Filter buy signals with no time limit\n",
    "                        buy_signals_no_time_limit = filter_signals(minute_data_5, condition)\n",
    "                        if buy_signals_no_time_limit is None or buy_signals_no_time_limit.empty:\n",
    "                            print(f\"No buy signals found for {filename}. Skipping...\")\n",
    "                            continue\n",
    "                        \n",
    "                        # Perform the analysis for each scenario\n",
    "                        # Scenario 1: Below 9:30 AM IST\n",
    "                        analysis_results_below_9_30, trade_results_below_9_30 = analyze_profit_and_stop_loss(\n",
    "                            buy_signals_below_9_30, minute_data_1, folder_name, profit_percentages, stop_loss_percentages\n",
    "                        )\n",
    "                        combined_results_below_9_30 = pd.merge(buy_signals_below_9_30, trade_results_below_9_30, left_on='time', right_on='signal_time', how='inner')\n",
    "                        combined_results_below_9_30 = pd.merge(combined_results_below_9_30, minute_data_5, left_on='time', right_on='time', suffixes=('_buy', '_original'))\n",
    "                        all_combined_results_below_9_30.append(combined_results_below_9_30)\n",
    "                        pnl_results_below_9_30.append(analysis_results_below_9_30)\n",
    "                        trade_results_combined_below_9_30.append(trade_results_below_9_30)\n",
    "                        \n",
    "                        # Scenario 2: End of day exits\n",
    "                        analysis_results_eod, trade_results_eod = analyze_profit_and_stop_loss(\n",
    "                            buy_signals_no_time_limit, minute_data_1, folder_name, profit_percentages, stop_loss_percentages\n",
    "                        )\n",
    "                        combined_results_eod = pd.merge(buy_signals_no_time_limit, trade_results_eod, left_on='time', right_on='signal_time', how='inner')\n",
    "                        combined_results_eod = pd.merge(combined_results_eod, minute_data_5, left_on='time', right_on='time', suffixes=('_buy', '_original'))\n",
    "                        all_combined_results_eod.append(combined_results_eod)\n",
    "                        pnl_results_eod.append(analysis_results_eod)\n",
    "                        trade_results_combined_eod.append(trade_results_eod)\n",
    "                        \n",
    "                        # Scenario 3: Carry over trades\n",
    "                        analysis_results_carry_over, trade_results_carry_over = analyze_profit_and_stop_loss(\n",
    "                            buy_signals_no_time_limit, minute_data_1, folder_name, profit_percentages_carryover, stop_loss_percentages_carryover, carry_over=True\n",
    "                        )\n",
    "                        combined_results_carry_over = pd.merge(buy_signals_no_time_limit, trade_results_carry_over, left_on='time', right_on='signal_time', how='inner')\n",
    "                        combined_results_carry_over = pd.merge(combined_results_carry_over, minute_data_5, left_on='time', right_on='time', suffixes=('_buy', '_original'))\n",
    "                        all_combined_results_carry_over.append(combined_results_carry_over)\n",
    "                        pnl_results_carry_over.append(analysis_results_carry_over)\n",
    "                        trade_results_combined_carry_over.append(trade_results_carry_over)\n",
    "\n",
    "        # Combine and save results for signals before 9:30 AM IST\n",
    "        if pnl_results_below_9_30:\n",
    "            combined_pnl_results_below_9_30 = pd.concat(pnl_results_below_9_30, ignore_index=True)\n",
    "            combined_pnl_results_below_9_30 = combined_pnl_results_below_9_30.groupby(['Profit Target', 'Stop Loss'], as_index=False)['Total Profit'].sum()\n",
    "            combined_trade_results_below_9_30 = pd.concat(trade_results_combined_below_9_30, ignore_index=True)\n",
    "            combined_all_results_below_9_30 = pd.concat(all_combined_results_below_9_30, ignore_index=True)\n",
    "\n",
    "            output_dir_below_9_30 = f'Outputs/DayTrade/SOSI/5min/{folder_name}_{condition}_below_9_30'\n",
    "            os.makedirs(output_dir_below_9_30, exist_ok=True)\n",
    "            \n",
    "            combined_pnl_results_below_9_30.to_csv(f'{output_dir_below_9_30}/{folder_name}_pnl_analysis.csv', index=False)\n",
    "            combined_trade_results_below_9_30.to_csv(f'{output_dir_below_9_30}/{folder_name}_trade_results.csv', index=False)\n",
    "            combined_all_results_below_9_30.to_csv(f'{output_dir_below_9_30}/{folder_name}_all_combined_results.csv', index=False)\n",
    "            \n",
    "            best_combination_below_9_30 = combined_pnl_results_below_9_30.loc[combined_pnl_results_below_9_30['Total Profit'].idxmax()]\n",
    "            best_combination_df_below_9_30 = pd.DataFrame([best_combination_below_9_30])\n",
    "            best_combination_df_below_9_30.to_csv(f'{output_dir_below_9_30}/{folder_name}_best_combination.csv', index=False)\n",
    "            \n",
    "            top_40_combinations_below_9_30 = combined_pnl_results_below_9_30.sort_values(by='Total Profit', ascending=False).head(40)\n",
    "            top_40_combinations_below_9_30.to_csv(f'{output_dir_below_9_30}/{folder_name}_top_40_combinations.csv', index=False)\n",
    "            \n",
    "            best_trade_results_below_9_30 = combined_trade_results_below_9_30[(combined_trade_results_below_9_30['Target Profit'] == best_combination_below_9_30['Profit Target']) & \n",
    "                                                                             (combined_trade_results_below_9_30['Stop Loss'] == best_combination_below_9_30['Stop Loss'])]\n",
    "            trade_summary_below_9_30 = summarize_trade_results(best_trade_results_below_9_30)\n",
    "            trade_summary_df_below_9_30 = pd.DataFrame([trade_summary_below_9_30])\n",
    "            trade_summary_df_below_9_30.to_csv(f'{output_dir_below_9_30}/{folder_name}_trade_summary.csv', index=False)\n",
    "            \n",
    "            labels = ['Target Hit', 'Stop Loss Hit', 'End of Day Exit']\n",
    "            sizes = [trade_summary_below_9_30['Target Hit'], trade_summary_below_9_30['Stop Loss Hit'], trade_summary_below_9_30['End of Day Exit']]\n",
    "            colors = ['lightgreen', 'lightcoral', 'lightskyblue']\n",
    "            plt.figure(figsize=(8, 8))\n",
    "            plt.pie(sizes, labels=labels, colors=colors, autopct='%1.1f%%', startangle=140)\n",
    "            plt.title(f'Trade Summary for Best PNL Combination (Before 9:30 AM)\\n{folder_name} - {condition}')\n",
    "            plt.axis('equal')\n",
    "            plt.savefig(f'{output_dir_below_9_30}/{folder_name}_trade_summary_pie_chart.png')\n",
    "            plt.close()\n",
    "            \n",
    "            plt.figure(figsize=(12, 8))\n",
    "            plt.barh(['Total Trades'], [trade_summary_below_9_30['Total Trades']], color='skyblue')\n",
    "            plt.xlabel('Count')\n",
    "            plt.ylabel('Total Trades')\n",
    "            plt.title(f'Total Trades for Best PNL Combination (Before 9:30 AM)\\n{folder_name} - {condition}')\n",
    "            plt.tight_layout()\n",
    "            plt.savefig(f'{output_dir_below_9_30}/{folder_name}_total_trades_bar_chart.png')\n",
    "            plt.close()\n",
    "        \n",
    "            plt.figure(figsize=(12, 8))\n",
    "            plt.barh(['Max Drawdown'], [trade_summary_below_9_30['Max Drawdown']], color='red')\n",
    "            plt.xlabel('Max Drawdown')\n",
    "            plt.ylabel('Max Drawdown Value')\n",
    "            plt.title(f'Max Drawdown for Best PNL Combination (Before 9:30 AM)\\n{folder_name} - {condition}')\n",
    "            plt.tight_layout()\n",
    "            plt.savefig(f'{output_dir_below_9_30}/{folder_name}_max_drawdown_bar_chart.png')\n",
    "            plt.close()\n",
    "        \n",
    "            plt.figure(figsize=(12, 8))\n",
    "            plt.barh(top_40_combinations_below_9_30['Profit Target'].astype(str) + \" / \" + top_40_combinations_below_9_30['Stop Loss'].astype(str),\n",
    "                     top_40_combinations_below_9_30['Total Profit'], color='skyblue')\n",
    "            plt.xlabel('Total Profit')\n",
    "            plt.ylabel('Profit Target / Stop Loss')\n",
    "            plt.title(f'Top 40 Profit Target and Stop Loss Combinations (Before 9:30 AM)\\n{folder_name} - {condition}')\n",
    "            plt.gca().invert_yaxis()\n",
    "            plt.tight_layout()\n",
    "            plt.savefig(f'{output_dir_below_9_30}/{folder_name}_top_40_combinations.png')\n",
    "            plt.close()\n",
    "\n",
    "        # Combine and save results for end of day exits\n",
    "        if pnl_results_eod:\n",
    "            combined_pnl_results_eod = pd.concat(pnl_results_eod, ignore_index=True)\n",
    "            combined_pnl_results_eod = combined_pnl_results_eod.groupby(['Profit Target', 'Stop Loss'], as_index=False)['Total Profit'].sum()\n",
    "            combined_trade_results_eod = pd.concat(trade_results_combined_eod, ignore_index=True)\n",
    "            combined_all_results_eod = pd.concat(all_combined_results_eod, ignore_index=True)\n",
    "\n",
    "            output_dir_eod = f'Outputs/DayTrade/SOSI/5min/{folder_name}_{condition}_eod'\n",
    "            os.makedirs(output_dir_eod, exist_ok=True)\n",
    "            \n",
    "            combined_pnl_results_eod.to_csv(f'{output_dir_eod}/{folder_name}_pnl_analysis.csv', index=False)\n",
    "            combined_trade_results_eod.to_csv(f'{output_dir_eod}/{folder_name}_trade_results.csv', index=False)\n",
    "            combined_all_results_eod.to_csv(f'{output_dir_eod}/{folder_name}_all_combined_results.csv', index=False)\n",
    "            \n",
    "            best_combination_eod = combined_pnl_results_eod.loc[combined_pnl_results_eod['Total Profit'].idxmax()]\n",
    "            best_combination_df_eod = pd.DataFrame([best_combination_eod])\n",
    "            best_combination_df_eod.to_csv(f'{output_dir_eod}/{folder_name}_best_combination.csv', index=False)\n",
    "            \n",
    "            top_40_combinations_eod = combined_pnl_results_eod.sort_values(by='Total Profit', ascending=False).head(40)\n",
    "            top_40_combinations_eod.to_csv(f'{output_dir_eod}/{folder_name}_top_40_combinations.csv', index=False)\n",
    "            \n",
    "            best_trade_results_eod = combined_trade_results_eod[(combined_trade_results_eod['Target Profit'] == best_combination_eod['Profit Target']) & \n",
    "                                                                (combined_trade_results_eod['Stop Loss'] == best_combination_eod['Stop Loss'])]\n",
    "            trade_summary_eod = summarize_trade_results(best_trade_results_eod)\n",
    "            trade_summary_df_eod = pd.DataFrame([trade_summary_eod])\n",
    "            trade_summary_df_eod.to_csv(f'{output_dir_eod}/{folder_name}_trade_summary.csv', index=False)\n",
    "            \n",
    "            labels = ['Target Hit', 'Stop Loss Hit', 'End of Day Exit']\n",
    "            sizes = [trade_summary_eod['Target Hit'], trade_summary_eod['Stop Loss Hit'], trade_summary_eod['End of Day Exit']]\n",
    "            colors = ['lightgreen', 'lightcoral', 'lightskyblue']\n",
    "            plt.figure(figsize=(8, 8))\n",
    "            plt.pie(sizes, labels=labels, colors=colors, autopct='%1.1f%%', startangle=140)\n",
    "            plt.title(f'Trade Summary for Best PNL Combination (EOD)\\n{folder_name} - {condition}')\n",
    "            plt.axis('equal')\n",
    "            plt.savefig(f'{output_dir_eod}/{folder_name}_trade_summary_pie_chart.png')\n",
    "            plt.close()\n",
    "            \n",
    "            plt.figure(figsize=(12, 8))\n",
    "            plt.barh(['Total Trades'], [trade_summary_eod['Total Trades']], color='skyblue')\n",
    "            plt.xlabel('Count')\n",
    "            plt.ylabel('Total Trades')\n",
    "            plt.title(f'Total Trades for Best PNL Combination (EOD)\\n{folder_name} - {condition}')\n",
    "            plt.tight_layout()\n",
    "            plt.savefig(f'{output_dir_eod}/{folder_name}_total_trades_bar_chart.png')\n",
    "            plt.close()\n",
    "        \n",
    "            plt.figure(figsize=(12, 8))\n",
    "            plt.barh(['Max Drawdown'], [trade_summary_eod['Max Drawdown']], color='red')\n",
    "            plt.xlabel('Max Drawdown')\n",
    "            plt.ylabel('Max Drawdown Value')\n",
    "            plt.title(f'Max Drawdown for Best PNL Combination (EOD)\\n{folder_name} - {condition}')\n",
    "            plt.tight_layout()\n",
    "            plt.savefig(f'{output_dir_eod}/{folder_name}_max_drawdown_bar_chart.png')\n",
    "            plt.close()\n",
    "        \n",
    "            plt.figure(figsize=(12, 8))\n",
    "            plt.barh(top_40_combinations_eod['Profit Target'].astype(str) + \" / \" + top_40_combinations_eod['Stop Loss'].astype(str),\n",
    "                     top_40_combinations_eod['Total Profit'], color='skyblue')\n",
    "            plt.xlabel('Total Profit')\n",
    "            plt.ylabel('Profit Target / Stop Loss')\n",
    "            plt.title(f'Top 40 Profit Target and Stop Loss Combinations (EOD)\\n{folder_name} - {condition}')\n",
    "            plt.gca().invert_yaxis()\n",
    "            plt.tight_layout()\n",
    "            plt.savefig(f'{output_dir_eod}/{folder_name}_top_40_combinations.png')\n",
    "            plt.close()\n",
    "\n",
    "        # Combine and save results for carry over trades\n",
    "        if pnl_results_carry_over:\n",
    "            combined_pnl_results_carry_over = pd.concat(pnl_results_carry_over, ignore_index=True)\n",
    "            combined_pnl_results_carry_over = combined_pnl_results_carry_over.groupby(['Profit Target', 'Stop Loss'], as_index=False)['Total Profit'].sum()\n",
    "            combined_trade_results_carry_over = pd.concat(trade_results_combined_carry_over, ignore_index=True)\n",
    "            combined_all_results_carry_over = pd.concat(all_combined_results_carry_over, ignore_index=True)\n",
    "\n",
    "            output_dir_carry_over = f'Outputs/DayTrade/SOSI/5min/{folder_name}_{condition}_carry_over'\n",
    "            os.makedirs(output_dir_carry_over, exist_ok=True)\n",
    "            \n",
    "            combined_pnl_results_carry_over.to_csv(f'{output_dir_carry_over}/{folder_name}_pnl_analysis.csv', index=False)\n",
    "            combined_trade_results_carry_over.to_csv(f'{output_dir_carry_over}/{folder_name}_trade_results.csv', index=False)\n",
    "            combined_all_results_carry_over.to_csv(f'{output_dir_carry_over}/{folder_name}_all_combined_results.csv', index=False)\n",
    "            \n",
    "            best_combination_carry_over = combined_pnl_results_carry_over.loc[combined_pnl_results_carry_over['Total Profit'].idxmax()]\n",
    "            best_combination_df_carry_over = pd.DataFrame([best_combination_carry_over])\n",
    "            best_combination_df_carry_over.to_csv(f'{output_dir_carry_over}/{folder_name}_best_combination.csv', index=False)\n",
    "            \n",
    "            top_40_combinations_carry_over = combined_pnl_results_carry_over.sort_values(by='Total Profit', ascending=False).head(40)\n",
    "            top_40_combinations_carry_over.to_csv(f'{output_dir_carry_over}/{folder_name}_top_40_combinations.csv', index=False)\n",
    "            \n",
    "           \n",
    "            best_trade_results_carry_over = combined_trade_results_carry_over[(combined_trade_results_carry_over['Target Profit'] == best_combination_carry_over['Profit Target']) & \n",
    "                                                                              (combined_trade_results_carry_over['Stop Loss'] == best_combination_carry_over['Stop Loss'])]\n",
    "            trade_summary_carry_over = summarize_trade_results(best_trade_results_carry_over)\n",
    "            trade_summary_df_carry_over = pd.DataFrame([trade_summary_carry_over])\n",
    "            trade_summary_df_carry_over.to_csv(f'{output_dir_carry_over}/{folder_name}_trade_summary.csv', index=False)\n",
    "            \n",
    "            labels = ['Target Hit', 'Stop Loss Hit', 'End of Day Exit']\n",
    "            sizes = [trade_summary_carry_over['Target Hit'], trade_summary_carry_over['Stop Loss Hit'], trade_summary_carry_over['End of Day Exit']]\n",
    "            colors = ['lightgreen', 'lightcoral', 'lightskyblue']\n",
    "            plt.figure(figsize=(8, 8))\n",
    "            plt.pie(sizes, labels=labels, colors=colors, autopct='%1.1f%%', startangle=140)\n",
    "            plt.title(f'Trade Summary for Best PNL Combination (Carry Over)\\n{folder_name} - {condition}')\n",
    "            plt.axis('equal')\n",
    "            plt.savefig(f'{output_dir_carry_over}/{folder_name}_trade_summary_pie_chart.png')\n",
    "            plt.close()\n",
    "            \n",
    "            plt.figure(figsize=(12, 8))\n",
    "            plt.barh(['Total Trades'], [trade_summary_carry_over['Total Trades']], color='skyblue')\n",
    "            plt.xlabel('Count')\n",
    "            plt.ylabel('Total Trades')\n",
    "            plt.title(f'Total Trades for Best PNL Combination (Carry Over)\\n{folder_name} - {condition}')\n",
    "            plt.tight_layout()\n",
    "            plt.savefig(f'{output_dir_carry_over}/{folder_name}_total_trades_bar_chart.png')\n",
    "            plt.close()\n",
    "        \n",
    "            plt.figure(figsize=(12, 8))\n",
    "            plt.barh(['Max Drawdown'], [trade_summary_carry_over['Max Drawdown']], color='red')\n",
    "            plt.xlabel('Max Drawdown')\n",
    "            plt.ylabel('Max Drawdown Value')\n",
    "            plt.title(f'Max Drawdown for Best PNL Combination (Carry Over)\\n{folder_name} - {condition}')\n",
    "            plt.tight_layout()\n",
    "            plt.savefig(f'{output_dir_carry_over}/{folder_name}_max_drawdown_bar_chart.png')\n",
    "            plt.close()\n",
    "        \n",
    "            plt.figure(figsize=(12, 8))\n",
    "            plt.barh(top_40_combinations_carry_over['Profit Target'].astype(str) + \" / \" + top_40_combinations_carry_over['Stop Loss'].astype(str),\n",
    "                     top_40_combinations_carry_over['Total Profit'], color='skyblue')\n",
    "            plt.xlabel('Total Profit')\n",
    "            plt.ylabel('Profit Target / Stop Loss')\n",
    "            plt.title(f'Top 40 Profit Target and Stop Loss Combinations (Carry Over)\\n{folder_name} - {condition}')\n",
    "            plt.gca().invert_yaxis()\n",
    "            plt.tight_layout()\n",
    "            plt.savefig(f'{output_dir_carry_over}/{folder_name}_top_40_combinations.png')\n",
    "            plt.close()\n",
    "\n",
    "print(\"Analysis complete.\")\n",
    "\n"
   ]
  }
 ],
 "metadata": {
  "kernelspec": {
   "display_name": "Python 3",
   "language": "python",
   "name": "python3"
  },
  "language_info": {
   "codemirror_mode": {
    "name": "ipython",
    "version": 3
   },
   "file_extension": ".py",
   "mimetype": "text/x-python",
   "name": "python",
   "nbconvert_exporter": "python",
   "pygments_lexer": "ipython3",
   "version": "3.11.4"
  }
 },
 "nbformat": 4,
 "nbformat_minor": 2
}
